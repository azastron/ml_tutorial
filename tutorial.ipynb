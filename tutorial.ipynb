{
 "cells": [
  {
   "cell_type": "markdown",
   "metadata": {},
   "source": [
    "# TUTORIALS\n",
    "\n",
    "These are useful notes/codes I have taken from Andreas Muller's Applied Machine Learning Course at Columbia. "
   ]
  },
  {
   "cell_type": "markdown",
   "metadata": {},
   "source": [
    "## K Nearest Neighbors"
   ]
  },
  {
   "cell_type": "code",
   "execution_count": 393,
   "metadata": {},
   "outputs": [],
   "source": [
    "X_train, X_test, y_train, y_test = train_test_split(X, y)"
   ]
  },
  {
   "cell_type": "code",
   "execution_count": null,
   "metadata": {},
   "outputs": [],
   "source": [
    "knn = KNeighborsClassifier(n_neighbors=1)\n",
    "knn.fit(X_train, y_train)\n",
    "knn.score(X_test, y_test)\n",
    "knn.predict(X_test)"
   ]
  },
  {
   "cell_type": "code",
   "execution_count": null,
   "metadata": {},
   "outputs": [],
   "source": [
    "# decide on what number of nearest neighbors we should consider.\n",
    "X_trainval, X_test, y_trainval, y_test = train_test_split(X, y)\n",
    "X_train, X_val, y_train, y_val = train_test_split(X_trainval, y_trainval)\n",
    "\n",
    "val_score = []\n",
    "neighbors = np.arange(1,15,2)\n",
    "for i in neighbors:\n",
    "    knn = KNeighborsClassifier(n_neighbors=i)\n",
    "    knn.fit(X_train, y_train)\n",
    "    val_score.append(knn.score(X_val, y_val))\n",
    "best_n_neighbor = neighbors[np.argmax(val_score)]\n",
    "\n",
    "knn = KNeighborsClassifier(n_neighbors=best_n_neighbor)\n",
    "knn.fit(X_trainval, y_trainval)\n",
    "knn.score(X_test, y_test)\n",
    "y_pred = knn.predict(X_test)"
   ]
  },
  {
   "cell_type": "markdown",
   "metadata": {},
   "source": [
    "## Cross Validation"
   ]
  },
  {
   "cell_type": "code",
   "execution_count": null,
   "metadata": {},
   "outputs": [],
   "source": [
    "X_train, X_test, y_train, y_test = train_test_split(X, y)\n",
    "\n",
    "cross_val_score = []\n",
    "\n",
    "for i in neighbors:\n",
    "    knn = KNeighborsClassifier(n_neighbors=i)\n",
    "    scores = cross_val_score(knn, X_train, y_train, cv=10)\n",
    "    cross_val_score.append(np.mean(scores))\n",
    "    \n",
    "best_n_neighbor = neighbors[np.argmax(cross_val_score)]\n",
    "\n",
    "knn = KNeighborsClassifier(n_neighbors=best_n_neighbor)\n",
    "knn.fit(X_train, y_train)\n",
    "knn.score(X_test, y_test)"
   ]
  },
  {
   "cell_type": "markdown",
   "metadata": {},
   "source": [
    "## Grid Search Cross Validation"
   ]
  },
  {
   "cell_type": "code",
   "execution_count": null,
   "metadata": {},
   "outputs": [],
   "source": [
    "X_train, X_test, y_train, y_test = train_test_split(X, y, stratify=y)\n",
    "\n",
    "param_grid = {'n_neighbors': np.arange(1, 15, 2)}\n",
    "\n",
    "grid = GridSearchCV(KNeighborsClassifier(), param_grid=param_grid, cv=10, return_train_score=true)\n",
    "grid.fit(X_train, y_train)\n",
    "\n",
    "grid.best_score_\n",
    "grid.best_params_\n",
    "grid.score(X_test, y_test)\n",
    "\n",
    "#or\n",
    "\n",
    "print(\"test-set score: {:.3f}\").format(grid.score(X_test, y_test))"
   ]
  },
  {
   "cell_type": "code",
   "execution_count": null,
   "metadata": {},
   "outputs": [],
   "source": [
    "results = pd.DataFrame(grid.cv_results_)\n",
    "results.columns\n",
    "results.params"
   ]
  },
  {
   "cell_type": "markdown",
   "metadata": {},
   "source": [
    "### Kfold"
   ]
  },
  {
   "cell_type": "code",
   "execution_count": null,
   "metadata": {},
   "outputs": [],
   "source": [
    "dc=DummyClassifier('most_frequent')\n",
    "\n",
    "kf = KFold(n_splits=5, shuffle=True)\n",
    "res = cross_val_score(dc, X, y, cv=kf)\n",
    "np.mean(res), res.std()"
   ]
  },
  {
   "cell_type": "markdown",
   "metadata": {},
   "source": [
    "### Stratistification"
   ]
  },
  {
   "cell_type": "code",
   "execution_count": null,
   "metadata": {},
   "outputs": [],
   "source": [
    "skf = StratifiedKFold(n_splits=5, shuffle=True)\n",
    "res = cross_val_score(dc, X, y, cv=skf)\n",
    "np.mean(res), res.std()"
   ]
  },
  {
   "cell_type": "markdown",
   "metadata": {},
   "source": [
    "### Shuffle Split"
   ]
  },
  {
   "cell_type": "code",
   "execution_count": null,
   "metadata": {},
   "outputs": [],
   "source": [
    "ss = ShuffleSplit(n_splits=20, train_size=0.4, test_size=0.3)\n",
    "rs = RepeatedStratifiedKFold(n_splits=5, n_repeats=10)"
   ]
  },
  {
   "cell_type": "code",
   "execution_count": null,
   "metadata": {},
   "outputs": [],
   "source": [
    "cross_val_score(KNeighborsClassifier(), X, y, cv=ss)\n",
    "cross_val_score(KNeighborsClassifier(), X, y, cv=rs)"
   ]
  },
  {
   "cell_type": "markdown",
   "metadata": {},
   "source": [
    "### Cross Validate"
   ]
  },
  {
   "cell_type": "code",
   "execution_count": null,
   "metadata": {},
   "outputs": [],
   "source": [
    "res = cross_validate(KNeighborsClassifier(), X, y, return_train_score=True, scoring=[\"accuracy\",\"roc_auc\"])\n",
    "res_df = pd.DataFrame(res)"
   ]
  },
  {
   "cell_type": "markdown",
   "metadata": {},
   "source": [
    "## Standard Scaler"
   ]
  },
  {
   "cell_type": "code",
   "execution_count": null,
   "metadata": {},
   "outputs": [],
   "source": [
    "X_train, X_test, y_train, y_test = train_test_split(X, y, random_state=0)\n",
    "\n",
    "scaler = StandardScaler()\n",
    "scaler.fit(X_train)\n",
    "X_train_scaled = scaler.transform(X_train)\n",
    "\n",
    "ridge = Ridge().fit(X_train_scaled, y_train)\n",
    "X_test_scaled = scaler.transform(X_test)\n",
    "ridge.score(X_test_scaled, y_test)"
   ]
  },
  {
   "cell_type": "markdown",
   "metadata": {},
   "source": [
    "## Pipeline"
   ]
  },
  {
   "cell_type": "code",
   "execution_count": 410,
   "metadata": {},
   "outputs": [
    {
     "name": "stdout",
     "output_type": "stream",
     "text": [
      "[('standardscaler', StandardScaler(copy=True, with_mean=True, with_std=True)), ('kneighborsregressor', KNeighborsRegressor(algorithm='auto', leaf_size=30, metric='minkowski',\n",
      "                    metric_params=None, n_jobs=None, n_neighbors=5, p=2,\n",
      "                    weights='uniform'))]\n"
     ]
    }
   ],
   "source": [
    "knn_pipe = make_pipeline(StandardScaler(), KNeighborsRegressor())\n",
    "\n",
    "print(knn_pipe.steps)"
   ]
  },
  {
   "cell_type": "code",
   "execution_count": 414,
   "metadata": {},
   "outputs": [
    {
     "name": "stdout",
     "output_type": "stream",
     "text": [
      "Pipeline(memory=None,\n",
      "         steps=(('scaler',\n",
      "                 StandardScaler(copy=True, with_mean=True, with_std=True)),\n",
      "                ('regressor',\n",
      "                 <class 'sklearn.neighbors.regression.KNeighborsRegressor'>)),\n",
      "         verbose=False)\n"
     ]
    }
   ],
   "source": [
    "pipe = Pipeline(((\"scaler\", StandardScaler()), (\"regressor\",KNeighborsRegressor)))\n",
    "\n",
    "print(pipe)"
   ]
  },
  {
   "cell_type": "code",
   "execution_count": null,
   "metadata": {},
   "outputs": [],
   "source": [
    "param_grid = {'kneighborsregressor__n_neighbors': range(1, 10)}\n",
    "grid = GridSearchCV(knn_pipe, param_grid, cv=10)\n",
    "grid.fit(X_train, y_train)\n",
    "print(grid.best_params_)\n",
    "print(grid.score(X_test, y_test))"
   ]
  },
  {
   "cell_type": "markdown",
   "metadata": {},
   "source": [
    "### Going wild with Pipelines"
   ]
  },
  {
   "cell_type": "code",
   "execution_count": 415,
   "metadata": {},
   "outputs": [],
   "source": [
    "from sklearn.datasets import load_diabetes"
   ]
  },
  {
   "cell_type": "code",
   "execution_count": 418,
   "metadata": {},
   "outputs": [],
   "source": [
    "diabetes = load_diabetes()"
   ]
  },
  {
   "cell_type": "code",
   "execution_count": 419,
   "metadata": {},
   "outputs": [],
   "source": [
    "X_train, X_test, y_train, y_test = train_test_split(diabetes.data, diabetes.target, random_state=0)"
   ]
  },
  {
   "cell_type": "code",
   "execution_count": 423,
   "metadata": {},
   "outputs": [],
   "source": [
    "pipe = make_pipeline(StandardScaler(), PolynomialFeatures(), Ridge())"
   ]
  },
  {
   "cell_type": "code",
   "execution_count": null,
   "metadata": {},
   "outputs": [],
   "source": [
    "param_grid = {'polynomialfeatures__degree': [1, 2, 3], 'ridge__alpha': [0.001, 0.01, 0.1, 1, 10, 100]}\n",
    "grid = GridSearchCV(pipe, param_grid=param_grid, n_jobs=-1, return_train_score=True, cv=5)\n",
    "grid.fit(X_train, y_train)"
   ]
  },
  {
   "cell_type": "code",
   "execution_count": 427,
   "metadata": {},
   "outputs": [],
   "source": [
    "pipe = Pipeline([('scaler', StandardScaler()), ('regressor', Ridge())])"
   ]
  },
  {
   "cell_type": "code",
   "execution_count": 431,
   "metadata": {},
   "outputs": [],
   "source": [
    "param_grid = {'scaler': [StandardScaler(), MinMaxScaler(), 'passthrough'],\n",
    "             'regressor':[Ridge(), Lasso()], 'regressor__alpha': np.logspace(-3, 3, 7)}"
   ]
  },
  {
   "cell_type": "code",
   "execution_count": 434,
   "metadata": {},
   "outputs": [],
   "source": [
    "grid = GridSearchCV(pipe, param_grid, cv=5)"
   ]
  },
  {
   "cell_type": "code",
   "execution_count": 435,
   "metadata": {},
   "outputs": [
    {
     "data": {
      "text/plain": [
       "GridSearchCV(cv=5, error_score='raise-deprecating',\n",
       "             estimator=Pipeline(memory=None,\n",
       "                                steps=[('scaler',\n",
       "                                        StandardScaler(copy=True,\n",
       "                                                       with_mean=True,\n",
       "                                                       with_std=True)),\n",
       "                                       ('regressor',\n",
       "                                        Ridge(alpha=1.0, copy_X=True,\n",
       "                                              fit_intercept=True, max_iter=None,\n",
       "                                              normalize=False,\n",
       "                                              random_state=None, solver='auto',\n",
       "                                              tol=0.001))],\n",
       "                                verbose=False),\n",
       "             iid='warn', n_jobs=None,\n",
       "             param_grid={'regressor'...\n",
       "                                             random_state=None,\n",
       "                                             selection='cyclic', tol=0.0001,\n",
       "                                             warm_start=False)],\n",
       "                         'regressor__alpha': array([1.e-03, 1.e-02, 1.e-01, 1.e+00, 1.e+01, 1.e+02, 1.e+03]),\n",
       "                         'scaler': [StandardScaler(copy=True, with_mean=True,\n",
       "                                                   with_std=True),\n",
       "                                    MinMaxScaler(copy=True,\n",
       "                                                 feature_range=(0, 1)),\n",
       "                                    'passthrough']},\n",
       "             pre_dispatch='2*n_jobs', refit=True, return_train_score=False,\n",
       "             scoring=None, verbose=0)"
      ]
     },
     "execution_count": 435,
     "metadata": {},
     "output_type": "execute_result"
    }
   ],
   "source": [
    "grid.fit(X_train, y_train)"
   ]
  },
  {
   "cell_type": "code",
   "execution_count": 436,
   "metadata": {},
   "outputs": [
    {
     "data": {
      "text/plain": [
       "0.35500225702888577"
      ]
     },
     "execution_count": 436,
     "metadata": {},
     "output_type": "execute_result"
    }
   ],
   "source": [
    "grid.score(X_test, y_test)"
   ]
  },
  {
   "cell_type": "markdown",
   "metadata": {},
   "source": [
    "### Going wildest with Pipelines: \n",
    "using lists of dictionaries for param_grid to check out searchgrid for more convenience**"
   ]
  },
  {
   "cell_type": "code",
   "execution_count": 439,
   "metadata": {},
   "outputs": [],
   "source": [
    "pipe = Pipeline([('scaler', StandardScaler()), ('regressor', Ridge())])"
   ]
  },
  {
   "cell_type": "code",
   "execution_count": 440,
   "metadata": {},
   "outputs": [],
   "source": [
    "param_grid = [{'regressor': [DecisionTreeRegressor()], 'regressor__max_depth':[2, 3, 4],\n",
    "               'scaler':['passthrough']},\n",
    "              {'regressor':[Ridge()], 'regressor__alpha': [0.1, 1],\n",
    "               'scaler':[StandardScaler(), MinMaxScaler(), 'passthrough']}]"
   ]
  },
  {
   "cell_type": "code",
   "execution_count": 441,
   "metadata": {},
   "outputs": [],
   "source": [
    "grid = GridSearchCV(pipe, param_grid = param_grid, cv=5)"
   ]
  },
  {
   "cell_type": "code",
   "execution_count": 442,
   "metadata": {},
   "outputs": [
    {
     "data": {
      "text/plain": [
       "GridSearchCV(cv=5, error_score='raise-deprecating',\n",
       "             estimator=Pipeline(memory=None,\n",
       "                                steps=[('scaler',\n",
       "                                        StandardScaler(copy=True,\n",
       "                                                       with_mean=True,\n",
       "                                                       with_std=True)),\n",
       "                                       ('regressor',\n",
       "                                        Ridge(alpha=1.0, copy_X=True,\n",
       "                                              fit_intercept=True, max_iter=None,\n",
       "                                              normalize=False,\n",
       "                                              random_state=None, solver='auto',\n",
       "                                              tol=0.001))],\n",
       "                                verbose=False),\n",
       "             iid='warn', n_jobs=None,\n",
       "             param_grid=[{'regressor...\n",
       "                         {'regressor': [Ridge(alpha=0.1, copy_X=True,\n",
       "                                              fit_intercept=True, max_iter=None,\n",
       "                                              normalize=False,\n",
       "                                              random_state=None, solver='auto',\n",
       "                                              tol=0.001)],\n",
       "                          'regressor__alpha': [0.1, 1],\n",
       "                          'scaler': [StandardScaler(copy=True, with_mean=True,\n",
       "                                                    with_std=True),\n",
       "                                     MinMaxScaler(copy=True,\n",
       "                                                  feature_range=(0, 1)),\n",
       "                                     'passthrough']}],\n",
       "             pre_dispatch='2*n_jobs', refit=True, return_train_score=False,\n",
       "             scoring=None, verbose=0)"
      ]
     },
     "execution_count": 442,
     "metadata": {},
     "output_type": "execute_result"
    }
   ],
   "source": [
    "grid.fit(X_train, y_train)"
   ]
  },
  {
   "cell_type": "code",
   "execution_count": 443,
   "metadata": {},
   "outputs": [
    {
     "data": {
      "text/plain": [
       "0.36901969445308325"
      ]
     },
     "execution_count": 443,
     "metadata": {},
     "output_type": "execute_result"
    }
   ],
   "source": [
    "grid.score(X_test, y_test)"
   ]
  },
  {
   "cell_type": "markdown",
   "metadata": {},
   "source": [
    "## Categorical Data: Ordinal Encoding"
   ]
  },
  {
   "cell_type": "code",
   "execution_count": 585,
   "metadata": {},
   "outputs": [],
   "source": [
    "df = pd.DataFrame({'boro':['Manhattan','Queens','Manhattan','Brooklyn','Brooklyn', 'Bronx'],\n",
    "                   'salary':[103, 89, 142, 54, 63, 219],\n",
    "                   'vegan':['No','No','No','Yes','Yes','No']})"
   ]
  },
  {
   "cell_type": "code",
   "execution_count": 586,
   "metadata": {},
   "outputs": [
    {
     "data": {
      "text/html": [
       "<div>\n",
       "<style scoped>\n",
       "    .dataframe tbody tr th:only-of-type {\n",
       "        vertical-align: middle;\n",
       "    }\n",
       "\n",
       "    .dataframe tbody tr th {\n",
       "        vertical-align: top;\n",
       "    }\n",
       "\n",
       "    .dataframe thead th {\n",
       "        text-align: right;\n",
       "    }\n",
       "</style>\n",
       "<table border=\"1\" class=\"dataframe\">\n",
       "  <thead>\n",
       "    <tr style=\"text-align: right;\">\n",
       "      <th></th>\n",
       "      <th>boro</th>\n",
       "      <th>salary</th>\n",
       "      <th>vegan</th>\n",
       "    </tr>\n",
       "  </thead>\n",
       "  <tbody>\n",
       "    <tr>\n",
       "      <td>0</td>\n",
       "      <td>Manhattan</td>\n",
       "      <td>103</td>\n",
       "      <td>No</td>\n",
       "    </tr>\n",
       "    <tr>\n",
       "      <td>1</td>\n",
       "      <td>Queens</td>\n",
       "      <td>89</td>\n",
       "      <td>No</td>\n",
       "    </tr>\n",
       "    <tr>\n",
       "      <td>2</td>\n",
       "      <td>Manhattan</td>\n",
       "      <td>142</td>\n",
       "      <td>No</td>\n",
       "    </tr>\n",
       "    <tr>\n",
       "      <td>3</td>\n",
       "      <td>Brooklyn</td>\n",
       "      <td>54</td>\n",
       "      <td>Yes</td>\n",
       "    </tr>\n",
       "    <tr>\n",
       "      <td>4</td>\n",
       "      <td>Brooklyn</td>\n",
       "      <td>63</td>\n",
       "      <td>Yes</td>\n",
       "    </tr>\n",
       "    <tr>\n",
       "      <td>5</td>\n",
       "      <td>Bronx</td>\n",
       "      <td>219</td>\n",
       "      <td>No</td>\n",
       "    </tr>\n",
       "  </tbody>\n",
       "</table>\n",
       "</div>"
      ],
      "text/plain": [
       "        boro  salary vegan\n",
       "0  Manhattan     103    No\n",
       "1     Queens      89    No\n",
       "2  Manhattan     142    No\n",
       "3   Brooklyn      54   Yes\n",
       "4   Brooklyn      63   Yes\n",
       "5      Bronx     219    No"
      ]
     },
     "execution_count": 586,
     "metadata": {},
     "output_type": "execute_result"
    }
   ],
   "source": [
    "df"
   ]
  },
  {
   "cell_type": "code",
   "execution_count": 447,
   "metadata": {},
   "outputs": [],
   "source": [
    "df['boro_ordinal'] = df.boro.astype(\"category\").cat.codes"
   ]
  },
  {
   "cell_type": "code",
   "execution_count": 448,
   "metadata": {},
   "outputs": [
    {
     "data": {
      "text/html": [
       "<div>\n",
       "<style scoped>\n",
       "    .dataframe tbody tr th:only-of-type {\n",
       "        vertical-align: middle;\n",
       "    }\n",
       "\n",
       "    .dataframe tbody tr th {\n",
       "        vertical-align: top;\n",
       "    }\n",
       "\n",
       "    .dataframe thead th {\n",
       "        text-align: right;\n",
       "    }\n",
       "</style>\n",
       "<table border=\"1\" class=\"dataframe\">\n",
       "  <thead>\n",
       "    <tr style=\"text-align: right;\">\n",
       "      <th></th>\n",
       "      <th>boro</th>\n",
       "      <th>salary</th>\n",
       "      <th>vegan</th>\n",
       "      <th>boro_ordinal</th>\n",
       "    </tr>\n",
       "  </thead>\n",
       "  <tbody>\n",
       "    <tr>\n",
       "      <td>0</td>\n",
       "      <td>Manhattan</td>\n",
       "      <td>103</td>\n",
       "      <td>No</td>\n",
       "      <td>2</td>\n",
       "    </tr>\n",
       "    <tr>\n",
       "      <td>1</td>\n",
       "      <td>Queens</td>\n",
       "      <td>89</td>\n",
       "      <td>No</td>\n",
       "      <td>3</td>\n",
       "    </tr>\n",
       "    <tr>\n",
       "      <td>2</td>\n",
       "      <td>Manhattan</td>\n",
       "      <td>142</td>\n",
       "      <td>No</td>\n",
       "      <td>2</td>\n",
       "    </tr>\n",
       "    <tr>\n",
       "      <td>3</td>\n",
       "      <td>Brooklyn</td>\n",
       "      <td>54</td>\n",
       "      <td>Yes</td>\n",
       "      <td>1</td>\n",
       "    </tr>\n",
       "    <tr>\n",
       "      <td>4</td>\n",
       "      <td>Brooklyn</td>\n",
       "      <td>63</td>\n",
       "      <td>Yes</td>\n",
       "      <td>1</td>\n",
       "    </tr>\n",
       "    <tr>\n",
       "      <td>5</td>\n",
       "      <td>Bronx</td>\n",
       "      <td>219</td>\n",
       "      <td>No</td>\n",
       "      <td>0</td>\n",
       "    </tr>\n",
       "  </tbody>\n",
       "</table>\n",
       "</div>"
      ],
      "text/plain": [
       "        boro  salary vegan  boro_ordinal\n",
       "0  Manhattan     103    No             2\n",
       "1     Queens      89    No             3\n",
       "2  Manhattan     142    No             2\n",
       "3   Brooklyn      54   Yes             1\n",
       "4   Brooklyn      63   Yes             1\n",
       "5      Bronx     219    No             0"
      ]
     },
     "execution_count": 448,
     "metadata": {},
     "output_type": "execute_result"
    }
   ],
   "source": [
    "df"
   ]
  },
  {
   "cell_type": "markdown",
   "metadata": {},
   "source": [
    "### One-Hot (Dummy) Encoding"
   ]
  },
  {
   "cell_type": "code",
   "execution_count": 451,
   "metadata": {},
   "outputs": [
    {
     "data": {
      "text/html": [
       "<div>\n",
       "<style scoped>\n",
       "    .dataframe tbody tr th:only-of-type {\n",
       "        vertical-align: middle;\n",
       "    }\n",
       "\n",
       "    .dataframe tbody tr th {\n",
       "        vertical-align: top;\n",
       "    }\n",
       "\n",
       "    .dataframe thead th {\n",
       "        text-align: right;\n",
       "    }\n",
       "</style>\n",
       "<table border=\"1\" class=\"dataframe\">\n",
       "  <thead>\n",
       "    <tr style=\"text-align: right;\">\n",
       "      <th></th>\n",
       "      <th>salary</th>\n",
       "      <th>vegan</th>\n",
       "      <th>boro_ordinal</th>\n",
       "      <th>boro_Bronx</th>\n",
       "      <th>boro_Brooklyn</th>\n",
       "      <th>boro_Manhattan</th>\n",
       "      <th>boro_Queens</th>\n",
       "    </tr>\n",
       "  </thead>\n",
       "  <tbody>\n",
       "    <tr>\n",
       "      <td>0</td>\n",
       "      <td>103</td>\n",
       "      <td>No</td>\n",
       "      <td>2</td>\n",
       "      <td>0</td>\n",
       "      <td>0</td>\n",
       "      <td>1</td>\n",
       "      <td>0</td>\n",
       "    </tr>\n",
       "    <tr>\n",
       "      <td>1</td>\n",
       "      <td>89</td>\n",
       "      <td>No</td>\n",
       "      <td>3</td>\n",
       "      <td>0</td>\n",
       "      <td>0</td>\n",
       "      <td>0</td>\n",
       "      <td>1</td>\n",
       "    </tr>\n",
       "    <tr>\n",
       "      <td>2</td>\n",
       "      <td>142</td>\n",
       "      <td>No</td>\n",
       "      <td>2</td>\n",
       "      <td>0</td>\n",
       "      <td>0</td>\n",
       "      <td>1</td>\n",
       "      <td>0</td>\n",
       "    </tr>\n",
       "    <tr>\n",
       "      <td>3</td>\n",
       "      <td>54</td>\n",
       "      <td>Yes</td>\n",
       "      <td>1</td>\n",
       "      <td>0</td>\n",
       "      <td>1</td>\n",
       "      <td>0</td>\n",
       "      <td>0</td>\n",
       "    </tr>\n",
       "    <tr>\n",
       "      <td>4</td>\n",
       "      <td>63</td>\n",
       "      <td>Yes</td>\n",
       "      <td>1</td>\n",
       "      <td>0</td>\n",
       "      <td>1</td>\n",
       "      <td>0</td>\n",
       "      <td>0</td>\n",
       "    </tr>\n",
       "    <tr>\n",
       "      <td>5</td>\n",
       "      <td>219</td>\n",
       "      <td>No</td>\n",
       "      <td>0</td>\n",
       "      <td>1</td>\n",
       "      <td>0</td>\n",
       "      <td>0</td>\n",
       "      <td>0</td>\n",
       "    </tr>\n",
       "  </tbody>\n",
       "</table>\n",
       "</div>"
      ],
      "text/plain": [
       "   salary vegan  boro_ordinal  boro_Bronx  boro_Brooklyn  boro_Manhattan  \\\n",
       "0     103    No             2           0              0               1   \n",
       "1      89    No             3           0              0               0   \n",
       "2     142    No             2           0              0               1   \n",
       "3      54   Yes             1           0              1               0   \n",
       "4      63   Yes             1           0              1               0   \n",
       "5     219    No             0           1              0               0   \n",
       "\n",
       "   boro_Queens  \n",
       "0            0  \n",
       "1            1  \n",
       "2            0  \n",
       "3            0  \n",
       "4            0  \n",
       "5            0  "
      ]
     },
     "execution_count": 451,
     "metadata": {},
     "output_type": "execute_result"
    }
   ],
   "source": [
    "pd.get_dummies(df, columns=['boro'])"
   ]
  },
  {
   "cell_type": "code",
   "execution_count": 587,
   "metadata": {},
   "outputs": [
    {
     "data": {
      "text/html": [
       "<div>\n",
       "<style scoped>\n",
       "    .dataframe tbody tr th:only-of-type {\n",
       "        vertical-align: middle;\n",
       "    }\n",
       "\n",
       "    .dataframe tbody tr th {\n",
       "        vertical-align: top;\n",
       "    }\n",
       "\n",
       "    .dataframe thead th {\n",
       "        text-align: right;\n",
       "    }\n",
       "</style>\n",
       "<table border=\"1\" class=\"dataframe\">\n",
       "  <thead>\n",
       "    <tr style=\"text-align: right;\">\n",
       "      <th></th>\n",
       "      <th>salary</th>\n",
       "      <th>vegan</th>\n",
       "      <th>boro_Manhattan</th>\n",
       "      <th>boro_Queens</th>\n",
       "      <th>boro_Brooklyn</th>\n",
       "      <th>boro_Bronx</th>\n",
       "      <th>boro_Staten Island</th>\n",
       "    </tr>\n",
       "  </thead>\n",
       "  <tbody>\n",
       "    <tr>\n",
       "      <td>0</td>\n",
       "      <td>103</td>\n",
       "      <td>No</td>\n",
       "      <td>1</td>\n",
       "      <td>0</td>\n",
       "      <td>0</td>\n",
       "      <td>0</td>\n",
       "      <td>0</td>\n",
       "    </tr>\n",
       "    <tr>\n",
       "      <td>1</td>\n",
       "      <td>89</td>\n",
       "      <td>No</td>\n",
       "      <td>0</td>\n",
       "      <td>1</td>\n",
       "      <td>0</td>\n",
       "      <td>0</td>\n",
       "      <td>0</td>\n",
       "    </tr>\n",
       "    <tr>\n",
       "      <td>2</td>\n",
       "      <td>142</td>\n",
       "      <td>No</td>\n",
       "      <td>1</td>\n",
       "      <td>0</td>\n",
       "      <td>0</td>\n",
       "      <td>0</td>\n",
       "      <td>0</td>\n",
       "    </tr>\n",
       "    <tr>\n",
       "      <td>3</td>\n",
       "      <td>54</td>\n",
       "      <td>Yes</td>\n",
       "      <td>0</td>\n",
       "      <td>0</td>\n",
       "      <td>1</td>\n",
       "      <td>0</td>\n",
       "      <td>0</td>\n",
       "    </tr>\n",
       "    <tr>\n",
       "      <td>4</td>\n",
       "      <td>63</td>\n",
       "      <td>Yes</td>\n",
       "      <td>0</td>\n",
       "      <td>0</td>\n",
       "      <td>1</td>\n",
       "      <td>0</td>\n",
       "      <td>0</td>\n",
       "    </tr>\n",
       "    <tr>\n",
       "      <td>5</td>\n",
       "      <td>219</td>\n",
       "      <td>No</td>\n",
       "      <td>0</td>\n",
       "      <td>0</td>\n",
       "      <td>0</td>\n",
       "      <td>1</td>\n",
       "      <td>0</td>\n",
       "    </tr>\n",
       "  </tbody>\n",
       "</table>\n",
       "</div>"
      ],
      "text/plain": [
       "   salary vegan  boro_Manhattan  boro_Queens  boro_Brooklyn  boro_Bronx  \\\n",
       "0     103    No               1            0              0           0   \n",
       "1      89    No               0            1              0           0   \n",
       "2     142    No               1            0              0           0   \n",
       "3      54   Yes               0            0              1           0   \n",
       "4      63   Yes               0            0              1           0   \n",
       "5     219    No               0            0              0           1   \n",
       "\n",
       "   boro_Staten Island  \n",
       "0                   0  \n",
       "1                   0  \n",
       "2                   0  \n",
       "3                   0  \n",
       "4                   0  \n",
       "5                   0  "
      ]
     },
     "execution_count": 587,
     "metadata": {},
     "output_type": "execute_result"
    }
   ],
   "source": [
    "df['boro'] = pd.Categorical(df.boro, categories=['Manhattan','Queens','Brooklyn','Bronx','Staten Island'])\n",
    "\n",
    "pd.get_dummies(df, columns=['boro'])"
   ]
  },
  {
   "cell_type": "code",
   "execution_count": null,
   "metadata": {},
   "outputs": [],
   "source": [
    "#OneHotEncoder\n",
    "\n",
    "ce = OneHotEncoder().fit(df)\n",
    "ce.transform(df).toarray()\n",
    "\n",
    "#OneHotEncoder + Column Transformer\n",
    "#Always use Column Transformer\n",
    "\n",
    "categorical = df.dtypes == object\n",
    "\n",
    "preprocess = make_column_transformer(\n",
    "            (StandardScaler(), ~categorical),\n",
    "            (OneHotEncoder(), categorical))\n",
    "\n",
    "model = make_pipeline(preprocess, LogisticRegression())"
   ]
  },
  {
   "cell_type": "code",
   "execution_count": 452,
   "metadata": {},
   "outputs": [],
   "source": [
    "#Target Encoder\n",
    "te = TargetEncoder(cols='zipcode').fit(X_train, y_train)\n",
    "te.transform(X_train)\n",
    "\n",
    "y_train.groupby(X_train.zipcode).mean()[X_train.head().zipcode]"
   ]
  },
  {
   "cell_type": "code",
   "execution_count": null,
   "metadata": {},
   "outputs": [],
   "source": [
    "X = data.frame.drop(['date','price','zipcode'], axis=1)\n",
    "scores = cross_val_score(Ridge(), X, target)\n",
    "np.mean(scores)"
   ]
  },
  {
   "cell_type": "code",
   "execution_count": null,
   "metadata": {},
   "outputs": [],
   "source": [
    "\n",
    "X = data.frame.drop(['date', 'price'], axis=1)\n",
    "\n",
    "ct = make_column_transformer((OneHotEncoder(), ['zipcode']), remainder='passthrough')\n",
    "pipe_ohe = make_pipeline(ct, Ridge())\n",
    "scores = cross_val_score(pipe_ohe, X, target)\n",
    "np.mean(scores)"
   ]
  },
  {
   "cell_type": "code",
   "execution_count": null,
   "metadata": {},
   "outputs": [],
   "source": [
    "X = data.frame.drop(['date', 'price'], axis=1)\n",
    "pipe_target = make_pipeline(TargetEncoder(cols='zipcode'), Ridge())\n",
    "scores = cross_val_score(pipe_target, X, target)\n",
    "np.mean(scores)"
   ]
  },
  {
   "cell_type": "markdown",
   "metadata": {},
   "source": [
    "## Imputer"
   ]
  },
  {
   "cell_type": "markdown",
   "metadata": {},
   "source": [
    "### Drop NAN Columns"
   ]
  },
  {
   "cell_type": "code",
   "execution_count": null,
   "metadata": {},
   "outputs": [],
   "source": [
    "nan_columns = np.any(np.isnan(X_train), axis=0)\n",
    "X_drop_columns = X_train[:,~nan_columns]\n",
    "\n",
    "logreg = make_pipeline(StandardScaler(), LogisticRegression())\n",
    "scores = cross_val_score(logreg, X_drop_columns, y_train, cv=10)\n",
    "\n",
    "np.mean(scores)"
   ]
  },
  {
   "cell_type": "markdown",
   "metadata": {},
   "source": [
    "### SimpleImputer"
   ]
  },
  {
   "cell_type": "code",
   "execution_count": null,
   "metadata": {},
   "outputs": [],
   "source": [
    "mean_pipe = make_pipeline(SimpleImputer(strategy='median'),\n",
    "                          StandardScaler(),\n",
    "                          LogisticRegression())\n",
    "scores = cross_val_score(mean_pipe, X_train, y_train, cv=10)\n",
    "\n",
    "np.mean(scores)"
   ]
  },
  {
   "cell_type": "markdown",
   "metadata": {},
   "source": [
    "### KNN Imputer"
   ]
  },
  {
   "cell_type": "code",
   "execution_count": null,
   "metadata": {},
   "outputs": [],
   "source": [
    "knn_pipe = make_pipeline(KNNImputer(), \n",
    "                         StandardScaler(), \n",
    "                         LogisticRegression())"
   ]
  },
  {
   "cell_type": "markdown",
   "metadata": {},
   "source": [
    "### Model-Driven Imputation"
   ]
  },
  {
   "cell_type": "code",
   "execution_count": null,
   "metadata": {},
   "outputs": [],
   "source": [
    "#Random Forest Imputation\n",
    "#Note. Never converges, but it works! Stops as soon as the values start going up!\n",
    "rf_imp = IterativeImputer(predictor=RandomForestRegressor())\n",
    "rf_pipe = make_pipeline(rf_imp, \n",
    "                        StandardSacler(), \n",
    "                        LogisticRegression())\n",
    "\n",
    "scores = cross_val_score(rf_pipe, X_rf_imp, y_train, cv=10)\n",
    "np.mean(scores)"
   ]
  },
  {
   "cell_type": "markdown",
   "metadata": {},
   "source": [
    "## Linear Models for Regression"
   ]
  },
  {
   "cell_type": "code",
   "execution_count": 2,
   "metadata": {},
   "outputs": [],
   "source": [
    "#Note. They are called linear, not because of X, but because of the coefficients W_i. y(hat) = W(transpose) * X + b = Sigma(W_i*x_i) + b, i from 1 to p."
   ]
  },
  {
   "cell_type": "markdown",
   "metadata": {},
   "source": [
    "### Ridge, Lasso, and Elastic Net Regression"
   ]
  },
  {
   "cell_type": "code",
   "execution_count": 6,
   "metadata": {},
   "outputs": [],
   "source": [
    "#Ridge: add a term to minimization: alpha * ||w||^2\n",
    "#Lasso: instead of ||w||^2, we use the sum of absolute values: alpha * ||w||_1\n",
    "#Elastic Net: alpha1 * ||w||_1 + alpha2 * ||w||_2^2 = alpha * eta * ||w||_1 + alpha * (1-eta) * ||w||_2^2\n",
    "\n",
    "#alpha is between 0 and 1 and it is better to use a log space to search for the best alpha. \n",
    "\n",
    "#For Elastic Net, eta is the relative amount of L1 penalty (l1_ratio in the code)"
   ]
  },
  {
   "cell_type": "markdown",
   "metadata": {},
   "source": [
    "### Preprocessing Example"
   ]
  },
  {
   "cell_type": "code",
   "execution_count": null,
   "metadata": {},
   "outputs": [],
   "source": [
    "cat_perprocessing = make_pipeline(SimpleImputer(strategy='constant', fill_value='NA'), OneHotEncoder(handle_unknown='ignore'))\n",
    "\n",
    "cont_preprocessing = make_pipeline(SimpleImputer(), StandardScaler())\n",
    "\n",
    "preprocess = make_column_transformer((cat_preprocessing, make_column_selector(dtype_include='object')),\n",
    "                                  remainder=cont_preprocessing)\n",
    "\n",
    "X_train, X_test, y_train, y_test = train_test_split(X, y, random_state=0)\n",
    "\n",
    "cross_val_score(make_pipeline(preprocess, LinearRegression()), X_train, y_train, cv=5)"
   ]
  },
  {
   "cell_type": "markdown",
   "metadata": {},
   "source": [
    "### skewed targets"
   ]
  },
  {
   "cell_type": "code",
   "execution_count": 4,
   "metadata": {},
   "outputs": [],
   "source": [
    "from sklearn.compose import TransformedTargetRegressor"
   ]
  },
  {
   "cell_type": "code",
   "execution_count": null,
   "metadata": {},
   "outputs": [],
   "source": [
    "log_regressor = TransformedTargetRegressor(LinearRegression(), func=np.log, inverse_func=np.exp)\n",
    "\n",
    "cross_val_score(make_pipeline(preprocess, log_regressor), X_train, y_train, cv=5)"
   ]
  },
  {
   "cell_type": "markdown",
   "metadata": {},
   "source": [
    "### GridSearchCV with Ridge"
   ]
  },
  {
   "cell_type": "code",
   "execution_count": null,
   "metadata": {},
   "outputs": [],
   "source": [
    "param_grid = {'alpha': np.logspace(-3, 3, 13)}\n",
    "\n",
    "grid = GridSearchCV(Ridge(), param_grid, cv=RepeatedKFold(16, 5), return_train_score=True)\n",
    "\n",
    "grid.fit(X_train, y_train)"
   ]
  },
  {
   "cell_type": "markdown",
   "metadata": {},
   "source": [
    "### Plot the Ridge Coefficients"
   ]
  },
  {
   "cell_type": "code",
   "execution_count": null,
   "metadata": {},
   "outputs": [],
   "source": [
    "ridge = grid.best_estimator_\n",
    "plt.scatter(range(X_train.shape[1]), ridge.coef_,      c=np.sign(ridge.coef_), cmap=\"bwr_r\")"
   ]
  },
  {
   "cell_type": "markdown",
   "metadata": {},
   "source": [
    "### Understanding L1 and L2 Penalties"
   ]
  },
  {
   "cell_type": "code",
   "execution_count": null,
   "metadata": {},
   "outputs": [],
   "source": [
    "#L0 norm penalizes the number of non-zero features. L0 = sum l_wi !=0\n",
    "#L1 = sum |wi|\n",
    "#L2 = sqrt(sum wi^2)"
   ]
  },
  {
   "cell_type": "markdown",
   "metadata": {},
   "source": [
    "## Analyzing grid-search results"
   ]
  },
  {
   "cell_type": "code",
   "execution_count": null,
   "metadata": {},
   "outputs": [],
   "source": [
    "res = pd.pivot_table(pd.DataFrame(grid.cv_results_), values='mean_Test_score', index='param_alpha', columns='param_l1_ratio')"
   ]
  },
  {
   "cell_type": "markdown",
   "metadata": {},
   "source": [
    "## Multi-Class in Practice"
   ]
  },
  {
   "cell_type": "code",
   "execution_count": 7,
   "metadata": {},
   "outputs": [],
   "source": [
    "#One vs Rest (OvR) and multinomial LogReg produce one coef per class"
   ]
  },
  {
   "cell_type": "code",
   "execution_count": 9,
   "metadata": {},
   "outputs": [
    {
     "name": "stdout",
     "output_type": "stream",
     "text": [
      "(150, 4)\n",
      "[50 50 50]\n"
     ]
    }
   ],
   "source": [
    "from sklearn.datasets import load_iris\n",
    "import numpy as np\n",
    "iris = load_iris()\n",
    "X, y = iris.data, iris.target\n",
    "print(X.shape)\n",
    "print(np.bincount(y))"
   ]
  },
  {
   "cell_type": "code",
   "execution_count": 12,
   "metadata": {},
   "outputs": [
    {
     "name": "stdout",
     "output_type": "stream",
     "text": [
      "(3, 4)\n",
      "(3, 4)\n"
     ]
    },
    {
     "name": "stderr",
     "output_type": "stream",
     "text": [
      "/opt/anaconda3/lib/python3.7/site-packages/sklearn/linear_model/logistic.py:947: ConvergenceWarning: lbfgs failed to converge. Increase the number of iterations.\n",
      "  \"of iterations.\", ConvergenceWarning)\n",
      "/opt/anaconda3/lib/python3.7/site-packages/sklearn/svm/base.py:929: ConvergenceWarning: Liblinear failed to converge, increase the number of iterations.\n",
      "  \"the number of iterations.\", ConvergenceWarning)\n"
     ]
    }
   ],
   "source": [
    "from sklearn.linear_model import LogisticRegression\n",
    "from sklearn.svm import LinearSVC\n",
    "\n",
    "logreg = LogisticRegression(multi_class=\"multinomial\", solver=\"lbfgs\").fit(X, y)\n",
    "linearsvm = LinearSVC().fit(X, y)\n",
    "print(logreg.coef_.shape)\n",
    "print(linearsvm.coef_.shape)"
   ]
  },
  {
   "cell_type": "markdown",
   "metadata": {},
   "source": [
    "## Solver Choices\n",
    "### Notes:\n",
    "Linear models are pretty fast. Small number of samples is <10,000. \n",
    "\n",
    "Use LinearSVC; don't use SVC(kernel='linear')\n",
    "\n",
    "If n_features >> n_samples --> use Lars or LassoLars instead of Lasso\n",
    "\n",
    "If n_samples >> n_features --> use dual=False in LinearSVC and LogisticRegression\n",
    "\n",
    "If n_samples is very large, i.e. O(millions), use LogisticRegression(solver=\"sag\")\n",
    "\n",
    "If n_samples is very very large, i.e. O(billions), use Stochastic Gradient Descent"
   ]
  },
  {
   "cell_type": "markdown",
   "metadata": {},
   "source": [
    "## Kernel SVMs\n",
    "Nonelinear model, but not the go-to model."
   ]
  },
  {
   "cell_type": "markdown",
   "metadata": {},
   "source": [
    "## Visualizing trees"
   ]
  },
  {
   "cell_type": "code",
   "execution_count": 8,
   "metadata": {},
   "outputs": [],
   "source": [
    "from sklearn.datasets import load_breast_cancer\n",
    "from sklearn.model_selection import train_test_split\n",
    "cancer = load_breast_cancer()\n",
    "X_train, X_test, y_train, y_test = train_test_split(cancer.data, cancer.target, stratify=cancer.target, random_state=0)"
   ]
  },
  {
   "cell_type": "code",
   "execution_count": 2,
   "metadata": {},
   "outputs": [
    {
     "data": {
      "text/plain": [
       "DecisionTreeClassifier(ccp_alpha=0.0, class_weight=None, criterion='gini',\n",
       "                       max_depth=2, max_features=None, max_leaf_nodes=None,\n",
       "                       min_impurity_decrease=0.0, min_impurity_split=None,\n",
       "                       min_samples_leaf=1, min_samples_split=2,\n",
       "                       min_weight_fraction_leaf=0.0, presort='deprecated',\n",
       "                       random_state=None, splitter='best')"
      ]
     },
     "execution_count": 2,
     "metadata": {},
     "output_type": "execute_result"
    }
   ],
   "source": [
    "from sklearn.tree import DecisionTreeClassifier\n",
    "tree = DecisionTreeClassifier(max_depth=2)\n",
    "tree.fit(X_train, y_train)"
   ]
  },
  {
   "cell_type": "code",
   "execution_count": 4,
   "metadata": {},
   "outputs": [
    {
     "data": {
      "image/png": "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\n",
      "text/plain": [
       "<Figure size 432x288 with 1 Axes>"
      ]
     },
     "metadata": {
      "needs_background": "light"
     },
     "output_type": "display_data"
    }
   ],
   "source": [
    "from sklearn.tree import plot_tree\n",
    "tree_dot = plot_tree(tree, feature_names=cancer.feature_names)"
   ]
  },
  {
   "cell_type": "markdown",
   "metadata": {},
   "source": [
    "### pre-pruning and post-pruning\n",
    "Pre-pruning limits tree size. Pick one or two. Most common ones are max_depth and max_leaf_nodes. Others are min_samples_split, min_impurity_decrease, etc. \n",
    "\n",
    "Post-pruning: Cost complexity pruning:\n",
    "R_alpha(T) = R(T) + alpha*|T|;\n",
    "R(T) is total leaf impurity (how well you fit the train data);\n",
    "|T| is number of leaf nodes (measure of the complexity);\n",
    "alpha is free parameter."
   ]
  },
  {
   "cell_type": "code",
   "execution_count": 5,
   "metadata": {},
   "outputs": [
    {
     "data": {
      "text/plain": [
       "GridSearchCV(cv=10, error_score=nan,\n",
       "             estimator=DecisionTreeClassifier(ccp_alpha=0.0, class_weight=None,\n",
       "                                              criterion='gini', max_depth=None,\n",
       "                                              max_features=None,\n",
       "                                              max_leaf_nodes=None,\n",
       "                                              min_impurity_decrease=0.0,\n",
       "                                              min_impurity_split=None,\n",
       "                                              min_samples_leaf=1,\n",
       "                                              min_samples_split=2,\n",
       "                                              min_weight_fraction_leaf=0.0,\n",
       "                                              presort='deprecated',\n",
       "                                              random_state=0, splitter='best'),\n",
       "             iid='deprecated', n_jobs=None,\n",
       "             param_grid={'max_depth': range(1, 7)}, pre_dispatch='2*n_jobs',\n",
       "             refit=True, return_train_score=False, scoring=None, verbose=0)"
      ]
     },
     "execution_count": 5,
     "metadata": {},
     "output_type": "execute_result"
    }
   ],
   "source": [
    "from sklearn.model_selection import GridSearchCV\n",
    "\n",
    "param_grid = {'max_depth':range(1, 7)}\n",
    "#or param_grid = {'max_leaf_nodes':range(2, 20)}\n",
    "#or param_grid = {'ccp_alpha':np.linspace(0., 0.03, 20)}\n",
    "grid = GridSearchCV(DecisionTreeClassifier(random_state=0), param_grid=param_grid, cv=10)\n",
    "grid.fit(X_train, y_train)"
   ]
  },
  {
   "cell_type": "markdown",
   "metadata": {},
   "source": [
    "### More efficient pruning"
   ]
  },
  {
   "cell_type": "code",
   "execution_count": 6,
   "metadata": {},
   "outputs": [],
   "source": [
    "clf = DecisionTreeClassifier(random_state=0)\n",
    "path = clf.cost_complexity_pruning_path(X_train, y_train)\n",
    "ccp_alphas, impurities = path.ccp_alphas, path.impurities"
   ]
  },
  {
   "cell_type": "code",
   "execution_count": 7,
   "metadata": {},
   "outputs": [
    {
     "data": {
      "text/plain": [
       "array([0.        , 0.        , 0.        , 0.        , 0.        ,\n",
       "       0.        , 0.        , 0.        , 0.        , 0.        ,\n",
       "       0.        , 0.        , 0.        , 0.        , 0.        ,\n",
       "       0.        , 0.        , 0.        , 0.        , 0.        ,\n",
       "       0.        , 0.        , 0.87337408, 0.        , 0.        ,\n",
       "       0.        , 0.        , 0.12662592, 0.        , 0.        ])"
      ]
     },
     "execution_count": 7,
     "metadata": {},
     "output_type": "execute_result"
    }
   ],
   "source": [
    "#Feature Importance\n",
    "tree.feature_importances_"
   ]
  },
  {
   "cell_type": "markdown",
   "metadata": {},
   "source": [
    "## Ensemble Models\n",
    "Combine different models: built different models and find the average of the results"
   ]
  },
  {
   "cell_type": "markdown",
   "metadata": {},
   "source": [
    "### Voting Classifier"
   ]
  },
  {
   "cell_type": "code",
   "execution_count": 10,
   "metadata": {},
   "outputs": [
    {
     "name": "stderr",
     "output_type": "stream",
     "text": [
      "/opt/anaconda3/lib/python3.7/site-packages/sklearn/linear_model/_logistic.py:940: ConvergenceWarning: lbfgs failed to converge (status=1):\n",
      "STOP: TOTAL NO. of ITERATIONS REACHED LIMIT.\n",
      "\n",
      "Increase the number of iterations (max_iter) or scale the data as shown in:\n",
      "    https://scikit-learn.org/stable/modules/preprocessing.html\n",
      "Please also refer to the documentation for alternative solver options:\n",
      "    https://scikit-learn.org/stable/modules/linear_model.html#logistic-regression\n",
      "  extra_warning_msg=_LOGISTIC_SOLVER_CONVERGENCE_MSG)\n"
     ]
    },
    {
     "data": {
      "text/plain": [
       "(0.9300699300699301, 0.9370629370629371, 0.916083916083916)"
      ]
     },
     "execution_count": 10,
     "metadata": {},
     "output_type": "execute_result"
    }
   ],
   "source": [
    "from sklearn.ensemble import VotingClassifier\n",
    "from sklearn.linear_model import LogisticRegression\n",
    "voting = VotingClassifier([('logreg', LogisticRegression(C=100)),\n",
    "                           ('tree', DecisionTreeClassifier(max_depth=3, random_state=0))], voting='soft')\n",
    "voting.fit(X_train, y_train)\n",
    "lr, tree = voting.estimators_\n",
    "voting.score(X_test, y_test), lr.score(X_test, y_test), tree.score(X_test, y_test)"
   ]
  },
  {
   "cell_type": "markdown",
   "metadata": {},
   "source": [
    "### Bagging (Bootstrap AGGregation)\n",
    "Injecting randomness to split sets to build slightly different models."
   ]
  },
  {
   "cell_type": "markdown",
   "metadata": {},
   "source": [
    "## Random Forest\n",
    "Average of several trees. (In general scaling of the features are not needed in trees or random forest.)\n",
    "\n",
    "Randomize in two ways:\n",
    "\n",
    "For each tree, pick bootstrap sample of data.\n",
    "\n",
    "For each splot, pick a random sample of features. \n",
    "\n",
    "Tuning random forests: main parameter is max_features, which for classification is ~sqrt(n_features) and for regression ~n_features. Random forests usually work with the default parameters. \n",
    "\n",
    "Warm-Starts are good for deciding how many trees are good enough."
   ]
  },
  {
   "cell_type": "markdown",
   "metadata": {},
   "source": [
    "### Warm-Starts"
   ]
  },
  {
   "cell_type": "code",
   "execution_count": 11,
   "metadata": {},
   "outputs": [],
   "source": [
    "from sklearn.ensemble import RandomForestClassifier\n",
    "\n",
    "train_scores = []\n",
    "test_scores = []\n",
    "\n",
    "rf = RandomForestClassifier(warm_start=True)\n",
    "estimator_range = range(1, 100, 5)\n",
    "for n_estimators in estimator_range:\n",
    "    rf.n_estimators = n_estimators\n",
    "    rf.fit(X_train, y_train)\n",
    "    train_scores.append(rf.score(X_train, y_train))\n",
    "    test_scores.append(rf.score(X_test, y_test))"
   ]
  },
  {
   "cell_type": "code",
   "execution_count": 19,
   "metadata": {},
   "outputs": [
    {
     "data": {
      "text/plain": [
       "[<matplotlib.lines.Line2D at 0x7f8d85fece10>]"
      ]
     },
     "execution_count": 19,
     "metadata": {},
     "output_type": "execute_result"
    },
    {
     "data": {
      "image/png": "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\n",
      "text/plain": [
       "<Figure size 432x288 with 1 Axes>"
      ]
     },
     "metadata": {
      "needs_background": "light"
     },
     "output_type": "display_data"
    }
   ],
   "source": [
    "import matplotlib.pyplot as plt\n",
    "plt.plot(estimator_range, train_scores, color='y')\n",
    "plt.plot(estimator_range, test_scores, color='b')"
   ]
  },
  {
   "cell_type": "markdown",
   "metadata": {},
   "source": [
    "### Out-of-bag estimates"
   ]
  },
  {
   "cell_type": "code",
   "execution_count": 21,
   "metadata": {},
   "outputs": [],
   "source": [
    "train_scores = []\n",
    "test_scores = []\n",
    "oob_scores = []\n",
    "\n",
    "\n",
    "feature_range = range(1, 20, 5)\n",
    "for max_features in feature_range:\n",
    "    rf = RandomForestClassifier(max_features=max_features, oob_score=True, n_estimators=200, random_state=0)\n",
    "    rf.fit(X_train, y_train)\n",
    "    train_scores.append(rf.score(X_train, y_train))\n",
    "    test_scores.append(rf.score(X_test, y_test))\n",
    "    oob_scores.append(rf.oob_score_)"
   ]
  },
  {
   "cell_type": "code",
   "execution_count": 23,
   "metadata": {},
   "outputs": [
    {
     "data": {
      "text/plain": [
       "[<matplotlib.lines.Line2D at 0x7f8d805e1910>]"
      ]
     },
     "execution_count": 23,
     "metadata": {},
     "output_type": "execute_result"
    },
    {
     "data": {
      "image/png": "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\n",
      "text/plain": [
       "<Figure size 432x288 with 1 Axes>"
      ]
     },
     "metadata": {
      "needs_background": "light"
     },
     "output_type": "display_data"
    }
   ],
   "source": [
    "plt.plot(feature_range, train_scores, color='g')\n",
    "plt.plot(feature_range, test_scores, color='b')\n",
    "plt.plot(feature_range, oob_scores, color='orange')"
   ]
  },
  {
   "cell_type": "markdown",
   "metadata": {},
   "source": [
    "### Variable Importance"
   ]
  },
  {
   "cell_type": "code",
   "execution_count": 24,
   "metadata": {},
   "outputs": [
    {
     "data": {
      "image/png": "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\n",
      "text/plain": [
       "<Figure size 432x288 with 1 Axes>"
      ]
     },
     "metadata": {
      "needs_background": "light"
     },
     "output_type": "display_data"
    }
   ],
   "source": [
    "from sklearn.datasets import load_iris\n",
    "iris = load_iris()\n",
    "\n",
    "X_train, X_test, y_train, y_test = train_test_split(iris.data, iris.target, stratify=iris.target, random_state=1)\n",
    "\n",
    "rf = RandomForestClassifier().fit(X_train, y_train)\n",
    "rf.feature_importances_\n",
    "\n",
    "plt.barh(range(4), rf.feature_importances_)\n",
    "plt.yticks(range(4), iris.feature_names);"
   ]
  },
  {
   "cell_type": "markdown",
   "metadata": {},
   "source": [
    "## Stochastic Gradient Descent"
   ]
  },
  {
   "cell_type": "code",
   "execution_count": null,
   "metadata": {},
   "outputs": [],
   "source": [
    "from sklearn.linear_model import SGDClassifier\n",
    "\n",
    "#Run until convergence\n",
    "sgd = SGDClassifier().fit(X_train, y_train)\n",
    "\n",
    "#Run one iteration over a batched dataset\n",
    "sgd = SGDClassifier()\n",
    "for X_batch, y_batch in batches:\n",
    "    sgd.partial_fit(X_batch, y_batch, classes=[0, 1, 2])\n",
    "    \n",
    "for i in range(10):\n",
    "    for X_batch, y_batch in batches:\n",
    "        sgd.partial_fit(X_batch, y_batch, classes=[0, 1, 2])"
   ]
  },
  {
   "cell_type": "markdown",
   "metadata": {},
   "source": [
    "## Boosting\n",
    "Family of algorithms to create strong learner from weak learners\n",
    "\n",
    "AdaBoost, GentleBoost, LogitBoost\n"
   ]
  },
  {
   "cell_type": "markdown",
   "metadata": {},
   "source": [
    "### Gradient Boosting\n",
    "Next to linear models, it is very mostly commonly used in industry\n",
    "\n",
    "Output is sum of all of the trees. \n",
    "\n",
    "HistGradientClassifier bins data so it is faster and also it is a multicore model. "
   ]
  },
  {
   "cell_type": "markdown",
   "metadata": {},
   "source": [
    "### XGBoost\n",
    "\n",
    "conda install -c conda-forge xgboos"
   ]
  },
  {
   "cell_type": "code",
   "execution_count": null,
   "metadata": {},
   "outputs": [],
   "source": [
    "from xgboost import XGBClassifier\n",
    "xgb = XGBClassifier()\n",
    "xgb.fit(X_train, y_train)\n",
    "xgb.score(X_test, y_test)\n",
    "\n",
    "#supports missing values, GPU training, networked parallel training, monotonicity constraints, supports sparse data"
   ]
  },
  {
   "cell_type": "markdown",
   "metadata": {},
   "source": [
    "### LightGBM\n",
    "\n",
    "conda install -c conda-forge lightgbm"
   ]
  },
  {
   "cell_type": "code",
   "execution_count": null,
   "metadata": {},
   "outputs": [],
   "source": [
    "from lightgbm.sklearn import LGBMClassifier\n",
    "lgbm = LGBMClassifier()\n",
    "lgbm.fit(X_train, y_train)\n",
    "lgbm.score(X_test, y_test)\n",
    "\n",
    "#supports missing values, natively supports categorical variables, GPU training, networked parallel training, monotonicity constraints, supports sparse data"
   ]
  },
  {
   "cell_type": "markdown",
   "metadata": {},
   "source": [
    "### CatBoost\n",
    "\n",
    "conda install -c conda-forge catboost"
   ]
  },
  {
   "cell_type": "code",
   "execution_count": null,
   "metadata": {},
   "outputs": [],
   "source": [
    "from catboost.sklearn import CatBoostClassifier\n",
    "catb = CatBoostClassifier()\n",
    "catb.fit(X_train, y_train)\n",
    "catb.score(X_test, y_test)\n",
    "\n",
    "#optimized for categorical variables, uses one feature/threshold for all splits on a given level aka symmetric trees, symmetric trees are different but can be much faster, supports missing value, GPU training, monotonicity constraints, uses bagged and smoothed version of target encoding for categorical variables"
   ]
  },
  {
   "cell_type": "code",
   "execution_count": 5,
   "metadata": {},
   "outputs": [],
   "source": [
    "#for the tabulated datasets, people use Gradient Boosting and for untabulated datasets, mostly use Neural Networks"
   ]
  },
  {
   "cell_type": "markdown",
   "metadata": {},
   "source": [
    "## Confusion Matrix\n",
    "\n",
    "(0,0): True Negative, \n",
    "(0,1): False Positive\n",
    "\n",
    "(1,0): False Negative,\n",
    "(1,1): True Positive"
   ]
  },
  {
   "cell_type": "code",
   "execution_count": 13,
   "metadata": {},
   "outputs": [
    {
     "name": "stdout",
     "output_type": "stream",
     "text": [
      "[[48  5]\n",
      " [ 4 86]]\n",
      "0.9370629370629371\n"
     ]
    },
    {
     "name": "stderr",
     "output_type": "stream",
     "text": [
      "/opt/anaconda3/lib/python3.7/site-packages/sklearn/linear_model/_logistic.py:940: ConvergenceWarning: lbfgs failed to converge (status=1):\n",
      "STOP: TOTAL NO. of ITERATIONS REACHED LIMIT.\n",
      "\n",
      "Increase the number of iterations (max_iter) or scale the data as shown in:\n",
      "    https://scikit-learn.org/stable/modules/preprocessing.html\n",
      "Please also refer to the documentation for alternative solver options:\n",
      "    https://scikit-learn.org/stable/modules/linear_model.html#logistic-regression\n",
      "  extra_warning_msg=_LOGISTIC_SOLVER_CONVERGENCE_MSG)\n"
     ]
    },
    {
     "data": {
      "text/plain": [
       "<sklearn.metrics._plot.confusion_matrix.ConfusionMatrixDisplay at 0x7fd2e0081450>"
      ]
     },
     "execution_count": 13,
     "metadata": {},
     "output_type": "execute_result"
    },
    {
     "data": {
      "image/png": "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\n",
      "text/plain": [
       "<Figure size 432x288 with 2 Axes>"
      ]
     },
     "metadata": {
      "needs_background": "light"
     },
     "output_type": "display_data"
    }
   ],
   "source": [
    "from sklearn.metrics import confusion_matrix, plot_confusion_matrix\n",
    "from sklearn.linear_model import LogisticRegression\n",
    "\n",
    "data = load_breast_cancer()\n",
    "\n",
    "X_train, X_test, y_train, y_test = train_test_split(data.data, data.target, stratify=data.target, random_state=0)\n",
    "\n",
    "lr = LogisticRegression().fit(X_train, y_train)\n",
    "y_pred = lr.predict(X_test)\n",
    "\n",
    "print(confusion_matrix(y_test, y_pred))\n",
    "print(lr.score(X_test, y_test))\n",
    "plot_confusion_matrix(lr, X_test, y_test, cmap='gray_r')"
   ]
  },
  {
   "cell_type": "markdown",
   "metadata": {},
   "source": [
    "## Precision, Recall, F-score\n",
    "\n",
    "Precision = TP / (TP + FP)\n",
    "\n",
    "Recall = TP / (TP + FN)\n",
    "\n",
    "F = 2 x (Precision x Recall) / (Precision + Recall)"
   ]
  },
  {
   "cell_type": "code",
   "execution_count": null,
   "metadata": {},
   "outputs": [],
   "source": [
    "confusion_matrix(y_true, y_pred)\n",
    "#or\n",
    "confusion_matrix(y_true, y_pred, normalize='true')\n",
    "#or\n",
    "confusion_matrix(y_true, y_pred, normalize='pred')"
   ]
  },
  {
   "cell_type": "code",
   "execution_count": null,
   "metadata": {},
   "outputs": [],
   "source": [
    "classification_report(y_true, y_pred)"
   ]
  },
  {
   "cell_type": "code",
   "execution_count": null,
   "metadata": {},
   "outputs": [],
   "source": [
    "print(\"Weighted average: \", recall_score(y_test, y_pred_1, average=\"weighted\"))\n",
    "print(\"Macro average: \", recall_score(y_test, y_pred_1, average=\"macro\"))"
   ]
  },
  {
   "cell_type": "markdown",
   "metadata": {},
   "source": [
    "### Balanced Accuracy\n",
    "\n",
    "= 1/2 (TP/(TP+FP) + TN/(TN+FN))"
   ]
  },
  {
   "cell_type": "code",
   "execution_count": null,
   "metadata": {},
   "outputs": [],
   "source": [
    "balanced_accuracy_score(y_t, y_p) == recall_score(y_t, y_p, average='macro')"
   ]
  },
  {
   "cell_type": "code",
   "execution_count": 15,
   "metadata": {},
   "outputs": [],
   "source": [
    "from sklearn.datasets import fetch_openml"
   ]
  },
  {
   "cell_type": "code",
   "execution_count": 16,
   "metadata": {},
   "outputs": [],
   "source": [
    "data = fetch_openml('mammography', as_frame=True)"
   ]
  },
  {
   "cell_type": "code",
   "execution_count": 17,
   "metadata": {},
   "outputs": [],
   "source": [
    "X, y = data.data, data.target"
   ]
  },
  {
   "cell_type": "code",
   "execution_count": 18,
   "metadata": {},
   "outputs": [
    {
     "data": {
      "text/plain": [
       "(11183, 6)"
      ]
     },
     "execution_count": 18,
     "metadata": {},
     "output_type": "execute_result"
    }
   ],
   "source": [
    "X.shape"
   ]
  },
  {
   "cell_type": "code",
   "execution_count": 19,
   "metadata": {},
   "outputs": [
    {
     "data": {
      "text/plain": [
       "-1    10923\n",
       "1       260\n",
       "Name: class, dtype: int64"
      ]
     },
     "execution_count": 19,
     "metadata": {},
     "output_type": "execute_result"
    }
   ],
   "source": [
    "y.value_counts()"
   ]
  },
  {
   "cell_type": "code",
   "execution_count": 21,
   "metadata": {},
   "outputs": [],
   "source": [
    "#this allows sklearn to determine the positive class more easily and makes y boolean\n",
    "X_train, X_test, y_train, y_test = train_test_split(X, y=='1', random_state=0)"
   ]
  },
  {
   "cell_type": "code",
   "execution_count": 26,
   "metadata": {},
   "outputs": [
    {
     "data": {
      "text/plain": [
       "0.9864091559370529"
      ]
     },
     "execution_count": 26,
     "metadata": {},
     "output_type": "execute_result"
    }
   ],
   "source": [
    "from sklearn.pipeline import make_pipeline\n",
    "from sklearn.preprocessing import StandardScaler\n",
    "from sklearn.svm import SVC\n",
    "\n",
    "svc = make_pipeline(StandardScaler(), SVC(C=100, gamma=0.1))\n",
    "svc.fit(X_train, y_train)\n",
    "svc.score(X_test, y_test)"
   ]
  },
  {
   "cell_type": "code",
   "execution_count": 27,
   "metadata": {},
   "outputs": [
    {
     "data": {
      "text/plain": [
       "0.9881974248927039"
      ]
     },
     "execution_count": 27,
     "metadata": {},
     "output_type": "execute_result"
    }
   ],
   "source": [
    "from sklearn.ensemble import RandomForestClassifier\n",
    "\n",
    "rf = RandomForestClassifier()\n",
    "rf.fit(X_train, y_train)\n",
    "rf.score(X_test, y_test)"
   ]
  },
  {
   "cell_type": "code",
   "execution_count": 28,
   "metadata": {},
   "outputs": [],
   "source": [
    "y_pred_svc = svc.predict(X_test)\n",
    "y_pred_rf = svc.predict(X_test)"
   ]
  },
  {
   "cell_type": "code",
   "execution_count": 30,
   "metadata": {},
   "outputs": [
    {
     "name": "stdout",
     "output_type": "stream",
     "text": [
      "[[2724    8]\n",
      " [  30   34]]\n"
     ]
    }
   ],
   "source": [
    "print(confusion_matrix(y_test, y_pred_svc))"
   ]
  },
  {
   "cell_type": "code",
   "execution_count": 38,
   "metadata": {},
   "outputs": [
    {
     "name": "stdout",
     "output_type": "stream",
     "text": [
      "              precision    recall  f1-score   support\n",
      "\n",
      "       False       0.99      1.00      0.99      2732\n",
      "        True       0.81      0.53      0.64        64\n",
      "\n",
      "    accuracy                           0.99      2796\n",
      "   macro avg       0.90      0.76      0.82      2796\n",
      "weighted avg       0.98      0.99      0.99      2796\n",
      "\n"
     ]
    }
   ],
   "source": [
    "from sklearn.metrics import classification_report\n",
    "\n",
    "print(classification_report(y_test, y_pred_svc))"
   ]
  },
  {
   "cell_type": "code",
   "execution_count": 39,
   "metadata": {},
   "outputs": [
    {
     "name": "stdout",
     "output_type": "stream",
     "text": [
      "              precision    recall  f1-score   support\n",
      "\n",
      "       False       0.99      1.00      0.99      2732\n",
      "        True       0.81      0.53      0.64        64\n",
      "\n",
      "    accuracy                           0.99      2796\n",
      "   macro avg       0.90      0.76      0.82      2796\n",
      "weighted avg       0.98      0.99      0.99      2796\n",
      "\n"
     ]
    }
   ],
   "source": [
    "print(classification_report(y_test, y_pred_rf))"
   ]
  },
  {
   "cell_type": "markdown",
   "metadata": {},
   "source": [
    "### Precision-Recall Curve"
   ]
  },
  {
   "cell_type": "code",
   "execution_count": 42,
   "metadata": {},
   "outputs": [
    {
     "data": {
      "image/png": "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\n",
      "text/plain": [
       "<Figure size 432x288 with 1 Axes>"
      ]
     },
     "metadata": {
      "needs_background": "light"
     },
     "output_type": "display_data"
    }
   ],
   "source": [
    "from sklearn.metrics import plot_precision_recall_curve\n",
    "\n",
    "#maybe the closest distance to the top right corner is the best?!\n",
    "\n",
    "prc = plot_precision_recall_curve(svc, X_test, y_test, name='SVC')"
   ]
  },
  {
   "cell_type": "code",
   "execution_count": 44,
   "metadata": {},
   "outputs": [
    {
     "data": {
      "text/plain": [
       "{'precision': array([0.02307138, 0.02271908, 0.02272727, ..., 1.        , 1.        ,\n",
       "        1.        ]),\n",
       " 'recall': array([1.      , 0.984375, 0.984375, ..., 0.03125 , 0.015625, 0.      ]),\n",
       " 'average_precision': 0.6352917371029126,\n",
       " 'estimator_name': 'Pipeline',\n",
       " 'line_': <matplotlib.lines.Line2D at 0x7fd2e30a2490>,\n",
       " 'ax_': <matplotlib.axes._subplots.AxesSubplot at 0x7fd2e30a2790>,\n",
       " 'figure_': <Figure size 432x288 with 1 Axes>}"
      ]
     },
     "execution_count": 44,
     "metadata": {},
     "output_type": "execute_result"
    }
   ],
   "source": [
    "vars(prc)"
   ]
  },
  {
   "cell_type": "markdown",
   "metadata": {},
   "source": [
    "### ROC Curve\n",
    "Receiver Operating Characterisitics\n",
    "\n",
    "True positive rate = recall"
   ]
  },
  {
   "cell_type": "code",
   "execution_count": 47,
   "metadata": {},
   "outputs": [
    {
     "data": {
      "text/plain": [
       "<sklearn.metrics._plot.roc_curve.RocCurveDisplay at 0x7fd2e2fe5550>"
      ]
     },
     "execution_count": 47,
     "metadata": {},
     "output_type": "execute_result"
    },
    {
     "data": {
      "image/png": "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\n",
      "text/plain": [
       "<Figure size 432x288 with 1 Axes>"
      ]
     },
     "metadata": {
      "needs_background": "light"
     },
     "output_type": "display_data"
    }
   ],
   "source": [
    "from sklearn.metrics import plot_roc_curve\n",
    "\n",
    "plot_roc_curve(svc, X_test, y_test, name='SVC')"
   ]
  },
  {
   "cell_type": "code",
   "execution_count": 50,
   "metadata": {},
   "outputs": [
    {
     "data": {
      "image/png": "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\n",
      "text/plain": [
       "<Figure size 432x288 with 1 Axes>"
      ]
     },
     "metadata": {
      "needs_background": "light"
     },
     "output_type": "display_data"
    }
   ],
   "source": [
    "import matplotlib.pyplot as plt\n",
    "\n",
    "prc = plot_precision_recall_curve(svc, X_test, y_test, name='SVC')\n",
    "pr_rf = plot_precision_recall_curve(rf, X_test, y_test, ax=plt.gca())"
   ]
  },
  {
   "cell_type": "markdown",
   "metadata": {},
   "source": [
    "## Area Under ROC Curve (AUC)"
   ]
  },
  {
   "cell_type": "code",
   "execution_count": null,
   "metadata": {},
   "outputs": [],
   "source": [
    "dec = svc.decision_function(X_test)\n",
    "np.all((dec>0) == svc.predict(X_test))"
   ]
  },
  {
   "cell_type": "code",
   "execution_count": null,
   "metadata": {},
   "outputs": [],
   "source": [
    "print(f1_score(y_test, dec>0))\n",
    "print(average_precision_score(y_test, dec))"
   ]
  },
  {
   "cell_type": "markdown",
   "metadata": {},
   "source": [
    "## Threshold and Ranking Metrics"
   ]
  },
  {
   "cell_type": "code",
   "execution_count": 1,
   "metadata": {},
   "outputs": [],
   "source": [
    "from sklearn.metrics import f1_score\n",
    "from sklearn.metrics import balanced_accuracy_score\n",
    "from sklearn.metrics import average_precision_score\n",
    "from sklearn.metrics import roc_auc_score\n",
    "#muller prefers average_precision_score over the roc_auc_score these days, even if it is harder to interpret.\n",
    "#if you have imbalanced (or maybe he said something else) dataset, don't use accuracy."
   ]
  },
  {
   "cell_type": "markdown",
   "metadata": {},
   "source": [
    "## Multi-class classification"
   ]
  },
  {
   "cell_type": "code",
   "execution_count": 2,
   "metadata": {},
   "outputs": [],
   "source": [
    "#people use multi-class ROC AUC\n",
    "#one vs rest method is better than the one vs one, since it works for any kind of uncertainties\n",
    "#https://github.com/scikit-learn/scikit-learn/pull/7663\n",
    "\n",
    "#Threshold-based: accuracy, precision, recall, f1 (macro average, weighted)\n",
    "#Ranking: OVR ROC AUC, OVO ROC AUC"
   ]
  },
  {
   "cell_type": "code",
   "execution_count": 4,
   "metadata": {},
   "outputs": [
    {
     "name": "stderr",
     "output_type": "stream",
     "text": [
      "/opt/anaconda3/lib/python3.7/site-packages/sklearn/utils/deprecation.py:144: FutureWarning: The sklearn.metrics.scorer module is  deprecated in version 0.22 and will be removed in version 0.24. The corresponding classes / functions should instead be imported from sklearn.metrics. Anything that cannot be imported from sklearn.metrics is now part of the private API.\n",
      "  warnings.warn(message, FutureWarning)\n"
     ]
    }
   ],
   "source": [
    "from sklearn.metrics.scorer import SCORERS"
   ]
  },
  {
   "cell_type": "code",
   "execution_count": 5,
   "metadata": {},
   "outputs": [
    {
     "name": "stdout",
     "output_type": "stream",
     "text": [
      "accuracy\n",
      "adjusted_mutual_info_score\n",
      "adjusted_rand_score\n",
      "average_precision\n",
      "balanced_accuracy\n",
      "completeness_score\n",
      "explained_variance\n",
      "f1\n",
      "f1_macro\n",
      "f1_micro\n",
      "f1_samples\n",
      "f1_weighted\n",
      "fowlkes_mallows_score\n",
      "homogeneity_score\n",
      "jaccard\n",
      "jaccard_macro\n",
      "jaccard_micro\n",
      "jaccard_samples\n",
      "jaccard_weighted\n",
      "max_error\n",
      "mutual_info_score\n",
      "neg_brier_score\n",
      "neg_log_loss\n",
      "neg_mean_absolute_error\n",
      "neg_mean_gamma_deviance\n",
      "neg_mean_poisson_deviance\n",
      "neg_mean_squared_error\n",
      "neg_mean_squared_log_error\n",
      "neg_median_absolute_error\n",
      "neg_root_mean_squared_error\n",
      "normalized_mutual_info_score\n",
      "precision\n",
      "precision_macro\n",
      "precision_micro\n",
      "precision_samples\n",
      "precision_weighted\n",
      "r2\n",
      "recall\n",
      "recall_macro\n",
      "recall_micro\n",
      "recall_samples\n",
      "recall_weighted\n",
      "roc_auc\n",
      "roc_auc_ovo\n",
      "roc_auc_ovo_weighted\n",
      "roc_auc_ovr\n",
      "roc_auc_ovr_weighted\n",
      "v_measure_score\n"
     ]
    }
   ],
   "source": [
    "print(\"\\n\".join(sorted(SCORERS.keys())))"
   ]
  },
  {
   "cell_type": "markdown",
   "metadata": {},
   "source": [
    "## Feature Selection\n",
    "- More interpretable model\n",
    "- Less storage for model and dataset\n",
    "- Faster prediction and training"
   ]
  },
  {
   "cell_type": "markdown",
   "metadata": {},
   "source": [
    "### Types of feature selection\n",
    "- unsupervisoed vs supervides\n",
    "- univariate vs multivariate\n",
    "- model based or not"
   ]
  },
  {
   "cell_type": "markdown",
   "metadata": {},
   "source": [
    "#### Unsupervised feature selection\n",
    "- covariance-based: remove correlated features (most common)\n",
    "- variance-based: 0 variance or mostly constant\n",
    "- may discar important information\n",
    "- PCA: remove linear subspaces (reduces the number of features without removing features)"
   ]
  },
  {
   "cell_type": "markdown",
   "metadata": {},
   "source": [
    "**Plot Covariance Matrix**"
   ]
  },
  {
   "cell_type": "code",
   "execution_count": 5,
   "metadata": {},
   "outputs": [],
   "source": [
    "import numpy as np\n",
    "from sklearn.preprocessing import scale\n",
    "from sklearn.datasets import load_boston\n",
    "from sklearn.model_selection import train_test_split\n",
    "\n",
    "boston = load_boston()\n",
    "X, y = boston.data, boston.target\n",
    "X_train, X_test, y_train, y_test = train_test_split(X, y, random_state=0)\n",
    "X_train_scaled = scale(X_train)\n",
    "\n",
    "cov = np.cov(X_train_scaled, rowvar=False)"
   ]
  },
  {
   "cell_type": "code",
   "execution_count": 24,
   "metadata": {},
   "outputs": [
    {
     "data": {
      "text/plain": [
       "(379, 13)"
      ]
     },
     "execution_count": 24,
     "metadata": {},
     "output_type": "execute_result"
    }
   ],
   "source": [
    "X_train_scaled.shape"
   ]
  },
  {
   "cell_type": "code",
   "execution_count": 20,
   "metadata": {},
   "outputs": [
    {
     "data": {
      "text/plain": [
       "<matplotlib.axes._subplots.AxesSubplot at 0x7f88457f8690>"
      ]
     },
     "execution_count": 20,
     "metadata": {},
     "output_type": "execute_result"
    },
    {
     "data": {
      "image/png": "iVBORw0KGgoAAAANSUhEUgAAAWYAAAD4CAYAAADfPUyRAAAABHNCSVQICAgIfAhkiAAAAAlwSFlzAAALEgAACxIB0t1+/AAAADh0RVh0U29mdHdhcmUAbWF0cGxvdGxpYiB2ZXJzaW9uMy4xLjMsIGh0dHA6Ly9tYXRwbG90bGliLm9yZy+AADFEAAAdRklEQVR4nO3deZwdZZ3v8c+XhAQwAcMiEMJuVKJwEXIjF5SJRDS4gKgg4hIVjI4gi3o1vJjJCIwCigsjOBpZxFFBjYqBAWVxQK8KJiBLEmAIEaEJYTGsBkjS/Zs/qsI9NN2nzul6Tnd19ffNq15dp6rOr56Tbn799FNP/UoRgZmZVccGQ90AMzN7ISdmM7OKcWI2M6sYJ2Yzs4pxYjYzq5jRnT7B2keXJ5328cW9/zllOABO3H9l8piXX7tt0njveMcjSeMBnP2rLZPG++QeXUnjARx724TkMc+fs33agH9/Jm084IlL70kab25X2u81wNcOTv+5x//b5Sobo52cs+GWu5Q+Xye4x2xmVjEd7zGbmQ2qnu6hbkFpTsxmVi/d64a6BaU5MZtZrUT0DHUTSnNiNrN66XFiNjOrlpHQY5b0KuAQYDsggBXAgoi4o8NtMzNrXw0u/jWdLifp88AlgIA/AQvz9Yslzel888zM2hQ9rS8VVdRjPgp4dUSsbdwo6WvAEuCMvt4kaTYwG+BbX/1Xjv7Q+xI01cysWIyAWRk9wETgr722b5vv61NEzAPmQfo7/8zMmkp48U/STOBsYBRwXkSc0Wv/jsAFwFbAKuADEVH6FtiixHwCcK2ku4H78207AC8Hji17cjOz5BINUUgaBZwLHAh0AQslLYiIpQ2HnQV8PyIuknQAcDrwwbLnbpqYI+JXkl4BTCO7+Kf1DYyI4T/Cbmb1k+7i3zRgWUQsB5B0CdlEiMbEPAU4MV//L+DSFCcunJUR2WztG1KczMys49roMTdeD8vNy4diIeuM3t+wrwt4Xa8QtwLvJhvuOBQYL2mLiPhbu81u5HnMZlYvbVz8a7we1oe+Ks/1vmb2WeAcSR8Gfgs8AJS++ujEbGb1ku7iXxfQWCN2Etl9HM+LiBXAuwAkjQPeHRFPlD2xE7OZ1UrCy18LgcmSdibrCR8BHNl4gKQtgVX5kO9JZDM0Sut4Yk5d2P7km05LGg9g3z0+nDzmCYnjzbgsfVHyK/9X2sL2r78xfRtvPmvf5DGPm7ssabzuF/11W95TsWnSeKeMXp00HsB7L03/ua/4twRBEs3KiIh1ko4Ffk02Xe6CiFgi6VRgUUQsAKYDp0sKsqGMY1Kc2z1mM6uXhPOYI+IK4Ipe2+Y2rM8H5ic7Yc6J2czqpcK3WrfKidnM6qV7bfExFefEbGb14nrMZmYV46EMM7OKcY/ZzKxiapCYmxbKb0bSR5rsmy1pkaRFNz2dds6omVkz0b225aWqBpyYgVP62xER8yJiakRM3Xvcy0ucwsysTXV/gomk2/rbBWydvjlmZiXVYCijaIx5a+AtwGO9tgv4Q0daZGZWRoV7wq0qSsyXA+Mi4pbeOyRd15EWmZmVUfcec0Qc1WTfkf3tMzMbMiOgx2xmNrysq/9Tss3Mhhf3mIuduP/KpPE6UTv5D7d9L3nM3776pLTxvveepPEA3v+Ja5LGu/lLeyeNB7DdMckrKtJ1yvSk8bTr5KTxAJ675Mqk8Y7/4+ZJ4wHMP2li8phJ1H2M2cxs2HGP2cysYtxjNjOrGPeYzcwqxrMyzMwqJtI/JHawOTGbWb3UYIy5sLqcpFdJmiFpXK/tMzvXLDOzAerpaX2pqKaJWdJxwC+BTwGLJR3SsPtLnWyYmdmA1KDsZ1GP+WPA3hHxTmA68M+Sjs/3qb83NRbK/97dD6RpqZlZK7q7W18qqmiMeVREPA0QEfdKmg7Ml7QjTRJzRMwD5gE88cEZw38k3syGjwoPUbSqqMe8UtKe61/kSfrtwJbA7p1smJnZgNRgjLmox/wh4AWTAiNiHfAhSd/pWKvMzAaqwmPHrWraY46IrojoswpRRPy+M00yMxu46ImWlyKSZkq6S9IySXP6OeZwSUslLZH0oxSfwfOYzaxeEg1RSBoFnAscCHQBCyUtiIilDcdMBk4C9ouIxyS9LMW5nZjNrF7SzbaYBiyLiOUAki4BDgGWNhzzMeDciHgMICIeTnHiwhtMzMyGlXQX/7YD7m943ZVva/QK4BWSfi/phlQ33ik6fF/5Dyd+oPLT5bbpXps85v5LTk8a7/ev/nzSeAAbKu23prv/GZQDdtfoscljbrMu7fzVZ5W+f/P4qLT/lq9a92zSeAD3bbBR8pjvX/GD0h989dmfaPkH+yUnfOfjwOyGTfPy6b5IOgx4S0Qcnb/+IDAtIj61/mBJlwNrgcOBScDvgNdExONlPoOHMsysXtrobDbec9GHLmD7hteTgBV9HHNDRKwF/iLpLmAysLDlRvTBQxlmVi/phjIWApMl7SxpDHAEsKDXMZcCbwSQtCXZ0Mbysh/BPWYzq5cWpsG1IiLWSToW+DUwCrggIpZIOhVYFBEL8n1vlrQU6Ab+b0T8rey5nZjNrF4S1sCIiCuAK3ptm9uwHsCn8yUZJ2Yzq5Wo8K3WrXJiNrN6STSUMZQKE7OkaWQ99oWSpgAzgTvzLr6ZWbXUoFZG08Qs6V+Ag4DRkq4GXgdcB8yR9NqI+GLnm2hm1oYR0GN+D7AnMBZYCUyKiCclfQW4EegzMUuaTT5p+6ObTeOATSana7GZWTOJbyAaCkXzmNdFRHdErAbuiYgnASLiGaDfvxciYl5ETI2IqU7KZjaoavBoqaIe8xpJm+SJee/1GyVtRpPEbGY2ZEbAUMb+EfEcQMQLfr1sCMzqWKvMzAao9tPl1iflPrY/CjzakRaZmZUxAnrMZmbDixOzmVnFJLwle6g4MZtZrbTyLL+q63hifsc7Hkkab8ZlzySNB/Db770neczUhe33W3Jm0ngAJ049KWm8r5zzuqTxAA5411eTx3zynMOTxtP4TZPGA7h3bqlyvi/yhTVjksYDuPCz6T93Ek7MZmYVU/dZGWZmw457zGZmFePEbGZWLdHtoQwzs2pxj9nMrFrqMF2u7adkS/p+JxpiZpZET7S+VFRRofzej+oW8EZJLwWIiIM71TAzswEZ/kPMhUMZk4ClwHlAkCXmqUDTWf+NhfK/8YYpfGS3SeVbambWglg3/DNz0VDGVOAm4GTgiYi4DngmIq6PiOv7e1NjoXwnZTMbVD1tLBVVVPazB/i6pJ/mXx8qeo+Z2VCqw8W/lpJsRHQBh0l6G/BkZ5tkZlZChXvCrWqr9xsR/wn8Z4faYmZW2ojpMZuZDRsjrcdsZlZ1sW6oW1CeIjrb7T9tx/cnP8E/TulKGm/20s2SxgP4zHPp699evNGopPG+vuj0pPEATpp6ctJ4szd+LGk8gJ+t3jJ5zJVKmw0ejmeTxgP4XOL/19+z+v6k8QDuefRmlY3x6EH/0PIH3fLK65ueT9JM4GxgFHBeRJzRa/8ngGOAbuBpYHZELG270b20feffUEudlIeL1Em5E1In5eEidVLuhNRJudISTZeTNAo4FzgImAK8T9KUXof9KCJ2j4g9gS8DX0vxEYZdYjYzayZ6Wl8KTAOWRcTyiFgDXAIc8oJzRTTOUnsJ2Y14pXmM2cxqpYWE+7zGu5Rz8yJiXr6+HdA4XtMFvOj5aZKOAT4NjAEOaLO5fXJiNrNaie7Wh6nzJDyvn919BXpRjzgizgXOlXQk8E/ArJYb0A8nZjOrlXZ6zAW6gO0bXk8CVjQ5/hLg31Oc2GPMZlYr0aOWlwILgcmSdpY0BjgCeEHFTUmTG16+Dbg7xWdwj9nMaiVVjzki1kk6Fvg12XS5CyJiiaRTgUURsQA4VtKbgLXAYyQYxoA2E7Ok15NdqVwcEVelaICZWUoRpadCN8SKK4Arem2b27B+fLKTNWg6lCHpTw3rHwPOAcYD/yJpTpP3zZa0SNKiRU8vS9ZYM7MiCafLDZmiMeYNG9ZnAwdGxCnAm4H39/emxnrMU8e9PEEzzcxa09OtlpeqKhrK2EDSBLIEroh4BCAi/i4Ng9udzGzEaeGiXuUVJebNyJ5gIiAkbRMRKyWNo+85fmZmQ6r2iTkidupnVw9waPLWmJmVVIeyIAOaLhcRq4G/JG6LmVlpte8xm5kNNymnyw0VJ2Yzq5XuCs+2aFXHE/Mn90hbP/n1Nz6TNB7AzV/aO3nMhf+Utoj4V855UVGr0lLXTz590ReTxgPYZOIbksdcdfQeSeNtMGFc0ngAj175dNJ4Z69K/3CA20/bL3nMFNxjNjOrGI8xm5lVzIidlWFmVlXuMZuZVUx3z/CvZuzEbGa14qEMM7OK6anBrIyisp+vk7Rpvr6xpFMkXSbpTEmbDU4TzcxaF6GWl6oqGoy5AFidr59NVtTozHzbhR1sl5nZgES0vlRVYdnPiFhf3nNqROyVr/8/Sbf096bGR4J/dffJzNpx2/ItNTNrQe2HMoDFkj6Sr98qaSqApFeQPeOqT42F8p2UzWwwdfds0PJSVUUtOxr4B0n3AFOAP0paDnw332dmVinRxlJVRfWYnwA+LGk8sEt+fFdEPDQYjTMza1cdhjJami4XEU8Bt3a4LWZmpVV5tkWrPI/ZzGqlwg+/bpkTs5nVStTgcaROzGZWK+s8lFHs2NsmJI1381n7Jo0HsN0x85PHPHOztIXtD3jXV5PGA1i66+5J43WiqP3qFb9LHvPNe348abynulcmjQfw7jE7Jo33mYkrksYDOOC09J/7hn8sH8M9ZjOzivEYs5lZxdShx1zdW1/MzAagp42liKSZku6StEzSnD72j5X043z/jZJ2SvEZnJjNrFa6UctLM5JGAecCB5Hd+fw+SVN6HXYU8FhEvBz4OlmRt9KcmM2sVnrU+lJgGrAsIpZHxBrgEuCQXsccAlyUr88HZkgqPZbixGxmtdKDWl4kzZa0qGGZ3RBqO+D+htdd+Tb6OiavxPkEsEXZz9D04p+k44BfRMT9zY4zM6uKdooTRcQ8YF4/u/vq+fYO38oxbSvqMZ8G3Cjpd5I+KWmrsic0M+ukhBf/uoDtG15PAnpPCH/+GEmjyR4msqpE84HixLw8b8xpwN7AUkm/kjQrrzjXp8Y/D5Y9fW/ZNpqZtaxHankpsBCYLGlnSWOAI4AFvY5ZAMzK198D/Cai/LNRihJzRERPRFwVEUcBE4FvATPJknZ/b3q+UP7Lx+1Uto1mZi3rbmNpJh8zPhb4NXAH8JOIWCLpVEkH54edD2whaRnwaeBFU+oGougGkxf8SomItWS/IRZI2jhFA8zMUmphtkXLIuIK4Ipe2+Y2rD8LHJbujJmixPze/nZExDOJ22JmVlpPDe78K3qCyX8PVkPMzFKo8iOjWuVaGWZWKymHMoaKE7OZ1Yqry5mZVUy3e8zFzp+zffFBbThu7rKk8QC6TpmePOa1X346abwnzzk8aTyAs7/4SNJ4q47eI2k8SF/UHuCqW76TNF7PI39NGg9gzTe/nDTe4ZeNTRoP4JojNkweMwX3mM3MKsaJ2cysYmrwyD8nZjOrF/eYzcwqpuhW6+HAidnMasXzmM3MKqb2QxkNpe5WRMQ1ko4E9iWrtDQvL2pkZlYZtU/MwIX5MZtImgWMA34OzCB7HtasJu81Mxt0I6FWxu4RsUdemf8BYGJEdEv6AXBrf2/Kn5s1G+CbR07no69/TbIGm5k1U4cx5qJC+RvkwxnjgU3IHpsCMBbo97afxkL5TspmNphSFcofSkU95vOBO4FRwMnATyUtB/Yhe5S3mVml9NRgMKOoHvPXJf04X18h6fvAm4DvRsSfBqOBZmbtGAkX/4iIFQ3rjwPzO9oiM7MShn9/2fOYzaxmRkSP2cxsOFmn4d9n7nxi/nvaZ7Z2d+APFe06OXnMZ9XvbMIB0fhNk8YDWKkHk8bbYMK4pPEAnupemTxm6vrJG2y1Y9J4WdC0c77UgSlk2jz9z2QKwz8tu8dsZjXjoQwzs4qp/XQ5M7PhZvinZSdmM6sZD2WYmVVMJyYIDDYnZjOrlRHRY5a0K3AosD2wDrgbuDginuhw28zM2haD1GOWtDnwY2An4F7g8Ih4rNcxO5KVSh5FVvjtmxHx7aLYTavLSToO+DawEfC/gY3JEvQfJU1v83OYmXVcTxtLSXOAayNiMnBt/rq3B4F9I2JP4HXAHEkTiwIXlf38GDAzIv6VrHjRlIg4GZgJfL2/N0maLWmRpEUX3HBnURvMzJLpIVpeSjoEuChfvwh4Z+8DImJNRDyXvxxLcc6FFg9aP9wxlqwuMxFxH63WY97nVa20w8wsiWhjaexE5svsNk61dUQ8CJB/fVlfB0naXtJtwP3AmY2F4fpTNMZ8HrBQ0g3A/sCZ+Ym2Ala13n4zs8Gxro2ecETMA+b1t1/SNcA2few6uY1z3A/skQ9hXCppfkQ81Ow9RfWYz84bthvwtYi4M9/+CFmiNjOrlJQX/yLiTf3tk/SQpG0j4kFJ2wIPF8RaIWkJ8AYKyicXDmVExJKImL8+KZuZVdkgXvxbwP9/IPUs4Je9D5A0SdLG+foEYD/grqLALQ1Em5kNF9HGfyWdARwo6W7gwPw1kqZKOi8/ZjfgRkm3AtcDZ0XE7UWBfYOJmdXKYN1gEhF/A2b0sX0RcHS+fjWwR7uxnZjNrFa6w7dkF3ri0nuSxnsq0hfnfu6SK5PHfHzUdknj3Tt3YdJ4AA/HmKTxHr3y6aTxAN49Jn0R+jXf/HLagImL2gNs9IVzksabftncpPEA1i55IHnMFFz208ysYgbrluxOcmI2s1oZEUWMzMyGEw9lmJlVjIcyzMwqxrMyzMwqxkMZZmYV44t/ZmYVU4cx5qInmGwm6QxJd0r6W77ckW97aZP3PV/j9AcrC0uPmpklM4iF8jumqIjRT4DHgOkRsUVEbAG8Md/20/7e1Fgo/wPbFD5FxcwsmYhoeamqosS8U0ScGREr12+IiJURcSawQ2ebZmbWvm6i5aWqihLzXyV9TtLW6zdI2lrS58kek2JmVikjYSjjvcAWwPWSVklaBVwHbA4c1uG2mZm1rQ5DGUWPlnoM+Hy+vICkjwAXdqhdZmYDUuWecKvKPMHklGStMDNLZBCfYNIxTXvM+SO3+9wFbN3PPjOzITMSbsneGngL2fS4RgL+0MoJ5nZtOYBm9e+U0auTxgM4/o+bJ4959Lpnk8b7wpq0Re0B5iT+AT57VdrvNcBnJqafB3/4ZWOTxlP6OvnJC9ufeNOpSeMBvG/vE5LHbPro6BbVYSijKDFfDoyLiFt675B0XUdaZGZWQu0Tc0Qc1WTfkembY2ZWTpVnW7TKtTLMrFZq32M2MxtuqjzbolVOzGZWK90x/At/OjGbWa14jNnMrGI8xmxmVjF1GGMe8C3Zkq5ssu/5Qvl3PrV8oKcwM2tbT0TLSxmSNpd0taS7868T+jluB0lX5Q8ZWSppp6LYRU8w2aufZW9gz/7e11go/1Xjdylqg5lZMoNYK2MOcG1ETAauzV/35fvAVyJiN2Aa8HBR4KKhjIXA9WS3YPfW76OlzMyGyiDOyjgEmJ6vX0RWEvkFlTglTQFGR8TVABHxdCuBixLzHcDHI+Lu3jskuVC+mVVOO0MUkmYDsxs2zYuIeS2+feuIeBAgIh6U9LI+jnkF8LiknwM7A9cAcyKiu1ngosT8Bfof7vhUwXvNzAZdO0MUeRLuNxFLugbYpo9dJ7d4itHAG4DXAvcBPwY+DJxf9KZ+RUSzYk99DnSbmQ2lshf1GkXEm/rbJ+khSdvmveVt6XvsuAv4c0Qsz99zKbAPBYnZhfLNrFYG8eLfAmBWvj4L+GUfxywEJkjaKn99ALC0KLAL5ZtZrXQ3H75N6QzgJ5KOIhumOAxA0lTgExFxdER0S/oscK0kATcB3y0KrGa3L0p6iCaF8iNiYtEJnjru7Ulne7/30vRXXOeftGvymL84rfc/WTmHnrRp0ngAu59yQ9J4t5+2X9J4AAecdnvymNcckfbfUpun/96sXfJA0nhH/2F80ngAF9/0jeQxN9xyl9KPHdhh891bzjn3rbq9A485KM+F8s2sVmp/S7YL5ZvZcOMiRmZmFZNyVsZQcWI2s1qpQxEjJ2YzqxUXyjczqxiPMZuZVUwdxpjL3PnXr8Z6zBcuvq8TpzAz61NEtLxUVVE95k0lnS7pPyQd2Wvft/p7X2M95o+8ZodUbTUzK9RDtLxUVVGP+UKyu/x+Bhwh6WeSxub79uloy8zMBqAOPeaiMeZdI+Ld+fqlkk4GfiPp4A63y8xsQEbCrIyxkjaIyD5pRHxRUhfwW2Bcx1tnZtamkXDx7zKyMnXPi4iLgM8AazrVKDOzgar9UEZEfK6f7b+S9KXONMnMbODqcOefC+WbWa3UvsfsQvlmNtzUYYy56LfJQ8CewI69lp2AFe38Zmrxt9fsKscbqW0cqZ97OLRxJH/uOi9FQxnrC+X/tddyL3Bdqd8IfZtdfMiQxutEzOHQxk7EdBurG3M4tLHWXCjfzKxiOlIrw8zMBq5qiXlexeN1IuZwaGMnYrqN1Y05HNpYa02fkm1mZoOvaj1mM7MRz4nZzKxiKpGYJc2UdJekZZLmJIh3gaSHJS1O1L7tJf2XpDskLZF0fIKYG0n6k6Rb85hJ7qSUNErSnyVdnijevZJul3SLpEWJYr5U0nxJd+b/pv+nRKxX5m1bvzwp6YQEbTwx/74slnSxpI1Kxjs+j7VkoO3r6+da0uaSrpZ0d/51QoKYh+Xt7JE0NUG8r+Tf69sk/ULSS9uJOSIN9URqYBRwD7ALMAa4FZhSMub+wF7A4kRt3BbYK18fD/x3gjaKbI44wIbAjcA+Cdr6aeBHwOWJPvu9wJaJv+cXAUfn62OAlyb8WVoJ7FgyznbAX4CN89c/AT5cIt5rgMXAJmRTVK8BJg8gzot+roEvA3Py9TnAmQli7ga8kuxehakJ4r0ZGJ2vn9luG0fiUoUe8zRgWUQsj4g1wCXAIWUCRsRvgVUpGpfHezAibs7XnwLuIPuft0zMiIin85cb5kupK7GSJgFvA84rE6eTJG1K9j/v+QARsSYiHk8UfgZwT0T8NUGs0cDGkkaTJdQVJWLtBtwQEasjYh1wPXBou0H6+bk+hOwXHfnXd5aNGRF3RMRd7bavSbyr8s8NcAMwaSCxR5IqJObtgPsbXndRMul1kqSdgNeS9XDLxhol6RbgYeDqiCgb8xvA54CUlcIDuErSTZJS3L21C/AIcGE+5HKepJckiAtwBHBx2SAR8QBwFnAf8CDwRERcVSLkYmB/SVtI2gR4K7B92Xbmto6IByHrQAAvSxS3Uz4KXDnUjai6KiRm9bGtknP4JI0je8zWCRHxZNl4EdEdEXuS9SCmSXpNiba9HXg4Im4q265e9ouIvYCDgGMk7V8y3miyP3X/PSJeC/yd7E/wUiSNAQ4Gfpog1gSynujOwETgJZI+MNB4EXEH2Z/wVwO/IhuuW9f0TTWUPwFpHfDDoW5L1VUhMXfxwt7DJMr92dgRkjYkS8o/jIifp4yd/yl/HTCzRJj9gIMl3Us2HHSApB8kaNuK/OvDwC/Ihp7K6AK6Gv46mE+WqMs6CLg5Ih5KEOtNwF8i4pGIWAv8HNi3TMCIOD8i9oqI/cn+1L87QTsBHpK0LUD+9eFEcZOSNAt4O/D+yAebrX9VSMwLgcmSds57PUcAC4a4TS8gSWRjondExNcSxdxq/dVpSRuTJYM7BxovIk6KiEkRsRPZv+FvImLAvby8XS+RNH79OtlFnFIzXSJiJXC/pFfmm2YAS8vEzL2PBMMYufuAfSRtkn/vZ5BdVxgwSS/Lv+4AvIt0bV0AzMrXZwG/TBQ3GUkzgc8DB0fE6qFuz7Aw1Fcf81+ebyWb6XAPcHKCeBeTjQ2uJeuhHVUy3uvJhlduA27Jl7eWjLkH8Oc85mJgbsJ/z+kkmJVBNh58a74sSfG9yePuCSzKP/ulwISS8TYB/gZslvDf8BSyX5SLgf8AxpaM9zuyX0C3AjMGGONFP9fAFsC1ZD3wa4HNE8Q8NF9/jqz0769LxltGdh1p/f873071farr4luyzcwqpgpDGWZm1sCJ2cysYpyYzcwqxonZzKxinJjNzCrGidnMrGKcmM3MKuZ/AG1x7hb7gfuIAAAAAElFTkSuQmCC\n",
      "text/plain": [
       "<Figure size 432x288 with 2 Axes>"
      ]
     },
     "metadata": {
      "needs_background": "light"
     },
     "output_type": "display_data"
    }
   ],
   "source": [
    "import seaborn as sns\n",
    "\n",
    "sns.heatmap(cov)"
   ]
  },
  {
   "cell_type": "code",
   "execution_count": 7,
   "metadata": {},
   "outputs": [],
   "source": [
    "from scipy.cluster import hierarchy\n",
    "\n",
    "order = np.array(hierarchy.dendrogram(hierarchy.ward(cov), no_plot=True)['ivl'], dtype=\"int\")"
   ]
  },
  {
   "cell_type": "code",
   "execution_count": 8,
   "metadata": {},
   "outputs": [
    {
     "data": {
      "text/plain": [
       "array([12,  6,  2,  4, 10,  0,  8,  9,  3,  1,  7,  5, 11])"
      ]
     },
     "execution_count": 8,
     "metadata": {},
     "output_type": "execute_result"
    }
   ],
   "source": [
    "order"
   ]
  },
  {
   "cell_type": "code",
   "execution_count": 36,
   "metadata": {},
   "outputs": [],
   "source": [
    "orderList = list(order)\n",
    "cov_rows = cov[:,orderList]\n",
    "cov_ordered = cov_rows[orderList, :]"
   ]
  },
  {
   "cell_type": "code",
   "execution_count": 38,
   "metadata": {},
   "outputs": [
    {
     "data": {
      "text/plain": [
       "<matplotlib.axes._subplots.AxesSubplot at 0x7f8846827410>"
      ]
     },
     "execution_count": 38,
     "metadata": {},
     "output_type": "execute_result"
    },
    {
     "data": {
      "image/png": "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\n",
      "text/plain": [
       "<Figure size 432x288 with 2 Axes>"
      ]
     },
     "metadata": {
      "needs_background": "light"
     },
     "output_type": "display_data"
    }
   ],
   "source": [
    "sns.heatmap(cov_ordered)"
   ]
  },
  {
   "cell_type": "markdown",
   "metadata": {},
   "source": [
    "#### Supervised feature selection\n",
    "- The simplest one is based on the univariate statistics. Look at p-value or f-value."
   ]
  },
  {
   "cell_type": "code",
   "execution_count": 39,
   "metadata": {},
   "outputs": [],
   "source": [
    "from sklearn.feature_selection import f_regression\n",
    "\n",
    "f_values, p_values = f_regression(X, y)"
   ]
  },
  {
   "cell_type": "code",
   "execution_count": 49,
   "metadata": {},
   "outputs": [
    {
     "data": {
      "text/plain": [
       "<matplotlib.axes._subplots.AxesSubplot at 0x7f8846650510>"
      ]
     },
     "execution_count": 49,
     "metadata": {},
     "output_type": "execute_result"
    },
    {
     "data": {
      "image/png": "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\n",
      "text/plain": [
       "<Figure size 432x288 with 1 Axes>"
      ]
     },
     "metadata": {
      "needs_background": "light"
     },
     "output_type": "display_data"
    }
   ],
   "source": [
    "sns.scatterplot(sorted(order),f_values)"
   ]
  },
  {
   "cell_type": "code",
   "execution_count": 50,
   "metadata": {},
   "outputs": [
    {
     "name": "stdout",
     "output_type": "stream",
     "text": [
      "(379, 13)\n",
      "(379, 2)\n"
     ]
    }
   ],
   "source": [
    "from sklearn.feature_selection import SelectKBest, SelectPercentile, SelectFpr\n",
    "from sklearn.linear_model import RidgeCV\n",
    "\n",
    "select = SelectKBest(k=2, score_func = f_regression)\n",
    "select.fit(X_train, y_train)\n",
    "print(X_train.shape)\n",
    "print(select.transform(X_train).shape)"
   ]
  },
  {
   "cell_type": "code",
   "execution_count": 54,
   "metadata": {},
   "outputs": [
    {
     "data": {
      "text/plain": [
       "0.7179588510750902"
      ]
     },
     "execution_count": 54,
     "metadata": {},
     "output_type": "execute_result"
    }
   ],
   "source": [
    "from sklearn.pipeline import make_pipeline\n",
    "from sklearn.preprocessing import StandardScaler\n",
    "from sklearn.model_selection import cross_val_score\n",
    "\n",
    "all_features = make_pipeline(StandardScaler(), RidgeCV())\n",
    "\n",
    "np.mean(cross_val_score(all_features, X_train, y_train, cv=10))"
   ]
  },
  {
   "cell_type": "code",
   "execution_count": 58,
   "metadata": {},
   "outputs": [
    {
     "data": {
      "text/plain": [
       "0.6243625749168462"
      ]
     },
     "execution_count": 58,
     "metadata": {},
     "output_type": "execute_result"
    }
   ],
   "source": [
    "select_2 = make_pipeline(StandardScaler(), SelectKBest(k=2, score_func=f_regression), RidgeCV())\n",
    "\n",
    "np.mean(cross_val_score(select_2, X_train, y_train, cv=10))"
   ]
  },
  {
   "cell_type": "code",
   "execution_count": 60,
   "metadata": {},
   "outputs": [],
   "source": [
    "#mutual_info_regression is able to take on non-linear relationships.\n",
    "from sklearn.feature_selection import mutual_info_regression\n",
    "\n",
    "scores = mutual_info_regression(X_train, y_train, discrete_features=[3])"
   ]
  },
  {
   "cell_type": "code",
   "execution_count": 66,
   "metadata": {},
   "outputs": [
    {
     "data": {
      "text/plain": [
       "<matplotlib.axes._subplots.AxesSubplot at 0x7f88489df690>"
      ]
     },
     "execution_count": 66,
     "metadata": {},
     "output_type": "execute_result"
    },
    {
     "data": {
      "image/png": "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\n",
      "text/plain": [
       "<Figure size 432x288 with 1 Axes>"
      ]
     },
     "metadata": {
      "needs_background": "light"
     },
     "output_type": "display_data"
    }
   ],
   "source": [
    "sns.scatterplot(sorted(order),f_values)\n",
    "sns.scatterplot(sorted(order),scores)"
   ]
  },
  {
   "cell_type": "markdown",
   "metadata": {},
   "source": [
    "### Model-Based Feature Selection\n",
    "- Single fit: build a model, select features important to model. Could be Lasso, other linear models, tree-based models. Multivariate - linear models assume linear relation. "
   ]
  },
  {
   "cell_type": "code",
   "execution_count": 67,
   "metadata": {},
   "outputs": [
    {
     "name": "stdout",
     "output_type": "stream",
     "text": [
      "[-0.8827688   0.94452435 -0.0877915   0.58901443 -1.67730936  2.64640135\n",
      " -0.14442202 -2.78038351  1.67056079 -1.59143582 -2.12859861  0.71729559\n",
      " -3.60974068]\n"
     ]
    }
   ],
   "source": [
    "from sklearn.linear_model import LassoCV\n",
    "\n",
    "X_train_scaled = scale(X_train)\n",
    "lasso = LassoCV().fit(X_train_scaled, y_train)\n",
    "print(lasso.coef_)"
   ]
  },
  {
   "cell_type": "markdown",
   "metadata": {},
   "source": [
    "In lasso, one way is to use the features that are non-zero. For a tree-based model, we can use permutation importance to pick the most important features."
   ]
  },
  {
   "cell_type": "markdown",
   "metadata": {},
   "source": [
    "### SelectFromModel"
   ]
  },
  {
   "cell_type": "code",
   "execution_count": 68,
   "metadata": {},
   "outputs": [
    {
     "name": "stdout",
     "output_type": "stream",
     "text": [
      "(379, 11)\n"
     ]
    }
   ],
   "source": [
    "from sklearn.feature_selection import SelectFromModel\n",
    "\n",
    "select_lassocv = SelectFromModel(LassoCV(), threshold=1e-5)\n",
    "select_lassocv.fit(X_train, y_train)\n",
    "\n",
    "print(select_lassocv.transform(X_train).shape)"
   ]
  },
  {
   "cell_type": "code",
   "execution_count": 70,
   "metadata": {},
   "outputs": [
    {
     "name": "stdout",
     "output_type": "stream",
     "text": [
      "0.7171231551882247\n",
      "0.7179588510750902\n"
     ]
    }
   ],
   "source": [
    "pipe_lassocv = make_pipeline(StandardScaler(), select_lassocv, RidgeCV())\n",
    "\n",
    "print(np.mean(cross_val_score(pipe_lassocv, X_train, y_train, cv=10)))\n",
    "print(np.mean(cross_val_score(all_features, X_train, y_train, cv=10)))"
   ]
  },
  {
   "cell_type": "markdown",
   "metadata": {},
   "source": [
    "### Recursive Feature Elimination\n",
    "- Uses feature importances/coefficients, similar to \"SelectFromModel\n",
    "- Iteratively removes features (one by one or in groups)\n",
    "- Runtime: (n_features - n_feature_to_keep)/stepsize"
   ]
  },
  {
   "cell_type": "code",
   "execution_count": 71,
   "metadata": {},
   "outputs": [
    {
     "data": {
      "text/plain": [
       "array([ 9,  8, 13, 11,  5,  2, 12,  4,  7,  6,  3, 10,  1])"
      ]
     },
     "execution_count": 71,
     "metadata": {},
     "output_type": "execute_result"
    }
   ],
   "source": [
    "from sklearn.linear_model import LinearRegression\n",
    "from sklearn.feature_selection import RFE\n",
    "\n",
    "rfe = RFE(LinearRegression(), n_features_to_select=1)\n",
    "rfe.fit(X_train_scaled, y_train)\n",
    "rfe.ranking_"
   ]
  },
  {
   "cell_type": "code",
   "execution_count": 72,
   "metadata": {},
   "outputs": [
    {
     "name": "stdout",
     "output_type": "stream",
     "text": [
      "[ True  True False  True  True  True False  True  True  True  True  True\n",
      "  True]\n",
      "['CRIM' 'ZN' 'CHAS' 'NOX' 'RM' 'DIS' 'RAD' 'TAX' 'PTRATIO' 'B' 'LSTAT']\n"
     ]
    }
   ],
   "source": [
    "from sklearn.feature_selection import RFECV\n",
    "\n",
    "rfe = RFECV(LinearRegression(), cv=10)\n",
    "rfe.fit(X_train_scaled, y_train)\n",
    "\n",
    "print(rfe.support_)\n",
    "print(boston.feature_names[rfe.support_])"
   ]
  },
  {
   "cell_type": "code",
   "execution_count": 76,
   "metadata": {},
   "outputs": [
    {
     "data": {
      "text/plain": [
       "0.710217843628884"
      ]
     },
     "execution_count": 76,
     "metadata": {},
     "output_type": "execute_result"
    }
   ],
   "source": [
    "from sklearn.linear_model import RidgeCV\n",
    "\n",
    "pipe_rfe_ridgecv = make_pipeline(StandardScaler(),RFECV(LinearRegression(), cv=10), RidgeCV())\n",
    "\n",
    "np.mean(cross_val_score(pipe_rfe_ridgecv, X_train, y_train, cv=10))"
   ]
  },
  {
   "cell_type": "markdown",
   "metadata": {},
   "source": [
    "### SequentialFeatureSelector"
   ]
  },
  {
   "cell_type": "code",
   "execution_count": null,
   "metadata": {},
   "outputs": [],
   "source": [
    "from lxtend.feature_selection import SequentialFeatureSelector\n",
    "\n",
    "sfs = SequentialFeatureSelector(LinearRegression(), forward=False, k_features=?)\n",
    "sfs.fit(X_train_scaled, y_train)\n",
    "\n",
    "print(sfs.k_feature_idx_)\n",
    "print(boston.feature_names[np.array(sfs.k_feature_idx_)])\n",
    "print(sfs.k_score_)"
   ]
  },
  {
   "cell_type": "markdown",
   "metadata": {},
   "source": [
    "### RandomizedSearchCV"
   ]
  },
  {
   "cell_type": "code",
   "execution_count": null,
   "metadata": {},
   "outputs": [],
   "source": [
    "from scipy.stats import randint\n",
    "\n",
    "param_dist = {\"max_depth\": [3, None],\n",
    "             \"max_features\": randint(1, 11),\n",
    "             \"min_samples_split\": randint(2, 11),\n",
    "             \"bootstrap\": [True, False],\n",
    "             \"criterion\": [\"gini\", \"entropy\"]}\n",
    "\n",
    "n_iter_search = 20\n",
    "\n",
    "random_search = RandomizedSearchCV(clf, param_distributions=param_dist, n_iter=200)"
   ]
  },
  {
   "cell_type": "code",
   "execution_count": null,
   "metadata": {},
   "outputs": [],
   "source": []
  }
 ],
 "metadata": {
  "kernelspec": {
   "display_name": "Python 3",
   "language": "python",
   "name": "python3"
  },
  "language_info": {
   "codemirror_mode": {
    "name": "ipython",
    "version": 3
   },
   "file_extension": ".py",
   "mimetype": "text/x-python",
   "name": "python",
   "nbconvert_exporter": "python",
   "pygments_lexer": "ipython3",
   "version": "3.7.4"
  }
 },
 "nbformat": 4,
 "nbformat_minor": 2
}
# ml_tutorial
