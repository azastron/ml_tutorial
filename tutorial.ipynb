{
 "cells": [
  {
   "cell_type": "markdown",
   "metadata": {},
   "source": [
    "# TUTORIALS\n",
    "\n",
    "These are useful notes/codes I have taken from Andreas Muller's Applied Machine Learning Course at Columbia. "
   ]
  },
  {
   "cell_type": "markdown",
   "metadata": {},
   "source": [
    "## K Nearest Neighbors"
   ]
  },
  {
   "cell_type": "code",
   "execution_count": 393,
   "metadata": {},
   "outputs": [],
   "source": [
    "X_train, X_test, y_train, y_test = train_test_split(X, y)"
   ]
  },
  {
   "cell_type": "code",
   "execution_count": null,
   "metadata": {},
   "outputs": [],
   "source": [
    "knn = KNeighborsClassifier(n_neighbors=1)\n",
    "knn.fit(X_train, y_train)\n",
    "knn.score(X_test, y_test)\n",
    "knn.predict(X_test)"
   ]
  },
  {
   "cell_type": "code",
   "execution_count": null,
   "metadata": {},
   "outputs": [],
   "source": [
    "# decide on what number of nearest neighbors we should consider.\n",
    "X_trainval, X_test, y_trainval, y_test = train_test_split(X, y)\n",
    "X_train, X_val, y_train, y_val = train_test_split(X_trainval, y_trainval)\n",
    "\n",
    "val_score = []\n",
    "neighbors = np.arange(1,15,2)\n",
    "for i in neighbors:\n",
    "    knn = KNeighborsClassifier(n_neighbors=i)\n",
    "    knn.fit(X_train, y_train)\n",
    "    val_score.append(knn.score(X_val, y_val))\n",
    "best_n_neighbor = neighbors[np.argmax(val_score)]\n",
    "\n",
    "knn = KNeighborsClassifier(n_neighbors=best_n_neighbor)\n",
    "knn.fit(X_trainval, y_trainval)\n",
    "knn.score(X_test, y_test)\n",
    "y_pred = knn.predict(X_test)"
   ]
  },
  {
   "cell_type": "markdown",
   "metadata": {},
   "source": [
    "## Cross Validation"
   ]
  },
  {
   "cell_type": "code",
   "execution_count": null,
   "metadata": {},
   "outputs": [],
   "source": [
    "X_train, X_test, y_train, y_test = train_test_split(X, y)\n",
    "\n",
    "cross_val_score = []\n",
    "\n",
    "for i in neighbors:\n",
    "    knn = KNeighborsClassifier(n_neighbors=i)\n",
    "    scores = cross_val_score(knn, X_train, y_train, cv=10)\n",
    "    cross_val_score.append(np.mean(scores))\n",
    "    \n",
    "best_n_neighbor = neighbors[np.argmax(cross_val_score)]\n",
    "\n",
    "knn = KNeighborsClassifier(n_neighbors=best_n_neighbor)\n",
    "knn.fit(X_train, y_train)\n",
    "knn.score(X_test, y_test)"
   ]
  },
  {
   "cell_type": "markdown",
   "metadata": {},
   "source": [
    "## Grid Search Cross Validation"
   ]
  },
  {
   "cell_type": "code",
   "execution_count": null,
   "metadata": {},
   "outputs": [],
   "source": [
    "X_train, X_test, y_train, y_test = train_test_split(X, y, stratify=y)\n",
    "\n",
    "param_grid = {'n_neighbors': np.arange(1, 15, 2)}\n",
    "\n",
    "grid = GridSearchCV(KNeighborsClassifier(), param_grid=param_grid, cv=10, return_train_score=true)\n",
    "grid.fit(X_train, y_train)\n",
    "\n",
    "grid.best_score_\n",
    "grid.best_params_\n",
    "grid.score(X_test, y_test)\n",
    "\n",
    "#or\n",
    "\n",
    "print(\"test-set score: {:.3f}\").format(grid.score(X_test, y_test))"
   ]
  },
  {
   "cell_type": "code",
   "execution_count": null,
   "metadata": {},
   "outputs": [],
   "source": [
    "results = pd.DataFrame(grid.cv_results_)\n",
    "results.columns\n",
    "results.params"
   ]
  },
  {
   "cell_type": "markdown",
   "metadata": {},
   "source": [
    "### Kfold"
   ]
  },
  {
   "cell_type": "code",
   "execution_count": null,
   "metadata": {},
   "outputs": [],
   "source": [
    "dc=DummyClassifier('most_frequent')\n",
    "\n",
    "kf = KFold(n_splits=5, shuffle=True)\n",
    "res = cross_val_score(dc, X, y, cv=kf)\n",
    "np.mean(res), res.std()"
   ]
  },
  {
   "cell_type": "markdown",
   "metadata": {},
   "source": [
    "### Stratistification"
   ]
  },
  {
   "cell_type": "code",
   "execution_count": null,
   "metadata": {},
   "outputs": [],
   "source": [
    "skf = StratifiedKFold(n_splits=5, shuffle=True)\n",
    "res = cross_val_score(dc, X, y, cv=skf)\n",
    "np.mean(res), res.std()"
   ]
  },
  {
   "cell_type": "markdown",
   "metadata": {},
   "source": [
    "### Shuffle Split"
   ]
  },
  {
   "cell_type": "code",
   "execution_count": null,
   "metadata": {},
   "outputs": [],
   "source": [
    "ss = ShuffleSplit(n_splits=20, train_size=0.4, test_size=0.3)\n",
    "rs = RepeatedStratifiedKFold(n_splits=5, n_repeats=10)"
   ]
  },
  {
   "cell_type": "code",
   "execution_count": null,
   "metadata": {},
   "outputs": [],
   "source": [
    "cross_val_score(KNeighborsClassifier(), X, y, cv=ss)\n",
    "cross_val_score(KNeighborsClassifier(), X, y, cv=rs)"
   ]
  },
  {
   "cell_type": "markdown",
   "metadata": {},
   "source": [
    "### Cross Validate"
   ]
  },
  {
   "cell_type": "code",
   "execution_count": null,
   "metadata": {},
   "outputs": [],
   "source": [
    "res = cross_validate(KNeighborsClassifier(), X, y, return_train_score=True, scoring=[\"accuracy\",\"roc_auc\"])\n",
    "res_df = pd.DataFrame(res)"
   ]
  },
  {
   "cell_type": "markdown",
   "metadata": {},
   "source": [
    "## Standard Scaler"
   ]
  },
  {
   "cell_type": "code",
   "execution_count": null,
   "metadata": {},
   "outputs": [],
   "source": [
    "X_train, X_test, y_train, y_test = train_test_split(X, y, random_state=0)\n",
    "\n",
    "scaler = StandardScaler()\n",
    "scaler.fit(X_train)\n",
    "X_train_scaled = scaler.transform(X_train)\n",
    "\n",
    "ridge = Ridge().fit(X_train_scaled, y_train)\n",
    "X_test_scaled = scaler.transform(X_test)\n",
    "ridge.score(X_test_scaled, y_test)"
   ]
  },
  {
   "cell_type": "markdown",
   "metadata": {},
   "source": [
    "## Pipeline"
   ]
  },
  {
   "cell_type": "code",
   "execution_count": 410,
   "metadata": {},
   "outputs": [
    {
     "name": "stdout",
     "output_type": "stream",
     "text": [
      "[('standardscaler', StandardScaler(copy=True, with_mean=True, with_std=True)), ('kneighborsregressor', KNeighborsRegressor(algorithm='auto', leaf_size=30, metric='minkowski',\n",
      "                    metric_params=None, n_jobs=None, n_neighbors=5, p=2,\n",
      "                    weights='uniform'))]\n"
     ]
    }
   ],
   "source": [
    "knn_pipe = make_pipeline(StandardScaler(), KNeighborsRegressor())\n",
    "\n",
    "print(knn_pipe.steps)"
   ]
  },
  {
   "cell_type": "code",
   "execution_count": 414,
   "metadata": {},
   "outputs": [
    {
     "name": "stdout",
     "output_type": "stream",
     "text": [
      "Pipeline(memory=None,\n",
      "         steps=(('scaler',\n",
      "                 StandardScaler(copy=True, with_mean=True, with_std=True)),\n",
      "                ('regressor',\n",
      "                 <class 'sklearn.neighbors.regression.KNeighborsRegressor'>)),\n",
      "         verbose=False)\n"
     ]
    }
   ],
   "source": [
    "pipe = Pipeline(((\"scaler\", StandardScaler()), (\"regressor\",KNeighborsRegressor)))\n",
    "\n",
    "print(pipe)"
   ]
  },
  {
   "cell_type": "code",
   "execution_count": null,
   "metadata": {},
   "outputs": [],
   "source": [
    "param_grid = {'kneighborsregressor__n_neighbors': range(1, 10)}\n",
    "grid = GridSearchCV(knn_pipe, param_grid, cv=10)\n",
    "grid.fit(X_train, y_train)\n",
    "print(grid.best_params_)\n",
    "print(grid.score(X_test, y_test))"
   ]
  },
  {
   "cell_type": "markdown",
   "metadata": {},
   "source": [
    "### Going wild with Pipelines"
   ]
  },
  {
   "cell_type": "code",
   "execution_count": 415,
   "metadata": {},
   "outputs": [],
   "source": [
    "from sklearn.datasets import load_diabetes"
   ]
  },
  {
   "cell_type": "code",
   "execution_count": 418,
   "metadata": {},
   "outputs": [],
   "source": [
    "diabetes = load_diabetes()"
   ]
  },
  {
   "cell_type": "code",
   "execution_count": 419,
   "metadata": {},
   "outputs": [],
   "source": [
    "X_train, X_test, y_train, y_test = train_test_split(diabetes.data, diabetes.target, random_state=0)"
   ]
  },
  {
   "cell_type": "code",
   "execution_count": 423,
   "metadata": {},
   "outputs": [],
   "source": [
    "pipe = make_pipeline(StandardScaler(), PolynomialFeatures(), Ridge())"
   ]
  },
  {
   "cell_type": "code",
   "execution_count": null,
   "metadata": {},
   "outputs": [],
   "source": [
    "param_grid = {'polynomialfeatures__degree': [1, 2, 3], 'ridge__alpha': [0.001, 0.01, 0.1, 1, 10, 100]}\n",
    "grid = GridSearchCV(pipe, param_grid=param_grid, n_jobs=-1, return_train_score=True, cv=5)\n",
    "grid.fit(X_train, y_train)"
   ]
  },
  {
   "cell_type": "code",
   "execution_count": 427,
   "metadata": {},
   "outputs": [],
   "source": [
    "pipe = Pipeline([('scaler', StandardScaler()), ('regressor', Ridge())])"
   ]
  },
  {
   "cell_type": "code",
   "execution_count": 431,
   "metadata": {},
   "outputs": [],
   "source": [
    "param_grid = {'scaler': [StandardScaler(), MinMaxScaler(), 'passthrough'],\n",
    "             'regressor':[Ridge(), Lasso()], 'regressor__alpha': np.logspace(-3, 3, 7)}"
   ]
  },
  {
   "cell_type": "code",
   "execution_count": 434,
   "metadata": {},
   "outputs": [],
   "source": [
    "grid = GridSearchCV(pipe, param_grid, cv=5)"
   ]
  },
  {
   "cell_type": "code",
   "execution_count": 435,
   "metadata": {},
   "outputs": [
    {
     "data": {
      "text/plain": [
       "GridSearchCV(cv=5, error_score='raise-deprecating',\n",
       "             estimator=Pipeline(memory=None,\n",
       "                                steps=[('scaler',\n",
       "                                        StandardScaler(copy=True,\n",
       "                                                       with_mean=True,\n",
       "                                                       with_std=True)),\n",
       "                                       ('regressor',\n",
       "                                        Ridge(alpha=1.0, copy_X=True,\n",
       "                                              fit_intercept=True, max_iter=None,\n",
       "                                              normalize=False,\n",
       "                                              random_state=None, solver='auto',\n",
       "                                              tol=0.001))],\n",
       "                                verbose=False),\n",
       "             iid='warn', n_jobs=None,\n",
       "             param_grid={'regressor'...\n",
       "                                             random_state=None,\n",
       "                                             selection='cyclic', tol=0.0001,\n",
       "                                             warm_start=False)],\n",
       "                         'regressor__alpha': array([1.e-03, 1.e-02, 1.e-01, 1.e+00, 1.e+01, 1.e+02, 1.e+03]),\n",
       "                         'scaler': [StandardScaler(copy=True, with_mean=True,\n",
       "                                                   with_std=True),\n",
       "                                    MinMaxScaler(copy=True,\n",
       "                                                 feature_range=(0, 1)),\n",
       "                                    'passthrough']},\n",
       "             pre_dispatch='2*n_jobs', refit=True, return_train_score=False,\n",
       "             scoring=None, verbose=0)"
      ]
     },
     "execution_count": 435,
     "metadata": {},
     "output_type": "execute_result"
    }
   ],
   "source": [
    "grid.fit(X_train, y_train)"
   ]
  },
  {
   "cell_type": "code",
   "execution_count": 436,
   "metadata": {},
   "outputs": [
    {
     "data": {
      "text/plain": [
       "0.35500225702888577"
      ]
     },
     "execution_count": 436,
     "metadata": {},
     "output_type": "execute_result"
    }
   ],
   "source": [
    "grid.score(X_test, y_test)"
   ]
  },
  {
   "cell_type": "markdown",
   "metadata": {},
   "source": [
    "### Going wildest with Pipelines: \n",
    "using lists of dictionaries for param_grid to check out searchgrid for more convenience**"
   ]
  },
  {
   "cell_type": "code",
   "execution_count": 439,
   "metadata": {},
   "outputs": [],
   "source": [
    "pipe = Pipeline([('scaler', StandardScaler()), ('regressor', Ridge())])"
   ]
  },
  {
   "cell_type": "code",
   "execution_count": 440,
   "metadata": {},
   "outputs": [],
   "source": [
    "param_grid = [{'regressor': [DecisionTreeRegressor()], 'regressor__max_depth':[2, 3, 4],\n",
    "               'scaler':['passthrough']},\n",
    "              {'regressor':[Ridge()], 'regressor__alpha': [0.1, 1],\n",
    "               'scaler':[StandardScaler(), MinMaxScaler(), 'passthrough']}]"
   ]
  },
  {
   "cell_type": "code",
   "execution_count": 441,
   "metadata": {},
   "outputs": [],
   "source": [
    "grid = GridSearchCV(pipe, param_grid = param_grid, cv=5)"
   ]
  },
  {
   "cell_type": "code",
   "execution_count": 442,
   "metadata": {},
   "outputs": [
    {
     "data": {
      "text/plain": [
       "GridSearchCV(cv=5, error_score='raise-deprecating',\n",
       "             estimator=Pipeline(memory=None,\n",
       "                                steps=[('scaler',\n",
       "                                        StandardScaler(copy=True,\n",
       "                                                       with_mean=True,\n",
       "                                                       with_std=True)),\n",
       "                                       ('regressor',\n",
       "                                        Ridge(alpha=1.0, copy_X=True,\n",
       "                                              fit_intercept=True, max_iter=None,\n",
       "                                              normalize=False,\n",
       "                                              random_state=None, solver='auto',\n",
       "                                              tol=0.001))],\n",
       "                                verbose=False),\n",
       "             iid='warn', n_jobs=None,\n",
       "             param_grid=[{'regressor...\n",
       "                         {'regressor': [Ridge(alpha=0.1, copy_X=True,\n",
       "                                              fit_intercept=True, max_iter=None,\n",
       "                                              normalize=False,\n",
       "                                              random_state=None, solver='auto',\n",
       "                                              tol=0.001)],\n",
       "                          'regressor__alpha': [0.1, 1],\n",
       "                          'scaler': [StandardScaler(copy=True, with_mean=True,\n",
       "                                                    with_std=True),\n",
       "                                     MinMaxScaler(copy=True,\n",
       "                                                  feature_range=(0, 1)),\n",
       "                                     'passthrough']}],\n",
       "             pre_dispatch='2*n_jobs', refit=True, return_train_score=False,\n",
       "             scoring=None, verbose=0)"
      ]
     },
     "execution_count": 442,
     "metadata": {},
     "output_type": "execute_result"
    }
   ],
   "source": [
    "grid.fit(X_train, y_train)"
   ]
  },
  {
   "cell_type": "code",
   "execution_count": 443,
   "metadata": {},
   "outputs": [
    {
     "data": {
      "text/plain": [
       "0.36901969445308325"
      ]
     },
     "execution_count": 443,
     "metadata": {},
     "output_type": "execute_result"
    }
   ],
   "source": [
    "grid.score(X_test, y_test)"
   ]
  },
  {
   "cell_type": "markdown",
   "metadata": {},
   "source": [
    "## Categorical Data: Ordinal Encoding"
   ]
  },
  {
   "cell_type": "code",
   "execution_count": 585,
   "metadata": {},
   "outputs": [],
   "source": [
    "df = pd.DataFrame({'boro':['Manhattan','Queens','Manhattan','Brooklyn','Brooklyn', 'Bronx'],\n",
    "                   'salary':[103, 89, 142, 54, 63, 219],\n",
    "                   'vegan':['No','No','No','Yes','Yes','No']})"
   ]
  },
  {
   "cell_type": "code",
   "execution_count": 586,
   "metadata": {},
   "outputs": [
    {
     "data": {
      "text/html": [
       "<div>\n",
       "<style scoped>\n",
       "    .dataframe tbody tr th:only-of-type {\n",
       "        vertical-align: middle;\n",
       "    }\n",
       "\n",
       "    .dataframe tbody tr th {\n",
       "        vertical-align: top;\n",
       "    }\n",
       "\n",
       "    .dataframe thead th {\n",
       "        text-align: right;\n",
       "    }\n",
       "</style>\n",
       "<table border=\"1\" class=\"dataframe\">\n",
       "  <thead>\n",
       "    <tr style=\"text-align: right;\">\n",
       "      <th></th>\n",
       "      <th>boro</th>\n",
       "      <th>salary</th>\n",
       "      <th>vegan</th>\n",
       "    </tr>\n",
       "  </thead>\n",
       "  <tbody>\n",
       "    <tr>\n",
       "      <td>0</td>\n",
       "      <td>Manhattan</td>\n",
       "      <td>103</td>\n",
       "      <td>No</td>\n",
       "    </tr>\n",
       "    <tr>\n",
       "      <td>1</td>\n",
       "      <td>Queens</td>\n",
       "      <td>89</td>\n",
       "      <td>No</td>\n",
       "    </tr>\n",
       "    <tr>\n",
       "      <td>2</td>\n",
       "      <td>Manhattan</td>\n",
       "      <td>142</td>\n",
       "      <td>No</td>\n",
       "    </tr>\n",
       "    <tr>\n",
       "      <td>3</td>\n",
       "      <td>Brooklyn</td>\n",
       "      <td>54</td>\n",
       "      <td>Yes</td>\n",
       "    </tr>\n",
       "    <tr>\n",
       "      <td>4</td>\n",
       "      <td>Brooklyn</td>\n",
       "      <td>63</td>\n",
       "      <td>Yes</td>\n",
       "    </tr>\n",
       "    <tr>\n",
       "      <td>5</td>\n",
       "      <td>Bronx</td>\n",
       "      <td>219</td>\n",
       "      <td>No</td>\n",
       "    </tr>\n",
       "  </tbody>\n",
       "</table>\n",
       "</div>"
      ],
      "text/plain": [
       "        boro  salary vegan\n",
       "0  Manhattan     103    No\n",
       "1     Queens      89    No\n",
       "2  Manhattan     142    No\n",
       "3   Brooklyn      54   Yes\n",
       "4   Brooklyn      63   Yes\n",
       "5      Bronx     219    No"
      ]
     },
     "execution_count": 586,
     "metadata": {},
     "output_type": "execute_result"
    }
   ],
   "source": [
    "df"
   ]
  },
  {
   "cell_type": "code",
   "execution_count": 447,
   "metadata": {},
   "outputs": [],
   "source": [
    "df['boro_ordinal'] = df.boro.astype(\"category\").cat.codes"
   ]
  },
  {
   "cell_type": "code",
   "execution_count": 448,
   "metadata": {},
   "outputs": [
    {
     "data": {
      "text/html": [
       "<div>\n",
       "<style scoped>\n",
       "    .dataframe tbody tr th:only-of-type {\n",
       "        vertical-align: middle;\n",
       "    }\n",
       "\n",
       "    .dataframe tbody tr th {\n",
       "        vertical-align: top;\n",
       "    }\n",
       "\n",
       "    .dataframe thead th {\n",
       "        text-align: right;\n",
       "    }\n",
       "</style>\n",
       "<table border=\"1\" class=\"dataframe\">\n",
       "  <thead>\n",
       "    <tr style=\"text-align: right;\">\n",
       "      <th></th>\n",
       "      <th>boro</th>\n",
       "      <th>salary</th>\n",
       "      <th>vegan</th>\n",
       "      <th>boro_ordinal</th>\n",
       "    </tr>\n",
       "  </thead>\n",
       "  <tbody>\n",
       "    <tr>\n",
       "      <td>0</td>\n",
       "      <td>Manhattan</td>\n",
       "      <td>103</td>\n",
       "      <td>No</td>\n",
       "      <td>2</td>\n",
       "    </tr>\n",
       "    <tr>\n",
       "      <td>1</td>\n",
       "      <td>Queens</td>\n",
       "      <td>89</td>\n",
       "      <td>No</td>\n",
       "      <td>3</td>\n",
       "    </tr>\n",
       "    <tr>\n",
       "      <td>2</td>\n",
       "      <td>Manhattan</td>\n",
       "      <td>142</td>\n",
       "      <td>No</td>\n",
       "      <td>2</td>\n",
       "    </tr>\n",
       "    <tr>\n",
       "      <td>3</td>\n",
       "      <td>Brooklyn</td>\n",
       "      <td>54</td>\n",
       "      <td>Yes</td>\n",
       "      <td>1</td>\n",
       "    </tr>\n",
       "    <tr>\n",
       "      <td>4</td>\n",
       "      <td>Brooklyn</td>\n",
       "      <td>63</td>\n",
       "      <td>Yes</td>\n",
       "      <td>1</td>\n",
       "    </tr>\n",
       "    <tr>\n",
       "      <td>5</td>\n",
       "      <td>Bronx</td>\n",
       "      <td>219</td>\n",
       "      <td>No</td>\n",
       "      <td>0</td>\n",
       "    </tr>\n",
       "  </tbody>\n",
       "</table>\n",
       "</div>"
      ],
      "text/plain": [
       "        boro  salary vegan  boro_ordinal\n",
       "0  Manhattan     103    No             2\n",
       "1     Queens      89    No             3\n",
       "2  Manhattan     142    No             2\n",
       "3   Brooklyn      54   Yes             1\n",
       "4   Brooklyn      63   Yes             1\n",
       "5      Bronx     219    No             0"
      ]
     },
     "execution_count": 448,
     "metadata": {},
     "output_type": "execute_result"
    }
   ],
   "source": [
    "df"
   ]
  },
  {
   "cell_type": "markdown",
   "metadata": {},
   "source": [
    "### One-Hot (Dummy) Encoding"
   ]
  },
  {
   "cell_type": "code",
   "execution_count": 451,
   "metadata": {},
   "outputs": [
    {
     "data": {
      "text/html": [
       "<div>\n",
       "<style scoped>\n",
       "    .dataframe tbody tr th:only-of-type {\n",
       "        vertical-align: middle;\n",
       "    }\n",
       "\n",
       "    .dataframe tbody tr th {\n",
       "        vertical-align: top;\n",
       "    }\n",
       "\n",
       "    .dataframe thead th {\n",
       "        text-align: right;\n",
       "    }\n",
       "</style>\n",
       "<table border=\"1\" class=\"dataframe\">\n",
       "  <thead>\n",
       "    <tr style=\"text-align: right;\">\n",
       "      <th></th>\n",
       "      <th>salary</th>\n",
       "      <th>vegan</th>\n",
       "      <th>boro_ordinal</th>\n",
       "      <th>boro_Bronx</th>\n",
       "      <th>boro_Brooklyn</th>\n",
       "      <th>boro_Manhattan</th>\n",
       "      <th>boro_Queens</th>\n",
       "    </tr>\n",
       "  </thead>\n",
       "  <tbody>\n",
       "    <tr>\n",
       "      <td>0</td>\n",
       "      <td>103</td>\n",
       "      <td>No</td>\n",
       "      <td>2</td>\n",
       "      <td>0</td>\n",
       "      <td>0</td>\n",
       "      <td>1</td>\n",
       "      <td>0</td>\n",
       "    </tr>\n",
       "    <tr>\n",
       "      <td>1</td>\n",
       "      <td>89</td>\n",
       "      <td>No</td>\n",
       "      <td>3</td>\n",
       "      <td>0</td>\n",
       "      <td>0</td>\n",
       "      <td>0</td>\n",
       "      <td>1</td>\n",
       "    </tr>\n",
       "    <tr>\n",
       "      <td>2</td>\n",
       "      <td>142</td>\n",
       "      <td>No</td>\n",
       "      <td>2</td>\n",
       "      <td>0</td>\n",
       "      <td>0</td>\n",
       "      <td>1</td>\n",
       "      <td>0</td>\n",
       "    </tr>\n",
       "    <tr>\n",
       "      <td>3</td>\n",
       "      <td>54</td>\n",
       "      <td>Yes</td>\n",
       "      <td>1</td>\n",
       "      <td>0</td>\n",
       "      <td>1</td>\n",
       "      <td>0</td>\n",
       "      <td>0</td>\n",
       "    </tr>\n",
       "    <tr>\n",
       "      <td>4</td>\n",
       "      <td>63</td>\n",
       "      <td>Yes</td>\n",
       "      <td>1</td>\n",
       "      <td>0</td>\n",
       "      <td>1</td>\n",
       "      <td>0</td>\n",
       "      <td>0</td>\n",
       "    </tr>\n",
       "    <tr>\n",
       "      <td>5</td>\n",
       "      <td>219</td>\n",
       "      <td>No</td>\n",
       "      <td>0</td>\n",
       "      <td>1</td>\n",
       "      <td>0</td>\n",
       "      <td>0</td>\n",
       "      <td>0</td>\n",
       "    </tr>\n",
       "  </tbody>\n",
       "</table>\n",
       "</div>"
      ],
      "text/plain": [
       "   salary vegan  boro_ordinal  boro_Bronx  boro_Brooklyn  boro_Manhattan  \\\n",
       "0     103    No             2           0              0               1   \n",
       "1      89    No             3           0              0               0   \n",
       "2     142    No             2           0              0               1   \n",
       "3      54   Yes             1           0              1               0   \n",
       "4      63   Yes             1           0              1               0   \n",
       "5     219    No             0           1              0               0   \n",
       "\n",
       "   boro_Queens  \n",
       "0            0  \n",
       "1            1  \n",
       "2            0  \n",
       "3            0  \n",
       "4            0  \n",
       "5            0  "
      ]
     },
     "execution_count": 451,
     "metadata": {},
     "output_type": "execute_result"
    }
   ],
   "source": [
    "pd.get_dummies(df, columns=['boro'])"
   ]
  },
  {
   "cell_type": "code",
   "execution_count": 587,
   "metadata": {},
   "outputs": [
    {
     "data": {
      "text/html": [
       "<div>\n",
       "<style scoped>\n",
       "    .dataframe tbody tr th:only-of-type {\n",
       "        vertical-align: middle;\n",
       "    }\n",
       "\n",
       "    .dataframe tbody tr th {\n",
       "        vertical-align: top;\n",
       "    }\n",
       "\n",
       "    .dataframe thead th {\n",
       "        text-align: right;\n",
       "    }\n",
       "</style>\n",
       "<table border=\"1\" class=\"dataframe\">\n",
       "  <thead>\n",
       "    <tr style=\"text-align: right;\">\n",
       "      <th></th>\n",
       "      <th>salary</th>\n",
       "      <th>vegan</th>\n",
       "      <th>boro_Manhattan</th>\n",
       "      <th>boro_Queens</th>\n",
       "      <th>boro_Brooklyn</th>\n",
       "      <th>boro_Bronx</th>\n",
       "      <th>boro_Staten Island</th>\n",
       "    </tr>\n",
       "  </thead>\n",
       "  <tbody>\n",
       "    <tr>\n",
       "      <td>0</td>\n",
       "      <td>103</td>\n",
       "      <td>No</td>\n",
       "      <td>1</td>\n",
       "      <td>0</td>\n",
       "      <td>0</td>\n",
       "      <td>0</td>\n",
       "      <td>0</td>\n",
       "    </tr>\n",
       "    <tr>\n",
       "      <td>1</td>\n",
       "      <td>89</td>\n",
       "      <td>No</td>\n",
       "      <td>0</td>\n",
       "      <td>1</td>\n",
       "      <td>0</td>\n",
       "      <td>0</td>\n",
       "      <td>0</td>\n",
       "    </tr>\n",
       "    <tr>\n",
       "      <td>2</td>\n",
       "      <td>142</td>\n",
       "      <td>No</td>\n",
       "      <td>1</td>\n",
       "      <td>0</td>\n",
       "      <td>0</td>\n",
       "      <td>0</td>\n",
       "      <td>0</td>\n",
       "    </tr>\n",
       "    <tr>\n",
       "      <td>3</td>\n",
       "      <td>54</td>\n",
       "      <td>Yes</td>\n",
       "      <td>0</td>\n",
       "      <td>0</td>\n",
       "      <td>1</td>\n",
       "      <td>0</td>\n",
       "      <td>0</td>\n",
       "    </tr>\n",
       "    <tr>\n",
       "      <td>4</td>\n",
       "      <td>63</td>\n",
       "      <td>Yes</td>\n",
       "      <td>0</td>\n",
       "      <td>0</td>\n",
       "      <td>1</td>\n",
       "      <td>0</td>\n",
       "      <td>0</td>\n",
       "    </tr>\n",
       "    <tr>\n",
       "      <td>5</td>\n",
       "      <td>219</td>\n",
       "      <td>No</td>\n",
       "      <td>0</td>\n",
       "      <td>0</td>\n",
       "      <td>0</td>\n",
       "      <td>1</td>\n",
       "      <td>0</td>\n",
       "    </tr>\n",
       "  </tbody>\n",
       "</table>\n",
       "</div>"
      ],
      "text/plain": [
       "   salary vegan  boro_Manhattan  boro_Queens  boro_Brooklyn  boro_Bronx  \\\n",
       "0     103    No               1            0              0           0   \n",
       "1      89    No               0            1              0           0   \n",
       "2     142    No               1            0              0           0   \n",
       "3      54   Yes               0            0              1           0   \n",
       "4      63   Yes               0            0              1           0   \n",
       "5     219    No               0            0              0           1   \n",
       "\n",
       "   boro_Staten Island  \n",
       "0                   0  \n",
       "1                   0  \n",
       "2                   0  \n",
       "3                   0  \n",
       "4                   0  \n",
       "5                   0  "
      ]
     },
     "execution_count": 587,
     "metadata": {},
     "output_type": "execute_result"
    }
   ],
   "source": [
    "df['boro'] = pd.Categorical(df.boro, categories=['Manhattan','Queens','Brooklyn','Bronx','Staten Island'])\n",
    "\n",
    "pd.get_dummies(df, columns=['boro'])"
   ]
  },
  {
   "cell_type": "code",
   "execution_count": null,
   "metadata": {},
   "outputs": [],
   "source": [
    "#OneHotEncoder\n",
    "\n",
    "ce = OneHotEncoder().fit(df)\n",
    "ce.transform(df).toarray()\n",
    "\n",
    "#OneHotEncoder + Column Transformer\n",
    "#Always use Column Transformer\n",
    "\n",
    "categorical = df.dtypes == object\n",
    "\n",
    "preprocess = make_column_transformer(\n",
    "            (StandardScaler(), ~categorical),\n",
    "            (OneHotEncoder(), categorical))\n",
    "\n",
    "model = make_pipeline(preprocess, LogisticRegression())"
   ]
  },
  {
   "cell_type": "code",
   "execution_count": 452,
   "metadata": {},
   "outputs": [],
   "source": [
    "#Target Encoder\n",
    "te = TargetEncoder(cols='zipcode').fit(X_train, y_train)\n",
    "te.transform(X_train)\n",
    "\n",
    "y_train.groupby(X_train.zipcode).mean()[X_train.head().zipcode]"
   ]
  },
  {
   "cell_type": "code",
   "execution_count": null,
   "metadata": {},
   "outputs": [],
   "source": [
    "X = data.frame.drop(['date','price','zipcode'], axis=1)\n",
    "scores = cross_val_score(Ridge(), X, target)\n",
    "np.mean(scores)"
   ]
  },
  {
   "cell_type": "code",
   "execution_count": null,
   "metadata": {},
   "outputs": [],
   "source": [
    "\n",
    "X = data.frame.drop(['date', 'price'], axis=1)\n",
    "\n",
    "ct = make_column_transformer((OneHotEncoder(), ['zipcode']), remainder='passthrough')\n",
    "pipe_ohe = make_pipeline(ct, Ridge())\n",
    "scores = cross_val_score(pipe_ohe, X, target)\n",
    "np.mean(scores)"
   ]
  },
  {
   "cell_type": "code",
   "execution_count": null,
   "metadata": {},
   "outputs": [],
   "source": [
    "X = data.frame.drop(['date', 'price'], axis=1)\n",
    "pipe_target = make_pipeline(TargetEncoder(cols='zipcode'), Ridge())\n",
    "scores = cross_val_score(pipe_target, X, target)\n",
    "np.mean(scores)"
   ]
  },
  {
   "cell_type": "markdown",
   "metadata": {},
   "source": [
    "## Imputer"
   ]
  },
  {
   "cell_type": "markdown",
   "metadata": {},
   "source": [
    "### Drop NAN Columns"
   ]
  },
  {
   "cell_type": "code",
   "execution_count": null,
   "metadata": {},
   "outputs": [],
   "source": [
    "nan_columns = np.any(np.isnan(X_train), axis=0)\n",
    "X_drop_columns = X_train[:,~nan_columns]\n",
    "\n",
    "logreg = make_pipeline(StandardScaler(), LogisticRegression())\n",
    "scores = cross_val_score(logreg, X_drop_columns, y_train, cv=10)\n",
    "\n",
    "np.mean(scores)"
   ]
  },
  {
   "cell_type": "markdown",
   "metadata": {},
   "source": [
    "### SimpleImputer"
   ]
  },
  {
   "cell_type": "code",
   "execution_count": null,
   "metadata": {},
   "outputs": [],
   "source": [
    "mean_pipe = make_pipeline(SimpleImputer(strategy='median'),\n",
    "                          StandardScaler(),\n",
    "                          LogisticRegression())\n",
    "scores = cross_val_score(mean_pipe, X_train, y_train, cv=10)\n",
    "\n",
    "np.mean(scores)"
   ]
  },
  {
   "cell_type": "markdown",
   "metadata": {},
   "source": [
    "### KNN Imputer"
   ]
  },
  {
   "cell_type": "code",
   "execution_count": null,
   "metadata": {},
   "outputs": [],
   "source": [
    "knn_pipe = make_pipeline(KNNImputer(), \n",
    "                         StandardScaler(), \n",
    "                         LogisticRegression())"
   ]
  },
  {
   "cell_type": "markdown",
   "metadata": {},
   "source": [
    "### Model-Driven Imputation"
   ]
  },
  {
   "cell_type": "code",
   "execution_count": null,
   "metadata": {},
   "outputs": [],
   "source": [
    "#Random Forest Imputation\n",
    "#Note. Never converges, but it works! Stops as soon as the values start going up!\n",
    "rf_imp = IterativeImputer(predictor=RandomForestRegressor())\n",
    "rf_pipe = make_pipeline(rf_imp, \n",
    "                        StandardSacler(), \n",
    "                        LogisticRegression())\n",
    "\n",
    "scores = cross_val_score(rf_pipe, X_rf_imp, y_train, cv=10)\n",
    "np.mean(scores)"
   ]
  },
  {
   "cell_type": "markdown",
   "metadata": {},
   "source": [
    "## Linear Models for Regression"
   ]
  },
  {
   "cell_type": "code",
   "execution_count": 2,
   "metadata": {},
   "outputs": [],
   "source": [
    "#Note. They are called linear, not because of X, but because of the coefficients W_i. y(hat) = W(transpose) * X + b = Sigma(W_i*x_i) + b, i from 1 to p."
   ]
  },
  {
   "cell_type": "markdown",
   "metadata": {},
   "source": [
    "### Ridge, Lasso, and Elastic Net Regression"
   ]
  },
  {
   "cell_type": "code",
   "execution_count": 6,
   "metadata": {},
   "outputs": [],
   "source": [
    "#Ridge: add a term to minimization: alpha * ||w||^2\n",
    "#Lasso: instead of ||w||^2, we use the sum of absolute values: alpha * ||w||_1\n",
    "#Elastic Net: alpha1 * ||w||_1 + alpha2 * ||w||_2^2 = alpha * eta * ||w||_1 + alpha * (1-eta) * ||w||_2^2\n",
    "\n",
    "#alpha is between 0 and 1 and it is better to use a log space to search for the best alpha. \n",
    "\n",
    "#For Elastic Net, eta is the relative amount of L1 penalty (l1_ratio in the code)"
   ]
  },
  {
   "cell_type": "markdown",
   "metadata": {},
   "source": [
    "### Preprocessing Example"
   ]
  },
  {
   "cell_type": "code",
   "execution_count": null,
   "metadata": {},
   "outputs": [],
   "source": [
    "cat_perprocessing = make_pipeline(SimpleImputer(strategy='constant', fill_value='NA'), OneHotEncoder(handle_unknown='ignore'))\n",
    "\n",
    "cont_preprocessing = make_pipeline(SimpleImputer(), StandardScaler())\n",
    "\n",
    "preprocess = make_column_transformer((cat_preprocessing, make_column_selector(dtype_include='object')),\n",
    "                                  remainder=cont_preprocessing)\n",
    "\n",
    "X_train, X_test, y_train, y_test = train_test_split(X, y, random_state=0)\n",
    "\n",
    "cross_val_score(make_pipeline(preprocess, LinearRegression()), X_train, y_train, cv=5)"
   ]
  },
  {
   "cell_type": "markdown",
   "metadata": {},
   "source": [
    "### skewed targets"
   ]
  },
  {
   "cell_type": "code",
   "execution_count": 4,
   "metadata": {},
   "outputs": [],
   "source": [
    "from sklearn.compose import TransformedTargetRegressor"
   ]
  },
  {
   "cell_type": "code",
   "execution_count": null,
   "metadata": {},
   "outputs": [],
   "source": [
    "log_regressor = TransformedTargetRegressor(LinearRegression(), func=np.log, inverse_func=np.exp)\n",
    "\n",
    "cross_val_score(make_pipeline(preprocess, log_regressor), X_train, y_train, cv=5)"
   ]
  },
  {
   "cell_type": "markdown",
   "metadata": {},
   "source": [
    "### GridSearchCV with Ridge"
   ]
  },
  {
   "cell_type": "code",
   "execution_count": null,
   "metadata": {},
   "outputs": [],
   "source": [
    "param_grid = {'alpha': np.logspace(-3, 3, 13)}\n",
    "\n",
    "grid = GridSearchCV(Ridge(), param_grid, cv=RepeatedKFold(16, 5), return_train_score=True)\n",
    "\n",
    "grid.fit(X_train, y_train)"
   ]
  },
  {
   "cell_type": "markdown",
   "metadata": {},
   "source": [
    "### Plot the Ridge Coefficients"
   ]
  },
  {
   "cell_type": "code",
   "execution_count": null,
   "metadata": {},
   "outputs": [],
   "source": [
    "ridge = grid.best_estimator_\n",
    "plt.scatter(range(X_train.shape[1]), ridge.coef_,      c=np.sign(ridge.coef_), cmap=\"bwr_r\")"
   ]
  },
  {
   "cell_type": "markdown",
   "metadata": {},
   "source": [
    "### Understanding L1 and L2 Penalties"
   ]
  },
  {
   "cell_type": "code",
   "execution_count": null,
   "metadata": {},
   "outputs": [],
   "source": [
    "#L0 norm penalizes the number of non-zero features. L0 = sum l_wi !=0\n",
    "#L1 = sum |wi|\n",
    "#L2 = sqrt(sum wi^2)"
   ]
  },
  {
   "cell_type": "markdown",
   "metadata": {},
   "source": [
    "## Analyzing grid-search results"
   ]
  },
  {
   "cell_type": "code",
   "execution_count": null,
   "metadata": {},
   "outputs": [],
   "source": [
    "res = pd.pivot_table(pd.DataFrame(grid.cv_results_), values='mean_Test_score', index='param_alpha', columns='param_l1_ratio')"
   ]
  },
  {
   "cell_type": "markdown",
   "metadata": {},
   "source": [
    "## Multi-Class in Practice"
   ]
  },
  {
   "cell_type": "code",
   "execution_count": 7,
   "metadata": {},
   "outputs": [],
   "source": [
    "#One vs Rest (OvR) and multinomial LogReg produce one coef per class"
   ]
  },
  {
   "cell_type": "code",
   "execution_count": 9,
   "metadata": {},
   "outputs": [
    {
     "name": "stdout",
     "output_type": "stream",
     "text": [
      "(150, 4)\n",
      "[50 50 50]\n"
     ]
    }
   ],
   "source": [
    "from sklearn.datasets import load_iris\n",
    "import numpy as np\n",
    "iris = load_iris()\n",
    "X, y = iris.data, iris.target\n",
    "print(X.shape)\n",
    "print(np.bincount(y))"
   ]
  },
  {
   "cell_type": "code",
   "execution_count": 12,
   "metadata": {},
   "outputs": [
    {
     "name": "stdout",
     "output_type": "stream",
     "text": [
      "(3, 4)\n",
      "(3, 4)\n"
     ]
    },
    {
     "name": "stderr",
     "output_type": "stream",
     "text": [
      "/opt/anaconda3/lib/python3.7/site-packages/sklearn/linear_model/logistic.py:947: ConvergenceWarning: lbfgs failed to converge. Increase the number of iterations.\n",
      "  \"of iterations.\", ConvergenceWarning)\n",
      "/opt/anaconda3/lib/python3.7/site-packages/sklearn/svm/base.py:929: ConvergenceWarning: Liblinear failed to converge, increase the number of iterations.\n",
      "  \"the number of iterations.\", ConvergenceWarning)\n"
     ]
    }
   ],
   "source": [
    "from sklearn.linear_model import LogisticRegression\n",
    "from sklearn.svm import LinearSVC\n",
    "\n",
    "logreg = LogisticRegression(multi_class=\"multinomial\", solver=\"lbfgs\").fit(X, y)\n",
    "linearsvm = LinearSVC().fit(X, y)\n",
    "print(logreg.coef_.shape)\n",
    "print(linearsvm.coef_.shape)"
   ]
  },
  {
   "cell_type": "markdown",
   "metadata": {},
   "source": [
    "## Solver Choices\n",
    "### Notes:\n",
    "Linear models are pretty fast. Small number of samples is <10,000. \n",
    "\n",
    "Use LinearSVC; don't use SVC(kernel='linear')\n",
    "\n",
    "If n_features >> n_samples --> use Lars or LassoLars instead of Lasso\n",
    "\n",
    "If n_samples >> n_features --> use dual=False in LinearSVC and LogisticRegression\n",
    "\n",
    "If n_samples is very large, i.e. O(millions), use LogisticRegression(solver=\"sag\")\n",
    "\n",
    "If n_samples is very very large, i.e. O(billions), use Stochastic Gradient Descent"
   ]
  },
  {
   "cell_type": "markdown",
   "metadata": {},
   "source": [
    "## Kernel SVMs\n",
    "Nonelinear model, but not the go-to model."
   ]
  },
  {
   "cell_type": "markdown",
   "metadata": {},
   "source": [
    "## Visualizing trees"
   ]
  },
  {
   "cell_type": "code",
   "execution_count": 8,
   "metadata": {},
   "outputs": [],
   "source": [
    "from sklearn.datasets import load_breast_cancer\n",
    "from sklearn.model_selection import train_test_split\n",
    "cancer = load_breast_cancer()\n",
    "X_train, X_test, y_train, y_test = train_test_split(cancer.data, cancer.target, stratify=cancer.target, random_state=0)"
   ]
  },
  {
   "cell_type": "code",
   "execution_count": 2,
   "metadata": {},
   "outputs": [
    {
     "data": {
      "text/plain": [
       "DecisionTreeClassifier(ccp_alpha=0.0, class_weight=None, criterion='gini',\n",
       "                       max_depth=2, max_features=None, max_leaf_nodes=None,\n",
       "                       min_impurity_decrease=0.0, min_impurity_split=None,\n",
       "                       min_samples_leaf=1, min_samples_split=2,\n",
       "                       min_weight_fraction_leaf=0.0, presort='deprecated',\n",
       "                       random_state=None, splitter='best')"
      ]
     },
     "execution_count": 2,
     "metadata": {},
     "output_type": "execute_result"
    }
   ],
   "source": [
    "from sklearn.tree import DecisionTreeClassifier\n",
    "tree = DecisionTreeClassifier(max_depth=2)\n",
    "tree.fit(X_train, y_train)"
   ]
  },
  {
   "cell_type": "code",
   "execution_count": 4,
   "metadata": {},
   "outputs": [
    {
     "data": {
      "image/png": "[encoded data removed]",
      "text/plain": [
       "<Figure size 432x288 with 1 Axes>"
      ]
     },
     "metadata": {
      "needs_background": "light"
     },
     "output_type": "display_data"
    }
   ],
   "source": [
    "from sklearn.tree import plot_tree\n",
    "tree_dot = plot_tree(tree, feature_names=cancer.feature_names)"
   ]
  },
  {
   "cell_type": "markdown",
   "metadata": {},
   "source": [
    "### pre-pruning and post-pruning\n",
    "Pre-pruning limits tree size. Pick one or two. Most common ones are max_depth and max_leaf_nodes. Others are min_samples_split, min_impurity_decrease, etc. \n",
    "\n",
    "Post-pruning: Cost complexity pruning:\n",
    "R_alpha(T) = R(T) + alpha*|T|;\n",
    "R(T) is total leaf impurity (how well you fit the train data);\n",
    "|T| is number of leaf nodes (measure of the complexity);\n",
    "alpha is free parameter."
   ]
  },
  {
   "cell_type": "code",
   "execution_count": 5,
   "metadata": {},
   "outputs": [
    {
     "data": {
      "text/plain": [
       "GridSearchCV(cv=10, error_score=nan,\n",
       "             estimator=DecisionTreeClassifier(ccp_alpha=0.0, class_weight=None,\n",
       "                                              criterion='gini', max_depth=None,\n",
       "                                              max_features=None,\n",
       "                                              max_leaf_nodes=None,\n",
       "                                              min_impurity_decrease=0.0,\n",
       "                                              min_impurity_split=None,\n",
       "                                              min_samples_leaf=1,\n",
       "                                              min_samples_split=2,\n",
       "                                              min_weight_fraction_leaf=0.0,\n",
       "                                              presort='deprecated',\n",
       "                                              random_state=0, splitter='best'),\n",
       "             iid='deprecated', n_jobs=None,\n",
       "             param_grid={'max_depth': range(1, 7)}, pre_dispatch='2*n_jobs',\n",
       "             refit=True, return_train_score=False, scoring=None, verbose=0)"
      ]
     },
     "execution_count": 5,
     "metadata": {},
     "output_type": "execute_result"
    }
   ],
   "source": [
    "from sklearn.model_selection import GridSearchCV\n",
    "\n",
    "param_grid = {'max_depth':range(1, 7)}\n",
    "#or param_grid = {'max_leaf_nodes':range(2, 20)}\n",
    "#or param_grid = {'ccp_alpha':np.linspace(0., 0.03, 20)}\n",
    "grid = GridSearchCV(DecisionTreeClassifier(random_state=0), param_grid=param_grid, cv=10)\n",
    "grid.fit(X_train, y_train)"
   ]
  },
  {
   "cell_type": "markdown",
   "metadata": {},
   "source": [
    "### More efficient pruning"
   ]
  },
  {
   "cell_type": "code",
   "execution_count": 6,
   "metadata": {},
   "outputs": [],
   "source": [
    "clf = DecisionTreeClassifier(random_state=0)\n",
    "path = clf.cost_complexity_pruning_path(X_train, y_train)\n",
    "ccp_alphas, impurities = path.ccp_alphas, path.impurities"
   ]
  },
  {
   "cell_type": "code",
   "execution_count": 7,
   "metadata": {},
   "outputs": [
    {
     "data": {
      "text/plain": [
       "array([0.        , 0.        , 0.        , 0.        , 0.        ,\n",
       "       0.        , 0.        , 0.        , 0.        , 0.        ,\n",
       "       0.        , 0.        , 0.        , 0.        , 0.        ,\n",
       "       0.        , 0.        , 0.        , 0.        , 0.        ,\n",
       "       0.        , 0.        , 0.87337408, 0.        , 0.        ,\n",
       "       0.        , 0.        , 0.12662592, 0.        , 0.        ])"
      ]
     },
     "execution_count": 7,
     "metadata": {},
     "output_type": "execute_result"
    }
   ],
   "source": [
    "#Feature Importance\n",
    "tree.feature_importances_"
   ]
  },
  {
   "cell_type": "markdown",
   "metadata": {},
   "source": [
    "## Ensemble Models\n",
    "Combine different models: built different models and find the average of the results"
   ]
  },
  {
   "cell_type": "markdown",
   "metadata": {},
   "source": [
    "### Voting Classifier"
   ]
  },
  {
   "cell_type": "code",
   "execution_count": 10,
   "metadata": {},
   "outputs": [
    {
     "name": "stderr",
     "output_type": "stream",
     "text": [
      "/opt/anaconda3/lib/python3.7/site-packages/sklearn/linear_model/_logistic.py:940: ConvergenceWarning: lbfgs failed to converge (status=1):\n",
      "STOP: TOTAL NO. of ITERATIONS REACHED LIMIT.\n",
      "\n",
      "Increase the number of iterations (max_iter) or scale the data as shown in:\n",
      "    https://scikit-learn.org/stable/modules/preprocessing.html\n",
      "Please also refer to the documentation for alternative solver options:\n",
      "    https://scikit-learn.org/stable/modules/linear_model.html#logistic-regression\n",
      "  extra_warning_msg=_LOGISTIC_SOLVER_CONVERGENCE_MSG)\n"
     ]
    },
    {
     "data": {
      "text/plain": [
       "(0.9300699300699301, 0.9370629370629371, 0.916083916083916)"
      ]
     },
     "execution_count": 10,
     "metadata": {},
     "output_type": "execute_result"
    }
   ],
   "source": [
    "from sklearn.ensemble import VotingClassifier\n",
    "from sklearn.linear_model import LogisticRegression\n",
    "voting = VotingClassifier([('logreg', LogisticRegression(C=100)),\n",
    "                           ('tree', DecisionTreeClassifier(max_depth=3, random_state=0))], voting='soft')\n",
    "voting.fit(X_train, y_train)\n",
    "lr, tree = voting.estimators_\n",
    "voting.score(X_test, y_test), lr.score(X_test, y_test), tree.score(X_test, y_test)"
   ]
  },
  {
   "cell_type": "markdown",
   "metadata": {},
   "source": [
    "### Bagging (Bootstrap AGGregation)\n",
    "Injecting randomness to split sets to build slightly different models."
   ]
  },
  {
   "cell_type": "markdown",
   "metadata": {},
   "source": [
    "## Random Forest\n",
    "Average of several trees. (In general scaling of the features are not needed in trees or random forest.)\n",
    "\n",
    "Randomize in two ways:\n",
    "\n",
    "For each tree, pick bootstrap sample of data.\n",
    "\n",
    "For each splot, pick a random sample of features. \n",
    "\n",
    "Tuning random forests: main parameter is max_features, which for classification is ~sqrt(n_features) and for regression ~n_features. Random forests usually work with the default parameters. \n",
    "\n",
    "Warm-Starts are good for deciding how many trees are good enough."
   ]
  },
  {
   "cell_type": "markdown",
   "metadata": {},
   "source": [
    "### Warm-Starts"
   ]
  },
  {
   "cell_type": "code",
   "execution_count": 11,
   "metadata": {},
   "outputs": [],
   "source": [
    "from sklearn.ensemble import RandomForestClassifier\n",
    "\n",
    "train_scores = []\n",
    "test_scores = []\n",
    "\n",
    "rf = RandomForestClassifier(warm_start=True)\n",
    "estimator_range = range(1, 100, 5)\n",
    "for n_estimators in estimator_range:\n",
    "    rf.n_estimators = n_estimators\n",
    "    rf.fit(X_train, y_train)\n",
    "    train_scores.append(rf.score(X_train, y_train))\n",
    "    test_scores.append(rf.score(X_test, y_test))"
   ]
  },
  {
   "cell_type": "code",
   "execution_count": 19,
   "metadata": {},
   "outputs": [
    {
     "data": {
      "text/plain": [
       "[<matplotlib.lines.Line2D at 0x7f8d85fece10>]"
      ]
     },
     "execution_count": 19,
     "metadata": {},
     "output_type": "execute_result"
    },
    {
     "data": {
      "image/png": "[encoded data removed]",
      "text/plain": [
       "<Figure size 432x288 with 1 Axes>"
      ]
     },
     "metadata": {
      "needs_background": "light"
     },
     "output_type": "display_data"
    }
   ],
   "source": [
    "import matplotlib.pyplot as plt\n",
    "plt.plot(estimator_range, train_scores, color='y')\n",
    "plt.plot(estimator_range, test_scores, color='b')"
   ]
  },
  {
   "cell_type": "markdown",
   "metadata": {},
   "source": [
    "### Out-of-bag estimates"
   ]
  },
  {
   "cell_type": "code",
   "execution_count": 21,
   "metadata": {},
   "outputs": [],
   "source": [
    "train_scores = []\n",
    "test_scores = []\n",
    "oob_scores = []\n",
    "\n",
    "\n",
    "feature_range = range(1, 20, 5)\n",
    "for max_features in feature_range:\n",
    "    rf = RandomForestClassifier(max_features=max_features, oob_score=True, n_estimators=200, random_state=0)\n",
    "    rf.fit(X_train, y_train)\n",
    "    train_scores.append(rf.score(X_train, y_train))\n",
    "    test_scores.append(rf.score(X_test, y_test))\n",
    "    oob_scores.append(rf.oob_score_)"
   ]
  },
  {
   "cell_type": "code",
   "execution_count": 23,
   "metadata": {},
   "outputs": [
    {
     "data": {
      "text/plain": [
       "[<matplotlib.lines.Line2D at 0x7f8d805e1910>]"
      ]
     },
     "execution_count": 23,
     "metadata": {},
     "output_type": "execute_result"
    },
    {
     "data": {
      "image/png": "[encoded data removed]",
      "text/plain": [
       "<Figure size 432x288 with 1 Axes>"
      ]
     },
     "metadata": {
      "needs_background": "light"
     },
     "output_type": "display_data"
    }
   ],
   "source": [
    "plt.plot(feature_range, train_scores, color='g')\n",
    "plt.plot(feature_range, test_scores, color='b')\n",
    "plt.plot(feature_range, oob_scores, color='orange')"
   ]
  },
  {
   "cell_type": "markdown",
   "metadata": {},
   "source": [
    "### Variable Importance"
   ]
  },
  {
   "cell_type": "code",
   "execution_count": 24,
   "metadata": {},
   "outputs": [
    {
     "data": {
      "image/png": "[encoded data removed]",
      "text/plain": [
       "<Figure size 432x288 with 1 Axes>"
      ]
     },
     "metadata": {
      "needs_background": "light"
     },
     "output_type": "display_data"
    }
   ],
   "source": [
    "from sklearn.datasets import load_iris\n",
    "iris = load_iris()\n",
    "\n",
    "X_train, X_test, y_train, y_test = train_test_split(iris.data, iris.target, stratify=iris.target, random_state=1)\n",
    "\n",
    "rf = RandomForestClassifier().fit(X_train, y_train)\n",
    "rf.feature_importances_\n",
    "\n",
    "plt.barh(range(4), rf.feature_importances_)\n",
    "plt.yticks(range(4), iris.feature_names);"
   ]
  },
  {
   "cell_type": "markdown",
   "metadata": {},
   "source": [
    "## Stochastic Gradient Descent"
   ]
  },
  {
   "cell_type": "code",
   "execution_count": null,
   "metadata": {},
   "outputs": [],
   "source": [
    "from sklearn.linear_model import SGDClassifier\n",
    "\n",
    "#Run until convergence\n",
    "sgd = SGDClassifier().fit(X_train, y_train)\n",
    "\n",
    "#Run one iteration over a batched dataset\n",
    "sgd = SGDClassifier()\n",
    "for X_batch, y_batch in batches:\n",
    "    sgd.partial_fit(X_batch, y_batch, classes=[0, 1, 2])\n",
    "    \n",
    "for i in range(10):\n",
    "    for X_batch, y_batch in batches:\n",
    "        sgd.partial_fit(X_batch, y_batch, classes=[0, 1, 2])"
   ]
  },
  {
   "cell_type": "markdown",
   "metadata": {},
   "source": [
    "## Boosting\n",
    "Family of algorithms to create strong learner from weak learners\n",
    "\n",
    "AdaBoost, GentleBoost, LogitBoost\n"
   ]
  },
  {
   "cell_type": "markdown",
   "metadata": {},
   "source": [
    "### Gradient Boosting\n",
    "Next to linear models, it is very mostly commonly used in industry\n",
    "\n",
    "Output is sum of all of the trees. \n",
    "\n",
    "HistGradientClassifier bins data so it is faster and also it is a multicore model. "
   ]
  },
  {
   "cell_type": "markdown",
   "metadata": {},
   "source": [
    "### XGBoost\n",
    "\n",
    "conda install -c conda-forge xgboos"
   ]
  },
  {
   "cell_type": "code",
   "execution_count": null,
   "metadata": {},
   "outputs": [],
   "source": [
    "from xgboost import XGBClassifier\n",
    "xgb = XGBClassifier()\n",
    "xgb.fit(X_train, y_train)\n",
    "xgb.score(X_test, y_test)\n",
    "\n",
    "#supports missing values, GPU training, networked parallel training, monotonicity constraints, supports sparse data"
   ]
  },
  {
   "cell_type": "markdown",
   "metadata": {},
   "source": [
    "### LightGBM\n",
    "\n",
    "conda install -c conda-forge lightgbm"
   ]
  },
  {
   "cell_type": "code",
   "execution_count": null,
   "metadata": {},
   "outputs": [],
   "source": [
    "from lightgbm.sklearn import LGBMClassifier\n",
    "lgbm = LGBMClassifier()\n",
    "lgbm.fit(X_train, y_train)\n",
    "lgbm.score(X_test, y_test)\n",
    "\n",
    "#supports missing values, natively supports categorical variables, GPU training, networked parallel training, monotonicity constraints, supports sparse data"
   ]
  },
  {
   "cell_type": "markdown",
   "metadata": {},
   "source": [
    "### CatBoost\n",
    "\n",
    "conda install -c conda-forge catboost"
   ]
  },
  {
   "cell_type": "code",
   "execution_count": null,
   "metadata": {},
   "outputs": [],
   "source": [
    "from catboost.sklearn import CatBoostClassifier\n",
    "catb = CatBoostClassifier()\n",
    "catb.fit(X_train, y_train)\n",
    "catb.score(X_test, y_test)\n",
    "\n",
    "#optimized for categorical variables, uses one feature/threshold for all splits on a given level aka symmetric trees, symmetric trees are different but can be much faster, supports missing value, GPU training, monotonicity constraints, uses bagged and smoothed version of target encoding for categorical variables"
   ]
  },
  {
   "cell_type": "code",
   "execution_count": 5,
   "metadata": {},
   "outputs": [],
   "source": [
    "#for the tabulated datasets, people use Gradient Boosting and for untabulated datasets, mostly use Neural Networks"
   ]
  },
  {
   "cell_type": "markdown",
   "metadata": {},
   "source": [
    "## Confusion Matrix\n",
    "\n",
    "(0,0): True Negative, \n",
    "(0,1): False Positive\n",
    "\n",
    "(1,0): False Negative,\n",
    "(1,1): True Positive"
   ]
  },
  {
   "cell_type": "code",
   "execution_count": 13,
   "metadata": {},
   "outputs": [
    {
     "name": "stdout",
     "output_type": "stream",
     "text": [
      "[[48  5]\n",
      " [ 4 86]]\n",
      "0.9370629370629371\n"
     ]
    },
    {
     "name": "stderr",
     "output_type": "stream",
     "text": [
      "/opt/anaconda3/lib/python3.7/site-packages/sklearn/linear_model/_logistic.py:940: ConvergenceWarning: lbfgs failed to converge (status=1):\n",
      "STOP: TOTAL NO. of ITERATIONS REACHED LIMIT.\n",
      "\n",
      "Increase the number of iterations (max_iter) or scale the data as shown in:\n",
      "    https://scikit-learn.org/stable/modules/preprocessing.html\n",
      "Please also refer to the documentation for alternative solver options:\n",
      "    https://scikit-learn.org/stable/modules/linear_model.html#logistic-regression\n",
      "  extra_warning_msg=_LOGISTIC_SOLVER_CONVERGENCE_MSG)\n"
     ]
    },
    {
     "data": {
      "text/plain": [
       "<sklearn.metrics._plot.confusion_matrix.ConfusionMatrixDisplay at 0x7fd2e0081450>"
      ]
     },
     "execution_count": 13,
     "metadata": {},
     "output_type": "execute_result"
    },
    {
     "data": {
      "image/png": "[encoded data removed]",
      "text/plain": [
       "<Figure size 432x288 with 2 Axes>"
      ]
     },
     "metadata": {
      "needs_background": "light"
     },
     "output_type": "display_data"
    }
   ],
   "source": [
    "from sklearn.metrics import confusion_matrix, plot_confusion_matrix\n",
    "from sklearn.linear_model import LogisticRegression\n",
    "\n",
    "data = load_breast_cancer()\n",
    "\n",
    "X_train, X_test, y_train, y_test = train_test_split(data.data, data.target, stratify=data.target, random_state=0)\n",
    "\n",
    "lr = LogisticRegression().fit(X_train, y_train)\n",
    "y_pred = lr.predict(X_test)\n",
    "\n",
    "print(confusion_matrix(y_test, y_pred))\n",
    "print(lr.score(X_test, y_test))\n",
    "plot_confusion_matrix(lr, X_test, y_test, cmap='gray_r')"
   ]
  },
  {
   "cell_type": "markdown",
   "metadata": {},
   "source": [
    "## Precision, Recall, F-score\n",
    "\n",
    "Precision = TP / (TP + FP)\n",
    "\n",
    "Recall = TP / (TP + FN)\n",
    "\n",
    "F = 2 x (Precision x Recall) / (Precision + Recall)"
   ]
  },
  {
   "cell_type": "code",
   "execution_count": null,
   "metadata": {},
   "outputs": [],
   "source": [
    "confusion_matrix(y_true, y_pred)\n",
    "#or\n",
    "confusion_matrix(y_true, y_pred, normalize='true')\n",
    "#or\n",
    "confusion_matrix(y_true, y_pred, normalize='pred')"
   ]
  },
  {
   "cell_type": "code",
   "execution_count": null,
   "metadata": {},
   "outputs": [],
   "source": [
    "classification_report(y_true, y_pred)"
   ]
  },
  {
   "cell_type": "code",
   "execution_count": null,
   "metadata": {},
   "outputs": [],
   "source": [
    "print(\"Weighted average: \", recall_score(y_test, y_pred_1, average=\"weighted\"))\n",
    "print(\"Macro average: \", recall_score(y_test, y_pred_1, average=\"macro\"))"
   ]
  },
  {
   "cell_type": "markdown",
   "metadata": {},
   "source": [
    "### Balanced Accuracy\n",
    "\n",
    "= 1/2 (TP/(TP+FP) + TN/(TN+FN))"
   ]
  },
  {
   "cell_type": "code",
   "execution_count": null,
   "metadata": {},
   "outputs": [],
   "source": [
    "balanced_accuracy_score(y_t, y_p) == recall_score(y_t, y_p, average='macro')"
   ]
  },
  {
   "cell_type": "code",
   "execution_count": 15,
   "metadata": {},
   "outputs": [],
   "source": [
    "from sklearn.datasets import fetch_openml"
   ]
  },
  {
   "cell_type": "code",
   "execution_count": 16,
   "metadata": {},
   "outputs": [],
   "source": [
    "data = fetch_openml('mammography', as_frame=True)"
   ]
  },
  {
   "cell_type": "code",
   "execution_count": 17,
   "metadata": {},
   "outputs": [],
   "source": [
    "X, y = data.data, data.target"
   ]
  },
  {
   "cell_type": "code",
   "execution_count": 18,
   "metadata": {},
   "outputs": [
    {
     "data": {
      "text/plain": [
       "(11183, 6)"
      ]
     },
     "execution_count": 18,
     "metadata": {},
     "output_type": "execute_result"
    }
   ],
   "source": [
    "X.shape"
   ]
  },
  {
   "cell_type": "code",
   "execution_count": 19,
   "metadata": {},
   "outputs": [
    {
     "data": {
      "text/plain": [
       "-1    10923\n",
       "1       260\n",
       "Name: class, dtype: int64"
      ]
     },
     "execution_count": 19,
     "metadata": {},
     "output_type": "execute_result"
    }
   ],
   "source": [
    "y.value_counts()"
   ]
  },
  {
   "cell_type": "code",
   "execution_count": 21,
   "metadata": {},
   "outputs": [],
   "source": [
    "#this allows sklearn to determine the positive class more easily and makes y boolean\n",
    "X_train, X_test, y_train, y_test = train_test_split(X, y=='1', random_state=0)"
   ]
  },
  {
   "cell_type": "code",
   "execution_count": 26,
   "metadata": {},
   "outputs": [
    {
     "data": {
      "text/plain": [
       "0.9864091559370529"
      ]
     },
     "execution_count": 26,
     "metadata": {},
     "output_type": "execute_result"
    }
   ],
   "source": [
    "from sklearn.pipeline import make_pipeline\n",
    "from sklearn.preprocessing import StandardScaler\n",
    "from sklearn.svm import SVC\n",
    "\n",
    "svc = make_pipeline(StandardScaler(), SVC(C=100, gamma=0.1))\n",
    "svc.fit(X_train, y_train)\n",
    "svc.score(X_test, y_test)"
   ]
  },
  {
   "cell_type": "code",
   "execution_count": 27,
   "metadata": {},
   "outputs": [
    {
     "data": {
      "text/plain": [
       "0.9881974248927039"
      ]
     },
     "execution_count": 27,
     "metadata": {},
     "output_type": "execute_result"
    }
   ],
   "source": [
    "from sklearn.ensemble import RandomForestClassifier\n",
    "\n",
    "rf = RandomForestClassifier()\n",
    "rf.fit(X_train, y_train)\n",
    "rf.score(X_test, y_test)"
   ]
  },
  {
   "cell_type": "code",
   "execution_count": 28,
   "metadata": {},
   "outputs": [],
   "source": [
    "y_pred_svc = svc.predict(X_test)\n",
    "y_pred_rf = svc.predict(X_test)"
   ]
  },
  {
   "cell_type": "code",
   "execution_count": 30,
   "metadata": {},
   "outputs": [
    {
     "name": "stdout",
     "output_type": "stream",
     "text": [
      "[[2724    8]\n",
      " [  30   34]]\n"
     ]
    }
   ],
   "source": [
    "print(confusion_matrix(y_test, y_pred_svc))"
   ]
  },
  {
   "cell_type": "code",
   "execution_count": 38,
   "metadata": {},
   "outputs": [
    {
     "name": "stdout",
     "output_type": "stream",
     "text": [
      "              precision    recall  f1-score   support\n",
      "\n",
      "       False       0.99      1.00      0.99      2732\n",
      "        True       0.81      0.53      0.64        64\n",
      "\n",
      "    accuracy                           0.99      2796\n",
      "   macro avg       0.90      0.76      0.82      2796\n",
      "weighted avg       0.98      0.99      0.99      2796\n",
      "\n"
     ]
    }
   ],
   "source": [
    "from sklearn.metrics import classification_report\n",
    "\n",
    "print(classification_report(y_test, y_pred_svc))"
   ]
  },
  {
   "cell_type": "code",
   "execution_count": 39,
   "metadata": {},
   "outputs": [
    {
     "name": "stdout",
     "output_type": "stream",
     "text": [
      "              precision    recall  f1-score   support\n",
      "\n",
      "       False       0.99      1.00      0.99      2732\n",
      "        True       0.81      0.53      0.64        64\n",
      "\n",
      "    accuracy                           0.99      2796\n",
      "   macro avg       0.90      0.76      0.82      2796\n",
      "weighted avg       0.98      0.99      0.99      2796\n",
      "\n"
     ]
    }
   ],
   "source": [
    "print(classification_report(y_test, y_pred_rf))"
   ]
  },
  {
   "cell_type": "markdown",
   "metadata": {},
   "source": [
    "### Precision-Recall Curve"
   ]
  },
  {
   "cell_type": "code",
   "execution_count": 42,
   "metadata": {},
   "outputs": [
    {
     "data": {
      "image/png": "[encoded data removed]",
      "text/plain": [
       "<Figure size 432x288 with 1 Axes>"
      ]
     },
     "metadata": {
      "needs_background": "light"
     },
     "output_type": "display_data"
    }
   ],
   "source": [
    "from sklearn.metrics import plot_precision_recall_curve\n",
    "\n",
    "#maybe the closest distance to the top right corner is the best?!\n",
    "\n",
    "prc = plot_precision_recall_curve(svc, X_test, y_test, name='SVC')"
   ]
  },
  {
   "cell_type": "code",
   "execution_count": 44,
   "metadata": {},
   "outputs": [
    {
     "data": {
      "text/plain": [
       "{'precision': array([0.02307138, 0.02271908, 0.02272727, ..., 1.        , 1.        ,\n",
       "        1.        ]),\n",
       " 'recall': array([1.      , 0.984375, 0.984375, ..., 0.03125 , 0.015625, 0.      ]),\n",
       " 'average_precision': 0.6352917371029126,\n",
       " 'estimator_name': 'Pipeline',\n",
       " 'line_': <matplotlib.lines.Line2D at 0x7fd2e30a2490>,\n",
       " 'ax_': <matplotlib.axes._subplots.AxesSubplot at 0x7fd2e30a2790>,\n",
       " 'figure_': <Figure size 432x288 with 1 Axes>}"
      ]
     },
     "execution_count": 44,
     "metadata": {},
     "output_type": "execute_result"
    }
   ],
   "source": [
    "vars(prc)"
   ]
  },
  {
   "cell_type": "markdown",
   "metadata": {},
   "source": [
    "### ROC Curve\n",
    "Receiver Operating Characterisitics\n",
    "\n",
    "True positive rate = recall"
   ]
  },
  {
   "cell_type": "code",
   "execution_count": 47,
   "metadata": {},
   "outputs": [
    {
     "data": {
      "text/plain": [
       "<sklearn.metrics._plot.roc_curve.RocCurveDisplay at 0x7fd2e2fe5550>"
      ]
     },
     "execution_count": 47,
     "metadata": {},
     "output_type": "execute_result"
    },
    {
     "data": {
      "image/png": "[encoded data removed]",
      "text/plain": [
       "<Figure size 432x288 with 1 Axes>"
      ]
     },
     "metadata": {
      "needs_background": "light"
     },
     "output_type": "display_data"
    }
   ],
   "source": [
    "from sklearn.metrics import plot_roc_curve\n",
    "\n",
    "plot_roc_curve(svc, X_test, y_test, name='SVC')"
   ]
  },
  {
   "cell_type": "code",
   "execution_count": 50,
   "metadata": {},
   "outputs": [
    {
     "data": {
      "image/png": "[encoded data removed]",
      "text/plain": [
       "<Figure size 432x288 with 1 Axes>"
      ]
     },
     "metadata": {
      "needs_background": "light"
     },
     "output_type": "display_data"
    }
   ],
   "source": [
    "import matplotlib.pyplot as plt\n",
    "\n",
    "prc = plot_precision_recall_curve(svc, X_test, y_test, name='SVC')\n",
    "pr_rf = plot_precision_recall_curve(rf, X_test, y_test, ax=plt.gca())"
   ]
  },
  {
   "cell_type": "markdown",
   "metadata": {},
   "source": [
    "## Area Under ROC Curve (AUC)"
   ]
  },
  {
   "cell_type": "code",
   "execution_count": null,
   "metadata": {},
   "outputs": [],
   "source": [
    "dec = svc.decision_function(X_test)\n",
    "np.all((dec>0) == svc.predict(X_test))"
   ]
  },
  {
   "cell_type": "code",
   "execution_count": null,
   "metadata": {},
   "outputs": [],
   "source": [
    "print(f1_score(y_test, dec>0))\n",
    "print(average_precision_score(y_test, dec))"
   ]
  },
  {
   "cell_type": "markdown",
   "metadata": {},
   "source": [
    "## Threshold and Ranking Metrics"
   ]
  },
  {
   "cell_type": "code",
   "execution_count": 1,
   "metadata": {},
   "outputs": [],
   "source": [
    "from sklearn.metrics import f1_score\n",
    "from sklearn.metrics import balanced_accuracy_score\n",
    "from sklearn.metrics import average_precision_score\n",
    "from sklearn.metrics import roc_auc_score\n",
    "#muller prefers average_precision_score over the roc_auc_score these days, even if it is harder to interpret.\n",
    "#if you have imbalanced (or maybe he said something else) dataset, don't use accuracy."
   ]
  },
  {
   "cell_type": "markdown",
   "metadata": {},
   "source": [
    "## Multi-class classification"
   ]
  },
  {
   "cell_type": "code",
   "execution_count": 2,
   "metadata": {},
   "outputs": [],
   "source": [
    "#people use multi-class ROC AUC\n",
    "#one vs rest method is better than the one vs one, since it works for any kind of uncertainties\n",
    "#https://github.com/scikit-learn/scikit-learn/pull/7663\n",
    "\n",
    "#Threshold-based: accuracy, precision, recall, f1 (macro average, weighted)\n",
    "#Ranking: OVR ROC AUC, OVO ROC AUC"
   ]
  },
  {
   "cell_type": "code",
   "execution_count": 4,
   "metadata": {},
   "outputs": [
    {
     "name": "stderr",
     "output_type": "stream",
     "text": [
      "/opt/anaconda3/lib/python3.7/site-packages/sklearn/utils/deprecation.py:144: FutureWarning: The sklearn.metrics.scorer module is  deprecated in version 0.22 and will be removed in version 0.24. The corresponding classes / functions should instead be imported from sklearn.metrics. Anything that cannot be imported from sklearn.metrics is now part of the private API.\n",
      "  warnings.warn(message, FutureWarning)\n"
     ]
    }
   ],
   "source": [
    "from sklearn.metrics.scorer import SCORERS"
   ]
  },
  {
   "cell_type": "code",
   "execution_count": 5,
   "metadata": {},
   "outputs": [
    {
     "name": "stdout",
     "output_type": "stream",
     "text": [
      "accuracy\n",
      "adjusted_mutual_info_score\n",
      "adjusted_rand_score\n",
      "average_precision\n",
      "balanced_accuracy\n",
      "completeness_score\n",
      "explained_variance\n",
      "f1\n",
      "f1_macro\n",
      "f1_micro\n",
      "f1_samples\n",
      "f1_weighted\n",
      "fowlkes_mallows_score\n",
      "homogeneity_score\n",
      "jaccard\n",
      "jaccard_macro\n",
      "jaccard_micro\n",
      "jaccard_samples\n",
      "jaccard_weighted\n",
      "max_error\n",
      "mutual_info_score\n",
      "neg_brier_score\n",
      "neg_log_loss\n",
      "neg_mean_absolute_error\n",
      "neg_mean_gamma_deviance\n",
      "neg_mean_poisson_deviance\n",
      "neg_mean_squared_error\n",
      "neg_mean_squared_log_error\n",
      "neg_median_absolute_error\n",
      "neg_root_mean_squared_error\n",
      "normalized_mutual_info_score\n",
      "precision\n",
      "precision_macro\n",
      "precision_micro\n",
      "precision_samples\n",
      "precision_weighted\n",
      "r2\n",
      "recall\n",
      "recall_macro\n",
      "recall_micro\n",
      "recall_samples\n",
      "recall_weighted\n",
      "roc_auc\n",
      "roc_auc_ovo\n",
      "roc_auc_ovo_weighted\n",
      "roc_auc_ovr\n",
      "roc_auc_ovr_weighted\n",
      "v_measure_score\n"
     ]
    }
   ],
   "source": [
    "print(\"\\n\".join(sorted(SCORERS.keys())))"
   ]
  },
  {
   "cell_type": "markdown",
   "metadata": {},
   "source": [
    "## Feature Selection\n",
    "- More interpretable model\n",
    "- Less storage for model and dataset\n",
    "- Faster prediction and training"
   ]
  },
  {
   "cell_type": "markdown",
   "metadata": {},
   "source": [
    "### Types of feature selection\n",
    "- unsupervisoed vs supervides\n",
    "- univariate vs multivariate\n",
    "- model based or not"
   ]
  },
  {
   "cell_type": "markdown",
   "metadata": {},
   "source": [
    "#### Unsupervised feature selection\n",
    "- covariance-based: remove correlated features (most common)\n",
    "- variance-based: 0 variance or mostly constant\n",
    "- may discar important information\n",
    "- PCA: remove linear subspaces (reduces the number of features without removing features)"
   ]
  },
  {
   "cell_type": "markdown",
   "metadata": {},
   "source": [
    "**Plot Covariance Matrix**"
   ]
  },
  {
   "cell_type": "code",
   "execution_count": 5,
   "metadata": {},
   "outputs": [],
   "source": [
    "import numpy as np\n",
    "from sklearn.preprocessing import scale\n",
    "from sklearn.datasets import load_boston\n",
    "from sklearn.model_selection import train_test_split\n",
    "\n",
    "boston = load_boston()\n",
    "X, y = boston.data, boston.target\n",
    "X_train, X_test, y_train, y_test = train_test_split(X, y, random_state=0)\n",
    "X_train_scaled = scale(X_train)\n",
    "\n",
    "cov = np.cov(X_train_scaled, rowvar=False)"
   ]
  },
  {
   "cell_type": "code",
   "execution_count": 24,
   "metadata": {},
   "outputs": [
    {
     "data": {
      "text/plain": [
       "(379, 13)"
      ]
     },
     "execution_count": 24,
     "metadata": {},
     "output_type": "execute_result"
    }
   ],
   "source": [
    "X_train_scaled.shape"
   ]
  },
  {
   "cell_type": "code",
   "execution_count": 20,
   "metadata": {},
   "outputs": [
    {
     "data": {
      "text/plain": [
       "<matplotlib.axes._subplots.AxesSubplot at 0x7f88457f8690>"
      ]
     },
     "execution_count": 20,
     "metadata": {},
     "output_type": "execute_result"
    },
    {
     "data": {
      "image/png": "[encoded data removed]",
      "text/plain": [
       "<Figure size 432x288 with 2 Axes>"
      ]
     },
     "metadata": {
      "needs_background": "light"
     },
     "output_type": "display_data"
    }
   ],
   "source": [
    "import seaborn as sns\n",
    "\n",
    "sns.heatmap(cov)"
   ]
  },
  {
   "cell_type": "code",
   "execution_count": 7,
   "metadata": {},
   "outputs": [],
   "source": [
    "from scipy.cluster import hierarchy\n",
    "\n",
    "order = np.array(hierarchy.dendrogram(hierarchy.ward(cov), no_plot=True)['ivl'], dtype=\"int\")"
   ]
  },
  {
   "cell_type": "code",
   "execution_count": 8,
   "metadata": {},
   "outputs": [
    {
     "data": {
      "text/plain": [
       "array([12,  6,  2,  4, 10,  0,  8,  9,  3,  1,  7,  5, 11])"
      ]
     },
     "execution_count": 8,
     "metadata": {},
     "output_type": "execute_result"
    }
   ],
   "source": [
    "order"
   ]
  },
  {
   "cell_type": "code",
   "execution_count": 36,
   "metadata": {},
   "outputs": [],
   "source": [
    "orderList = list(order)\n",
    "cov_rows = cov[:,orderList]\n",
    "cov_ordered = cov_rows[orderList, :]"
   ]
  },
  {
   "cell_type": "code",
   "execution_count": 38,
   "metadata": {},
   "outputs": [
    {
     "data": {
      "text/plain": [
       "<matplotlib.axes._subplots.AxesSubplot at 0x7f8846827410>"
      ]
     },
     "execution_count": 38,
     "metadata": {},
     "output_type": "execute_result"
    },
    {
     "data": {
      "image/png": "[encoded data removed]",
      "text/plain": [
       "<Figure size 432x288 with 2 Axes>"
      ]
     },
     "metadata": {
      "needs_background": "light"
     },
     "output_type": "display_data"
    }
   ],
   "source": [
    "sns.heatmap(cov_ordered)"
   ]
  },
  {
   "cell_type": "markdown",
   "metadata": {},
   "source": [
    "#### Supervised feature selection\n",
    "- The simplest one is based on the univariate statistics. Look at p-value or f-value."
   ]
  },
  {
   "cell_type": "code",
   "execution_count": 39,
   "metadata": {},
   "outputs": [],
   "source": [
    "from sklearn.feature_selection import f_regression\n",
    "\n",
    "f_values, p_values = f_regression(X, y)"
   ]
  },
  {
   "cell_type": "code",
   "execution_count": 49,
   "metadata": {},
   "outputs": [
    {
     "data": {
      "text/plain": [
       "<matplotlib.axes._subplots.AxesSubplot at 0x7f8846650510>"
      ]
     },
     "execution_count": 49,
     "metadata": {},
     "output_type": "execute_result"
    },
    {
     "data": {
      "image/png": "[encoded data removed]",
      "text/plain": [
       "<Figure size 432x288 with 1 Axes>"
      ]
     },
     "metadata": {
      "needs_background": "light"
     },
     "output_type": "display_data"
    }
   ],
   "source": [
    "sns.scatterplot(sorted(order),f_values)"
   ]
  },
  {
   "cell_type": "code",
   "execution_count": 50,
   "metadata": {},
   "outputs": [
    {
     "name": "stdout",
     "output_type": "stream",
     "text": [
      "(379, 13)\n",
      "(379, 2)\n"
     ]
    }
   ],
   "source": [
    "from sklearn.feature_selection import SelectKBest, SelectPercentile, SelectFpr\n",
    "from sklearn.linear_model import RidgeCV\n",
    "\n",
    "select = SelectKBest(k=2, score_func = f_regression)\n",
    "select.fit(X_train, y_train)\n",
    "print(X_train.shape)\n",
    "print(select.transform(X_train).shape)"
   ]
  },
  {
   "cell_type": "code",
   "execution_count": 54,
   "metadata": {},
   "outputs": [
    {
     "data": {
      "text/plain": [
       "0.7179588510750902"
      ]
     },
     "execution_count": 54,
     "metadata": {},
     "output_type": "execute_result"
    }
   ],
   "source": [
    "from sklearn.pipeline import make_pipeline\n",
    "from sklearn.preprocessing import StandardScaler\n",
    "from sklearn.model_selection import cross_val_score\n",
    "\n",
    "all_features = make_pipeline(StandardScaler(), RidgeCV())\n",
    "\n",
    "np.mean(cross_val_score(all_features, X_train, y_train, cv=10))"
   ]
  },
  {
   "cell_type": "code",
   "execution_count": 58,
   "metadata": {},
   "outputs": [
    {
     "data": {
      "text/plain": [
       "0.6243625749168462"
      ]
     },
     "execution_count": 58,
     "metadata": {},
     "output_type": "execute_result"
    }
   ],
   "source": [
    "select_2 = make_pipeline(StandardScaler(), SelectKBest(k=2, score_func=f_regression), RidgeCV())\n",
    "\n",
    "np.mean(cross_val_score(select_2, X_train, y_train, cv=10))"
   ]
  },
  {
   "cell_type": "code",
   "execution_count": 60,
   "metadata": {},
   "outputs": [],
   "source": [
    "#mutual_info_regression is able to take on non-linear relationships.\n",
    "from sklearn.feature_selection import mutual_info_regression\n",
    "\n",
    "scores = mutual_info_regression(X_train, y_train, discrete_features=[3])"
   ]
  },
  {
   "cell_type": "code",
   "execution_count": 66,
   "metadata": {},
   "outputs": [
    {
     "data": {
      "text/plain": [
       "<matplotlib.axes._subplots.AxesSubplot at 0x7f88489df690>"
      ]
     },
     "execution_count": 66,
     "metadata": {},
     "output_type": "execute_result"
    },
    {
     "data": {
      "image/png": "[encoded data removed]",
      "text/plain": [
       "<Figure size 432x288 with 1 Axes>"
      ]
     },
     "metadata": {
      "needs_background": "light"
     },
     "output_type": "display_data"
    }
   ],
   "source": [
    "sns.scatterplot(sorted(order),f_values)\n",
    "sns.scatterplot(sorted(order),scores)"
   ]
  },
  {
   "cell_type": "markdown",
   "metadata": {},
   "source": [
    "### Model-Based Feature Selection\n",
    "- Single fit: build a model, select features important to model. Could be Lasso, other linear models, tree-based models. Multivariate - linear models assume linear relation. "
   ]
  },
  {
   "cell_type": "code",
   "execution_count": 67,
   "metadata": {},
   "outputs": [
    {
     "name": "stdout",
     "output_type": "stream",
     "text": [
      "[-0.8827688   0.94452435 -0.0877915   0.58901443 -1.67730936  2.64640135\n",
      " -0.14442202 -2.78038351  1.67056079 -1.59143582 -2.12859861  0.71729559\n",
      " -3.60974068]\n"
     ]
    }
   ],
   "source": [
    "from sklearn.linear_model import LassoCV\n",
    "\n",
    "X_train_scaled = scale(X_train)\n",
    "lasso = LassoCV().fit(X_train_scaled, y_train)\n",
    "print(lasso.coef_)"
   ]
  },
  {
   "cell_type": "markdown",
   "metadata": {},
   "source": [
    "In lasso, one way is to use the features that are non-zero. For a tree-based model, we can use permutation importance to pick the most important features."
   ]
  },
  {
   "cell_type": "markdown",
   "metadata": {},
   "source": [
    "### SelectFromModel"
   ]
  },
  {
   "cell_type": "code",
   "execution_count": 68,
   "metadata": {},
   "outputs": [
    {
     "name": "stdout",
     "output_type": "stream",
     "text": [
      "(379, 11)\n"
     ]
    }
   ],
   "source": [
    "from sklearn.feature_selection import SelectFromModel\n",
    "\n",
    "select_lassocv = SelectFromModel(LassoCV(), threshold=1e-5)\n",
    "select_lassocv.fit(X_train, y_train)\n",
    "\n",
    "print(select_lassocv.transform(X_train).shape)"
   ]
  },
  {
   "cell_type": "code",
   "execution_count": 70,
   "metadata": {},
   "outputs": [
    {
     "name": "stdout",
     "output_type": "stream",
     "text": [
      "0.7171231551882247\n",
      "0.7179588510750902\n"
     ]
    }
   ],
   "source": [
    "pipe_lassocv = make_pipeline(StandardScaler(), select_lassocv, RidgeCV())\n",
    "\n",
    "print(np.mean(cross_val_score(pipe_lassocv, X_train, y_train, cv=10)))\n",
    "print(np.mean(cross_val_score(all_features, X_train, y_train, cv=10)))"
   ]
  },
  {
   "cell_type": "markdown",
   "metadata": {},
   "source": [
    "### Recursive Feature Elimination\n",
    "- Uses feature importances/coefficients, similar to \"SelectFromModel\n",
    "- Iteratively removes features (one by one or in groups)\n",
    "- Runtime: (n_features - n_feature_to_keep)/stepsize"
   ]
  },
  {
   "cell_type": "code",
   "execution_count": 71,
   "metadata": {},
   "outputs": [
    {
     "data": {
      "text/plain": [
       "array([ 9,  8, 13, 11,  5,  2, 12,  4,  7,  6,  3, 10,  1])"
      ]
     },
     "execution_count": 71,
     "metadata": {},
     "output_type": "execute_result"
    }
   ],
   "source": [
    "from sklearn.linear_model import LinearRegression\n",
    "from sklearn.feature_selection import RFE\n",
    "\n",
    "rfe = RFE(LinearRegression(), n_features_to_select=1)\n",
    "rfe.fit(X_train_scaled, y_train)\n",
    "rfe.ranking_"
   ]
  },
  {
   "cell_type": "code",
   "execution_count": 72,
   "metadata": {},
   "outputs": [
    {
     "name": "stdout",
     "output_type": "stream",
     "text": [
      "[ True  True False  True  True  True False  True  True  True  True  True\n",
      "  True]\n",
      "['CRIM' 'ZN' 'CHAS' 'NOX' 'RM' 'DIS' 'RAD' 'TAX' 'PTRATIO' 'B' 'LSTAT']\n"
     ]
    }
   ],
   "source": [
    "from sklearn.feature_selection import RFECV\n",
    "\n",
    "rfe = RFECV(LinearRegression(), cv=10)\n",
    "rfe.fit(X_train_scaled, y_train)\n",
    "\n",
    "print(rfe.support_)\n",
    "print(boston.feature_names[rfe.support_])"
   ]
  },
  {
   "cell_type": "code",
   "execution_count": 76,
   "metadata": {},
   "outputs": [
    {
     "data": {
      "text/plain": [
       "0.710217843628884"
      ]
     },
     "execution_count": 76,
     "metadata": {},
     "output_type": "execute_result"
    }
   ],
   "source": [
    "from sklearn.linear_model import RidgeCV\n",
    "\n",
    "pipe_rfe_ridgecv = make_pipeline(StandardScaler(),RFECV(LinearRegression(), cv=10), RidgeCV())\n",
    "\n",
    "np.mean(cross_val_score(pipe_rfe_ridgecv, X_train, y_train, cv=10))"
   ]
  },
  {
   "cell_type": "markdown",
   "metadata": {},
   "source": [
    "### SequentialFeatureSelector"
   ]
  },
  {
   "cell_type": "code",
   "execution_count": null,
   "metadata": {},
   "outputs": [],
   "source": [
    "from lxtend.feature_selection import SequentialFeatureSelector\n",
    "\n",
    "sfs = SequentialFeatureSelector(LinearRegression(), forward=False, k_features=?)\n",
    "sfs.fit(X_train_scaled, y_train)\n",
    "\n",
    "print(sfs.k_feature_idx_)\n",
    "print(boston.feature_names[np.array(sfs.k_feature_idx_)])\n",
    "print(sfs.k_score_)"
   ]
  },
  {
   "cell_type": "markdown",
   "metadata": {},
   "source": [
    "### RandomizedSearchCV"
   ]
  },
  {
   "cell_type": "code",
   "execution_count": null,
   "metadata": {},
   "outputs": [],
   "source": [
    "from scipy.stats import randint\n",
    "\n",
    "param_dist = {\"max_depth\": [3, None],\n",
    "             \"max_features\": randint(1, 11),\n",
    "             \"min_samples_split\": randint(2, 11),\n",
    "             \"bootstrap\": [True, False],\n",
    "             \"criterion\": [\"gini\", \"entropy\"]}\n",
    "\n",
    "random_search = RandomizedSearchCV(clf, param_distributions=param_dist, n_iter=200)"
   ]
  },
  {
   "cell_type": "markdown",
   "metadata": {},
   "source": [
    "### Bayesian Optimization or SMBO (sequential model based optimization)\n",
    "An advanced method for global optimization. This is used for high dimensional parameter space that is continuous. Particularly useful for expensive models such as neural network. AlphaGo early iterations used this. Can be worked on 50-dimensions or so but not probably on 1000-dimensions. "
   ]
  },
  {
   "cell_type": "markdown",
   "metadata": {},
   "source": [
    "## Neural Network\n",
    "\n",
    "Do not use scikitlearn for neural network except for trying problems. Does not support GPU and therefore is slow."
   ]
  },
  {
   "cell_type": "code",
   "execution_count": null,
   "metadata": {},
   "outputs": [],
   "source": [
    "mlp = MLPClassifier(solver='lbfgs', hidden_layer_size=(5,), activation='tanh', random_state=0).fit(X_train, y_train)\n",
    "print(mlp.score(X_train, y_train))\n",
    "print(mlp.score(X_test, y_test))\n",
    "\n",
    "#hidden_layer_size=(5,) or hidden_layer_size=(10, 10, 10)"
   ]
  },
  {
   "cell_type": "code",
   "execution_count": null,
   "metadata": {},
   "outputs": [],
   "source": [
    "from sklearn.neural_network import MLPRegressor\n",
    "\n",
    "mlp_relu = MLPRegressor(solver=\"lbfgs\").fit(X, y)\n",
    "mlp_tanh = MLPRegressor(solver=\"lbfgs\", activation='tanh').fit(X, y)"
   ]
  },
  {
   "cell_type": "code",
   "execution_count": null,
   "metadata": {},
   "outputs": [],
   "source": [
    "pipe = make_pipeline(StandardScaler(), MLPClassifer(solver=\"lbfgs\",random_state=0))\n",
    "\n",
    "param_grid = {'mpclassifier__alpha': np.logspace(-3, 3, 7)}\n",
    "grid = GridSearchCV(pipe, param_grid)\n",
    "\n",
    "results = pd.DataFrame(grid.cv_results_)\n",
    "res = results.pivot_table(index=\"param_mlpclassifier__alpha\", values=[\"mean_test_score\", \"mean_train_score\"])"
   ]
  },
  {
   "cell_type": "markdown",
   "metadata": {},
   "source": [
    "### Keras\n",
    "A high level library for the deep neural networks. Sequential interface in this course."
   ]
  },
  {
   "cell_type": "code",
   "execution_count": 3,
   "metadata": {},
   "outputs": [],
   "source": [
    "from keras.models import Sequential\n",
    "from keras.layers import Dense, Activation"
   ]
  },
  {
   "cell_type": "markdown",
   "metadata": {},
   "source": [
    "Using TensorFlow backend."
   ]
  },
  {
   "cell_type": "code",
   "execution_count": 4,
   "metadata": {},
   "outputs": [],
   "source": [
    "model = Sequential([\n",
    "    Dense(32, input_shape=(784,)), #first matrix 784 x 32, the second one 32 x 10\n",
    "    Activation('relu'),\n",
    "    Dense(10),\n",
    "    Activation('softmax')\n",
    "])"
   ]
  },
  {
   "cell_type": "code",
   "execution_count": 6,
   "metadata": {},
   "outputs": [],
   "source": [
    "# or \n",
    "model = Sequential()\n",
    "model.add(Dense(32, input_dim=784))\n",
    "model.add(Activation('relu'))"
   ]
  },
  {
   "cell_type": "code",
   "execution_count": 8,
   "metadata": {},
   "outputs": [],
   "source": [
    "# or \n",
    "model = Sequential([\n",
    "    Dense(32, input_shape=(784,), activation='relu'),\n",
    "    Dense(10, activation='softmax')\n",
    "])"
   ]
  },
  {
   "cell_type": "code",
   "execution_count": 9,
   "metadata": {},
   "outputs": [
    {
     "name": "stdout",
     "output_type": "stream",
     "text": [
      "Model: \"sequential_2\"\n",
      "_________________________________________________________________\n",
      "Layer (type)                 Output Shape              Param #   \n",
      "=================================================================\n",
      "dense_3 (Dense)              (None, 32)                25120     \n",
      "_________________________________________________________________\n",
      "dense_4 (Dense)              (None, 10)                330       \n",
      "=================================================================\n",
      "Total params: 25,450\n",
      "Trainable params: 25,450\n",
      "Non-trainable params: 0\n",
      "_________________________________________________________________\n"
     ]
    }
   ],
   "source": [
    "model.summary()"
   ]
  },
  {
   "cell_type": "markdown",
   "metadata": {},
   "source": [
    "Param # is the number of parameters in each of the layers. The first layer has input layer of shape 32, the second 10. The size of matrix 32*10 + 10 for output = 330. The first one is 784*32 + 32 = 25120.\n",
    "\n",
    "### Setting Optimizer and Compile \n",
    "\n",
    "Configures the learning process. "
   ]
  },
  {
   "cell_type": "code",
   "execution_count": null,
   "metadata": {},
   "outputs": [],
   "source": [
    "compile(self, optimizer, loss, metrics=None, sample_weight_mode=None)"
   ]
  },
  {
   "cell_type": "code",
   "execution_count": 11,
   "metadata": {},
   "outputs": [],
   "source": [
    "model.compile(\"adam\", \"categorical_crossentropy\", metrics=['accuracy'])"
   ]
  },
  {
   "cell_type": "code",
   "execution_count": null,
   "metadata": {},
   "outputs": [],
   "source": [
    "fit(self, x, y, batch_size=32, epochs=10, verbose=1, callbacks=None, \n",
    "   validation_split=0.0, validation_Data=(x_val, y_val))\n",
    "#batch_size 32 or 64 are very common."
   ]
  },
  {
   "cell_type": "code",
   "execution_count": 12,
   "metadata": {},
   "outputs": [],
   "source": [
    "from keras.datasets import mnist"
   ]
  },
  {
   "cell_type": "code",
   "execution_count": 13,
   "metadata": {},
   "outputs": [],
   "source": [
    "import keras"
   ]
  },
  {
   "cell_type": "code",
   "execution_count": 14,
   "metadata": {},
   "outputs": [
    {
     "name": "stdout",
     "output_type": "stream",
     "text": [
      "Downloading data from https://storage.googleapis.com/tensorflow/tf-keras-datasets/mnist.npz\n",
      "11493376/11490434 [==============================] - 0s 0us/step\n"
     ]
    }
   ],
   "source": [
    "(X_train, y_train), (X_test, y_test) = mnist.load_data()"
   ]
  },
  {
   "cell_type": "code",
   "execution_count": 15,
   "metadata": {},
   "outputs": [
    {
     "name": "stdout",
     "output_type": "stream",
     "text": [
      "60000 train samples\n",
      "10000 test samples\n"
     ]
    }
   ],
   "source": [
    "X_train = X_train.reshape(60000, 784)\n",
    "X_test = X_test.reshape(10000, 784)\n",
    "\n",
    "X_train = X_train.astype('float32')\n",
    "X_test = X_test.astype('float32')\n",
    "\n",
    "X_train /= 255\n",
    "X_test /= 255\n",
    "\n",
    "print(X_train.shape[0], 'train samples')\n",
    "print(X_test.shape[0], 'test samples')"
   ]
  },
  {
   "cell_type": "code",
   "execution_count": 16,
   "metadata": {},
   "outputs": [],
   "source": [
    "num_classes = 10\n",
    "\n",
    "# convert class vectors to binary class matrices. The following is similar to OneHotEncoding\n",
    "y_train = keras.utils.to_categorical(y_train, num_classes)\n",
    "y_test = keras.utils.to_categorical(y_test, num_classes)"
   ]
  },
  {
   "cell_type": "code",
   "execution_count": 17,
   "metadata": {},
   "outputs": [
    {
     "name": "stdout",
     "output_type": "stream",
     "text": [
      "Epoch 1/10\n",
      "422/422 [==============================] - 1s 2ms/step - loss: 0.5314 - accuracy: 0.8514 - val_loss: 0.2274 - val_accuracy: 0.9375\n",
      "Epoch 2/10\n",
      "422/422 [==============================] - 0s 1ms/step - loss: 0.2451 - accuracy: 0.9309 - val_loss: 0.1768 - val_accuracy: 0.9518\n",
      "Epoch 3/10\n",
      "422/422 [==============================] - 1s 1ms/step - loss: 0.2016 - accuracy: 0.9421 - val_loss: 0.1596 - val_accuracy: 0.9567\n",
      "Epoch 4/10\n",
      "422/422 [==============================] - 0s 1ms/step - loss: 0.1755 - accuracy: 0.9498 - val_loss: 0.1465 - val_accuracy: 0.9602\n",
      "Epoch 5/10\n",
      "422/422 [==============================] - 0s 1ms/step - loss: 0.1588 - accuracy: 0.9547 - val_loss: 0.1354 - val_accuracy: 0.9642\n",
      "Epoch 6/10\n",
      "422/422 [==============================] - 0s 1ms/step - loss: 0.1453 - accuracy: 0.9578 - val_loss: 0.1281 - val_accuracy: 0.9648\n",
      "Epoch 7/10\n",
      "422/422 [==============================] - 0s 1ms/step - loss: 0.1343 - accuracy: 0.9608 - val_loss: 0.1245 - val_accuracy: 0.9643\n",
      "Epoch 8/10\n",
      "422/422 [==============================] - 0s 1ms/step - loss: 0.1254 - accuracy: 0.9631 - val_loss: 0.1230 - val_accuracy: 0.9648\n",
      "Epoch 9/10\n",
      "422/422 [==============================] - 0s 1ms/step - loss: 0.1165 - accuracy: 0.9658 - val_loss: 0.1200 - val_accuracy: 0.9660\n",
      "Epoch 10/10\n",
      "422/422 [==============================] - 0s 1ms/step - loss: 0.1089 - accuracy: 0.9686 - val_loss: 0.1145 - val_accuracy: 0.9678\n"
     ]
    },
    {
     "data": {
      "text/plain": [
       "<tensorflow.python.keras.callbacks.History at 0x7ffbd499f2d0>"
      ]
     },
     "execution_count": 17,
     "metadata": {},
     "output_type": "execute_result"
    }
   ],
   "source": [
    "# run a simple neural net on cpu of my laptop\n",
    "model.fit(X_train, y_train, batch_size=128, epochs=10, verbose=1, validation_split=0.1)"
   ]
  },
  {
   "cell_type": "code",
   "execution_count": 18,
   "metadata": {},
   "outputs": [
    {
     "name": "stdout",
     "output_type": "stream",
     "text": [
      "Test Loss: 0.131\n",
      "Test Accuracy: 0.962\n"
     ]
    }
   ],
   "source": [
    "score = model.evaluate(X_test, y_test, verbose=0)\n",
    "print(\"Test Loss: {:.3f}\".format(score[0]))\n",
    "print(\"Test Accuracy: {:.3f}\".format(score[1]))"
   ]
  },
  {
   "cell_type": "markdown",
   "metadata": {},
   "source": [
    "### Loggers and Callbacks"
   ]
  },
  {
   "cell_type": "code",
   "execution_count": 20,
   "metadata": {},
   "outputs": [
    {
     "name": "stdout",
     "output_type": "stream",
     "text": [
      "Epoch 1/100\n",
      "422/422 [==============================] - 1s 1ms/step - loss: 0.0049 - accuracy: 0.9987 - val_loss: 0.2264 - val_accuracy: 0.9692\n",
      "Epoch 2/100\n",
      "422/422 [==============================] - 1s 1ms/step - loss: 0.0029 - accuracy: 0.9998 - val_loss: 0.2272 - val_accuracy: 0.9683\n",
      "Epoch 3/100\n",
      "422/422 [==============================] - 0s 1ms/step - loss: 0.0017 - accuracy: 0.9999 - val_loss: 0.2164 - val_accuracy: 0.9708\n",
      "Epoch 4/100\n",
      "422/422 [==============================] - 0s 1ms/step - loss: 0.0016 - accuracy: 0.9999 - val_loss: 0.2230 - val_accuracy: 0.9702\n",
      "Epoch 5/100\n",
      "422/422 [==============================] - 0s 1ms/step - loss: 0.0013 - accuracy: 1.0000 - val_loss: 0.2261 - val_accuracy: 0.9697\n",
      "Epoch 6/100\n",
      "422/422 [==============================] - 0s 1ms/step - loss: 0.0020 - accuracy: 0.9997 - val_loss: 0.2356 - val_accuracy: 0.9682\n",
      "Epoch 7/100\n",
      "422/422 [==============================] - 0s 1ms/step - loss: 0.0075 - accuracy: 0.9975 - val_loss: 0.2305 - val_accuracy: 0.9695\n",
      "Epoch 8/100\n",
      "422/422 [==============================] - 0s 1ms/step - loss: 0.0021 - accuracy: 0.9998 - val_loss: 0.2195 - val_accuracy: 0.9705\n",
      "Epoch 9/100\n",
      "422/422 [==============================] - 0s 1ms/step - loss: 0.0012 - accuracy: 1.0000 - val_loss: 0.2270 - val_accuracy: 0.9700\n",
      "Epoch 10/100\n",
      "422/422 [==============================] - 0s 1ms/step - loss: 0.0011 - accuracy: 1.0000 - val_loss: 0.2278 - val_accuracy: 0.9707\n",
      "Epoch 11/100\n",
      "422/422 [==============================] - 0s 1ms/step - loss: 0.0010 - accuracy: 1.0000 - val_loss: 0.2376 - val_accuracy: 0.9697\n",
      "Epoch 12/100\n",
      "422/422 [==============================] - 0s 1ms/step - loss: 0.0062 - accuracy: 0.9981 - val_loss: 0.2483 - val_accuracy: 0.9688\n",
      "Epoch 13/100\n",
      "422/422 [==============================] - 1s 1ms/step - loss: 0.0029 - accuracy: 0.9995 - val_loss: 0.2412 - val_accuracy: 0.9690\n",
      "Epoch 14/100\n",
      "422/422 [==============================] - 0s 1ms/step - loss: 0.0011 - accuracy: 1.0000 - val_loss: 0.2394 - val_accuracy: 0.9698\n",
      "Epoch 15/100\n",
      "422/422 [==============================] - 0s 1ms/step - loss: 9.6940e-04 - accuracy: 1.0000 - val_loss: 0.2380 - val_accuracy: 0.9700\n",
      "Epoch 16/100\n",
      "422/422 [==============================] - 0s 1ms/step - loss: 8.4585e-04 - accuracy: 1.0000 - val_loss: 0.2382 - val_accuracy: 0.9695\n",
      "Epoch 17/100\n",
      "422/422 [==============================] - 0s 1ms/step - loss: 0.0019 - accuracy: 0.9996 - val_loss: 0.2616 - val_accuracy: 0.9667\n",
      "Epoch 18/100\n",
      "422/422 [==============================] - 0s 1ms/step - loss: 0.0099 - accuracy: 0.9969 - val_loss: 0.2389 - val_accuracy: 0.9705\n",
      "Epoch 19/100\n",
      "422/422 [==============================] - 0s 1ms/step - loss: 0.0012 - accuracy: 1.0000 - val_loss: 0.2383 - val_accuracy: 0.9710\n",
      "Epoch 20/100\n",
      "422/422 [==============================] - 0s 1ms/step - loss: 8.5777e-04 - accuracy: 1.0000 - val_loss: 0.2388 - val_accuracy: 0.9705\n",
      "Epoch 21/100\n",
      "422/422 [==============================] - 1s 1ms/step - loss: 7.7233e-04 - accuracy: 1.0000 - val_loss: 0.2401 - val_accuracy: 0.9715\n",
      "Epoch 22/100\n",
      "422/422 [==============================] - 0s 1ms/step - loss: 8.2367e-04 - accuracy: 1.0000 - val_loss: 0.2413 - val_accuracy: 0.9697\n",
      "Epoch 23/100\n",
      "422/422 [==============================] - 0s 1ms/step - loss: 7.7556e-04 - accuracy: 1.0000 - val_loss: 0.2432 - val_accuracy: 0.9708\n",
      "Epoch 24/100\n",
      "422/422 [==============================] - 1s 1ms/step - loss: 7.3098e-04 - accuracy: 1.0000 - val_loss: 0.2431 - val_accuracy: 0.9698\n",
      "Epoch 25/100\n",
      "422/422 [==============================] - 1s 1ms/step - loss: 0.0087 - accuracy: 0.9975 - val_loss: 0.2596 - val_accuracy: 0.9672\n",
      "Epoch 26/100\n",
      "422/422 [==============================] - 0s 1ms/step - loss: 0.0018 - accuracy: 0.9998 - val_loss: 0.2479 - val_accuracy: 0.9688\n",
      "Epoch 27/100\n",
      "422/422 [==============================] - 1s 1ms/step - loss: 8.3549e-04 - accuracy: 1.0000 - val_loss: 0.2482 - val_accuracy: 0.9692\n",
      "Epoch 28/100\n",
      "422/422 [==============================] - 0s 1ms/step - loss: 6.9875e-04 - accuracy: 1.0000 - val_loss: 0.2576 - val_accuracy: 0.9687\n",
      "Epoch 29/100\n",
      "422/422 [==============================] - 1s 1ms/step - loss: 7.3269e-04 - accuracy: 1.0000 - val_loss: 0.2480 - val_accuracy: 0.9695\n",
      "Epoch 30/100\n",
      "422/422 [==============================] - 0s 1ms/step - loss: 6.1133e-04 - accuracy: 1.0000 - val_loss: 0.2485 - val_accuracy: 0.9697\n",
      "Epoch 31/100\n",
      "422/422 [==============================] - 1s 1ms/step - loss: 5.9611e-04 - accuracy: 1.0000 - val_loss: 0.2496 - val_accuracy: 0.9692\n",
      "Epoch 32/100\n",
      "422/422 [==============================] - 0s 1ms/step - loss: 0.0041 - accuracy: 0.9988 - val_loss: 0.2692 - val_accuracy: 0.9682\n",
      "Epoch 33/100\n",
      "422/422 [==============================] - 0s 1ms/step - loss: 0.0054 - accuracy: 0.9986 - val_loss: 0.2548 - val_accuracy: 0.9697\n",
      "Epoch 34/100\n",
      "422/422 [==============================] - 0s 1ms/step - loss: 0.0012 - accuracy: 0.9999 - val_loss: 0.2598 - val_accuracy: 0.9688\n",
      "Epoch 35/100\n",
      "422/422 [==============================] - 0s 1ms/step - loss: 6.6580e-04 - accuracy: 1.0000 - val_loss: 0.2551 - val_accuracy: 0.9690\n",
      "Epoch 36/100\n",
      "422/422 [==============================] - 1s 1ms/step - loss: 5.6262e-04 - accuracy: 1.0000 - val_loss: 0.2563 - val_accuracy: 0.9693\n",
      "Epoch 37/100\n",
      "422/422 [==============================] - 0s 1ms/step - loss: 5.3483e-04 - accuracy: 1.0000 - val_loss: 0.2589 - val_accuracy: 0.9690\n",
      "Epoch 38/100\n",
      "422/422 [==============================] - 0s 1ms/step - loss: 5.0233e-04 - accuracy: 1.0000 - val_loss: 0.2571 - val_accuracy: 0.9693\n",
      "Epoch 39/100\n",
      "422/422 [==============================] - 0s 1ms/step - loss: 4.9914e-04 - accuracy: 1.0000 - val_loss: 0.2608 - val_accuracy: 0.9695\n",
      "Epoch 40/100\n",
      "422/422 [==============================] - 0s 1ms/step - loss: 0.0061 - accuracy: 0.9981 - val_loss: 0.2971 - val_accuracy: 0.9638\n",
      "Epoch 41/100\n",
      "422/422 [==============================] - 0s 1ms/step - loss: 0.0056 - accuracy: 0.9983 - val_loss: 0.2674 - val_accuracy: 0.9683\n",
      "Epoch 42/100\n",
      "422/422 [==============================] - 0s 1ms/step - loss: 0.0012 - accuracy: 0.9999 - val_loss: 0.2656 - val_accuracy: 0.9693\n",
      "Epoch 43/100\n",
      "422/422 [==============================] - 0s 1ms/step - loss: 6.0607e-04 - accuracy: 1.0000 - val_loss: 0.2671 - val_accuracy: 0.9695\n",
      "Epoch 44/100\n",
      "422/422 [==============================] - 0s 1ms/step - loss: 4.9222e-04 - accuracy: 1.0000 - val_loss: 0.2659 - val_accuracy: 0.9695\n",
      "Epoch 45/100\n",
      "422/422 [==============================] - 1s 1ms/step - loss: 4.5158e-04 - accuracy: 1.0000 - val_loss: 0.2694 - val_accuracy: 0.9693\n",
      "Epoch 46/100\n",
      "422/422 [==============================] - 0s 1ms/step - loss: 4.3045e-04 - accuracy: 1.0000 - val_loss: 0.2647 - val_accuracy: 0.9700\n",
      "Epoch 47/100\n",
      "422/422 [==============================] - 0s 1ms/step - loss: 4.6182e-04 - accuracy: 1.0000 - val_loss: 0.2656 - val_accuracy: 0.9697\n",
      "Epoch 48/100\n",
      "422/422 [==============================] - 1s 1ms/step - loss: 4.6490e-04 - accuracy: 1.0000 - val_loss: 0.2669 - val_accuracy: 0.9692\n",
      "Epoch 49/100\n",
      "422/422 [==============================] - 0s 1ms/step - loss: 0.0085 - accuracy: 0.9970 - val_loss: 0.2764 - val_accuracy: 0.9678\n",
      "Epoch 50/100\n",
      "422/422 [==============================] - 0s 1ms/step - loss: 0.0019 - accuracy: 0.9996 - val_loss: 0.2678 - val_accuracy: 0.9698\n",
      "Epoch 51/100\n",
      "422/422 [==============================] - 1s 1ms/step - loss: 6.0324e-04 - accuracy: 1.0000 - val_loss: 0.2669 - val_accuracy: 0.9697\n",
      "Epoch 52/100\n",
      "422/422 [==============================] - 1s 1ms/step - loss: 4.6457e-04 - accuracy: 1.0000 - val_loss: 0.2675 - val_accuracy: 0.9707\n",
      "Epoch 53/100\n",
      "422/422 [==============================] - 1s 1ms/step - loss: 4.1688e-04 - accuracy: 1.0000 - val_loss: 0.2682 - val_accuracy: 0.9705\n",
      "Epoch 54/100\n",
      "422/422 [==============================] - 1s 1ms/step - loss: 3.9095e-04 - accuracy: 1.0000 - val_loss: 0.2681 - val_accuracy: 0.9707\n",
      "Epoch 55/100\n",
      "422/422 [==============================] - 1s 1ms/step - loss: 3.8137e-04 - accuracy: 1.0000 - val_loss: 0.2731 - val_accuracy: 0.9708\n",
      "Epoch 56/100\n",
      "422/422 [==============================] - 0s 1ms/step - loss: 3.8918e-04 - accuracy: 1.0000 - val_loss: 0.2724 - val_accuracy: 0.9703\n",
      "Epoch 57/100\n"
     ]
    },
    {
     "name": "stdout",
     "output_type": "stream",
     "text": [
      "422/422 [==============================] - 0s 1ms/step - loss: 0.0061 - accuracy: 0.9979 - val_loss: 0.3006 - val_accuracy: 0.9680\n",
      "Epoch 58/100\n",
      "422/422 [==============================] - 0s 1ms/step - loss: 0.0031 - accuracy: 0.9990 - val_loss: 0.2715 - val_accuracy: 0.9700\n",
      "Epoch 59/100\n",
      "422/422 [==============================] - 0s 1ms/step - loss: 0.0010 - accuracy: 0.9999 - val_loss: 0.2749 - val_accuracy: 0.9697\n",
      "Epoch 60/100\n",
      "422/422 [==============================] - 0s 1ms/step - loss: 4.4821e-04 - accuracy: 1.0000 - val_loss: 0.2734 - val_accuracy: 0.9698\n",
      "Epoch 61/100\n",
      "422/422 [==============================] - 0s 1ms/step - loss: 3.6166e-04 - accuracy: 1.0000 - val_loss: 0.2733 - val_accuracy: 0.9698\n",
      "Epoch 62/100\n",
      "422/422 [==============================] - 0s 1ms/step - loss: 3.2856e-04 - accuracy: 1.0000 - val_loss: 0.2749 - val_accuracy: 0.9697\n",
      "Epoch 63/100\n",
      "422/422 [==============================] - 0s 1ms/step - loss: 3.1834e-04 - accuracy: 1.0000 - val_loss: 0.2752 - val_accuracy: 0.9703\n",
      "Epoch 64/100\n",
      "422/422 [==============================] - 0s 1ms/step - loss: 3.2568e-04 - accuracy: 1.0000 - val_loss: 0.2760 - val_accuracy: 0.9707\n",
      "Epoch 65/100\n",
      "422/422 [==============================] - 0s 1ms/step - loss: 3.1583e-04 - accuracy: 1.0000 - val_loss: 0.2767 - val_accuracy: 0.9700\n",
      "Epoch 66/100\n",
      "422/422 [==============================] - 0s 1ms/step - loss: 3.3537e-04 - accuracy: 1.0000 - val_loss: 0.2861 - val_accuracy: 0.9688\n",
      "Epoch 67/100\n",
      "422/422 [==============================] - 0s 1ms/step - loss: 0.0095 - accuracy: 0.9971 - val_loss: 0.2771 - val_accuracy: 0.9685\n",
      "Epoch 68/100\n",
      "422/422 [==============================] - 0s 1ms/step - loss: 0.0032 - accuracy: 0.9991 - val_loss: 0.2783 - val_accuracy: 0.9702\n",
      "Epoch 69/100\n",
      "422/422 [==============================] - 0s 1ms/step - loss: 6.3149e-04 - accuracy: 1.0000 - val_loss: 0.2741 - val_accuracy: 0.9713\n",
      "Epoch 70/100\n",
      "422/422 [==============================] - 0s 1ms/step - loss: 4.9325e-04 - accuracy: 1.0000 - val_loss: 0.2759 - val_accuracy: 0.9707\n",
      "Epoch 71/100\n",
      "422/422 [==============================] - 0s 1ms/step - loss: 3.3933e-04 - accuracy: 1.0000 - val_loss: 0.2752 - val_accuracy: 0.9713\n",
      "Epoch 72/100\n",
      "422/422 [==============================] - 0s 1ms/step - loss: 2.9313e-04 - accuracy: 1.0000 - val_loss: 0.2762 - val_accuracy: 0.9707\n",
      "Epoch 73/100\n",
      "422/422 [==============================] - 1s 1ms/step - loss: 2.7459e-04 - accuracy: 1.0000 - val_loss: 0.2777 - val_accuracy: 0.9705\n",
      "Epoch 74/100\n",
      "422/422 [==============================] - 0s 1ms/step - loss: 2.6022e-04 - accuracy: 1.0000 - val_loss: 0.2795 - val_accuracy: 0.9702\n",
      "Epoch 75/100\n",
      "422/422 [==============================] - 0s 1ms/step - loss: 2.5941e-04 - accuracy: 1.0000 - val_loss: 0.2806 - val_accuracy: 0.9707\n",
      "Epoch 76/100\n",
      "422/422 [==============================] - 0s 1ms/step - loss: 0.0068 - accuracy: 0.9979 - val_loss: 0.3109 - val_accuracy: 0.9673\n",
      "Epoch 77/100\n",
      "422/422 [==============================] - 0s 1ms/step - loss: 0.0046 - accuracy: 0.9986 - val_loss: 0.2932 - val_accuracy: 0.9683\n",
      "Epoch 78/100\n",
      "422/422 [==============================] - 0s 1ms/step - loss: 0.0011 - accuracy: 0.9998 - val_loss: 0.2859 - val_accuracy: 0.9690\n",
      "Epoch 79/100\n",
      "422/422 [==============================] - 0s 1ms/step - loss: 3.6890e-04 - accuracy: 1.0000 - val_loss: 0.2874 - val_accuracy: 0.9695\n",
      "Epoch 80/100\n",
      "422/422 [==============================] - 0s 1ms/step - loss: 3.1411e-04 - accuracy: 1.0000 - val_loss: 0.2876 - val_accuracy: 0.9693\n",
      "Epoch 81/100\n",
      "422/422 [==============================] - 0s 1ms/step - loss: 2.7776e-04 - accuracy: 1.0000 - val_loss: 0.2865 - val_accuracy: 0.9702\n",
      "Epoch 82/100\n",
      "422/422 [==============================] - 0s 1ms/step - loss: 2.5482e-04 - accuracy: 1.0000 - val_loss: 0.2883 - val_accuracy: 0.9695\n",
      "Epoch 83/100\n",
      "422/422 [==============================] - 0s 1ms/step - loss: 2.4277e-04 - accuracy: 1.0000 - val_loss: 0.2881 - val_accuracy: 0.9697\n",
      "Epoch 84/100\n",
      "422/422 [==============================] - 0s 1ms/step - loss: 2.4112e-04 - accuracy: 1.0000 - val_loss: 0.2891 - val_accuracy: 0.9697\n",
      "Epoch 85/100\n",
      "422/422 [==============================] - 0s 1ms/step - loss: 2.3065e-04 - accuracy: 1.0000 - val_loss: 0.2876 - val_accuracy: 0.9700\n",
      "Epoch 86/100\n",
      "422/422 [==============================] - 0s 1ms/step - loss: 2.2173e-04 - accuracy: 1.0000 - val_loss: 0.2902 - val_accuracy: 0.9705\n",
      "Epoch 87/100\n",
      "422/422 [==============================] - 0s 1ms/step - loss: 2.1083e-04 - accuracy: 1.0000 - val_loss: 0.2905 - val_accuracy: 0.9700\n",
      "Epoch 88/100\n",
      "422/422 [==============================] - 0s 1ms/step - loss: 0.0101 - accuracy: 0.9968 - val_loss: 0.3166 - val_accuracy: 0.9673\n",
      "Epoch 89/100\n",
      "422/422 [==============================] - 0s 1ms/step - loss: 0.0022 - accuracy: 0.9994 - val_loss: 0.2967 - val_accuracy: 0.9697\n",
      "Epoch 90/100\n",
      "422/422 [==============================] - 0s 1ms/step - loss: 6.5400e-04 - accuracy: 0.9999 - val_loss: 0.3021 - val_accuracy: 0.9703\n",
      "Epoch 91/100\n",
      "422/422 [==============================] - 0s 1ms/step - loss: 2.9956e-04 - accuracy: 1.0000 - val_loss: 0.3010 - val_accuracy: 0.9698\n",
      "Epoch 92/100\n",
      "422/422 [==============================] - 1s 1ms/step - loss: 2.5338e-04 - accuracy: 1.0000 - val_loss: 0.3005 - val_accuracy: 0.9695\n",
      "Epoch 93/100\n",
      "422/422 [==============================] - 1s 1ms/step - loss: 2.2565e-04 - accuracy: 1.0000 - val_loss: 0.3015 - val_accuracy: 0.9697\n",
      "Epoch 94/100\n",
      "422/422 [==============================] - 1s 1ms/step - loss: 2.1373e-04 - accuracy: 1.0000 - val_loss: 0.3010 - val_accuracy: 0.9692\n",
      "Epoch 95/100\n",
      "422/422 [==============================] - 1s 1ms/step - loss: 1.9958e-04 - accuracy: 1.0000 - val_loss: 0.3003 - val_accuracy: 0.9693\n",
      "Epoch 96/100\n",
      "422/422 [==============================] - 0s 1ms/step - loss: 1.9225e-04 - accuracy: 1.0000 - val_loss: 0.2997 - val_accuracy: 0.9693\n",
      "Epoch 97/100\n",
      "422/422 [==============================] - 0s 1ms/step - loss: 1.8713e-04 - accuracy: 1.0000 - val_loss: 0.3025 - val_accuracy: 0.9698\n",
      "Epoch 98/100\n",
      "422/422 [==============================] - 0s 1ms/step - loss: 1.8884e-04 - accuracy: 1.0000 - val_loss: 0.3061 - val_accuracy: 0.9690\n",
      "Epoch 99/100\n",
      "422/422 [==============================] - 0s 1ms/step - loss: 2.1077e-04 - accuracy: 1.0000 - val_loss: 0.3041 - val_accuracy: 0.9697\n",
      "Epoch 100/100\n",
      "422/422 [==============================] - 0s 1ms/step - loss: 0.0107 - accuracy: 0.9971 - val_loss: 0.3125 - val_accuracy: 0.9682\n"
     ]
    },
    {
     "data": {
      "text/plain": [
       "<matplotlib.axes._subplots.AxesSubplot at 0x7ffbef6cc110>"
      ]
     },
     "execution_count": 20,
     "metadata": {},
     "output_type": "execute_result"
    }
   ],
   "source": [
    "history_callback = model.fit(X_train, y_train, batch_size=128, epochs=100, verbose=1, validation_split=0.1)"
   ]
  },
  {
   "cell_type": "code",
   "execution_count": 21,
   "metadata": {},
   "outputs": [
    {
     "data": {
      "text/plain": [
       "<matplotlib.axes._subplots.AxesSubplot at 0x7ffbefe69810>"
      ]
     },
     "execution_count": 21,
     "metadata": {},
     "output_type": "execute_result"
    },
    {
     "data": {
      "image/png": "[encoded data removed]",
      "text/plain": [
       "<Figure size 432x288 with 1 Axes>"
      ]
     },
     "metadata": {
      "needs_background": "light"
     },
     "output_type": "display_data"
    }
   ],
   "source": [
    "import pandas as pd\n",
    "\n",
    "pd.DataFrame(history_callback.history).plot()"
   ]
  },
  {
   "cell_type": "markdown",
   "metadata": {},
   "source": [
    "### Wrappers for sklearn"
   ]
  },
  {
   "cell_type": "code",
   "execution_count": 22,
   "metadata": {},
   "outputs": [],
   "source": [
    "from keras.wrappers.scikit_learn import KerasClassifier, KerasRegressor\n",
    "from sklearn.model_selection import GridSearchCV"
   ]
  },
  {
   "cell_type": "code",
   "execution_count": 25,
   "metadata": {},
   "outputs": [],
   "source": [
    "def make_model(optimizer=\"adam\", hidden_size=32):\n",
    "    model = Sequential([\n",
    "        Dense(hidden_size, input_shape=(784,)),\n",
    "        Activation('relu'),\n",
    "        Dense(10),\n",
    "        Activation('softmax'),\n",
    "    ])\n",
    "    model.compile(optimizer=optimizer, loss=\"categorical_crossentropy\",\n",
    "                 metrics=['accuracy'])\n",
    "    return model"
   ]
  },
  {
   "cell_type": "code",
   "execution_count": 26,
   "metadata": {},
   "outputs": [
    {
     "name": "stdout",
     "output_type": "stream",
     "text": [
      "1500/1500 [==============================] - 1s 831us/step - loss: 0.3767 - accuracy: 0.89560s - loss: 0.4396 - \n",
      "375/375 [==============================] - 0s 656us/step - loss: 0.2239 - accuracy: 0.9370\n",
      "1500/1500 [==============================] - 1s 795us/step - loss: 0.3785 - accuracy: 0.8952\n",
      "375/375 [==============================] - 0s 610us/step - loss: 0.2368 - accuracy: 0.9337\n",
      "1500/1500 [==============================] - 1s 832us/step - loss: 0.3818 - accuracy: 0.8945\n",
      "375/375 [==============================] - 0s 640us/step - loss: 0.2419 - accuracy: 0.9316\n",
      "1500/1500 [==============================] - 1s 876us/step - loss: 0.3811 - accuracy: 0.8949\n",
      "375/375 [==============================] - 0s 727us/step - loss: 0.2604 - accuracy: 0.9243\n",
      "1500/1500 [==============================] - 1s 806us/step - loss: 0.3880 - accuracy: 0.8932\n",
      "375/375 [==============================] - 0s 612us/step - loss: 0.2252 - accuracy: 0.9377\n",
      "1500/1500 [==============================] - 1s 905us/step - loss: 0.3318 - accuracy: 0.9061\n",
      "375/375 [==============================] - 0s 823us/step - loss: 0.1914 - accuracy: 0.9438\n",
      "1500/1500 [==============================] - 1s 924us/step - loss: 0.3321 - accuracy: 0.9053\n",
      "375/375 [==============================] - 0s 685us/step - loss: 0.2127 - accuracy: 0.9384\n",
      "1500/1500 [==============================] - 1s 914us/step - loss: 0.3329 - accuracy: 0.9072\n",
      "375/375 [==============================] - 0s 674us/step - loss: 0.2042 - accuracy: 0.9430\n",
      "1500/1500 [==============================] - 1s 930us/step - loss: 0.3247 - accuracy: 0.9095\n",
      "375/375 [==============================] - 0s 683us/step - loss: 0.2367 - accuracy: 0.9308\n",
      "1500/1500 [==============================] - 1s 925us/step - loss: 0.3456 - accuracy: 0.9030\n",
      "375/375 [==============================] - 0s 692us/step - loss: 0.2110 - accuracy: 0.9393\n",
      "1500/1500 [==============================] - 2s 1ms/step - loss: 0.2454 - accuracy: 0.9284\n",
      "375/375 [==============================] - 0s 822us/step - loss: 0.1337 - accuracy: 0.9605\n",
      "1500/1500 [==============================] - 2s 1ms/step - loss: 0.2481 - accuracy: 0.9284\n",
      "375/375 [==============================] - 0s 840us/step - loss: 0.1520 - accuracy: 0.9558\n",
      "1500/1500 [==============================] - 2s 1ms/step - loss: 0.2489 - accuracy: 0.9291\n",
      "375/375 [==============================] - 0s 768us/step - loss: 0.1419 - accuracy: 0.9554\n",
      "1500/1500 [==============================] - 2s 1ms/step - loss: 0.2429 - accuracy: 0.9301: 0s - loss: 0.2463 - accuracy: 0.\n",
      "375/375 [==============================] - 0s 804us/step - loss: 0.1668 - accuracy: 0.9498\n",
      "1500/1500 [==============================] - 2s 1ms/step - loss: 0.2529 - accuracy: 0.9259\n",
      "375/375 [==============================] - 0s 800us/step - loss: 0.1375 - accuracy: 0.9603\n",
      "Epoch 1/5\n",
      "1500/1500 [==============================] - 1s 791us/step - loss: 0.3971 - accuracy: 0.8889\n",
      "Epoch 2/5\n",
      "1500/1500 [==============================] - 1s 878us/step - loss: 0.2274 - accuracy: 0.9339\n",
      "Epoch 3/5\n",
      "1500/1500 [==============================] - 1s 842us/step - loss: 0.1812 - accuracy: 0.9473\n",
      "Epoch 4/5\n",
      "1500/1500 [==============================] - 1s 776us/step - loss: 0.1508 - accuracy: 0.9557\n",
      "Epoch 5/5\n",
      "1500/1500 [==============================] - 1s 774us/step - loss: 0.1293 - accuracy: 0.9614\n",
      "375/375 [==============================] - 0s 626us/step - loss: 0.1485 - accuracy: 0.9558\n",
      "Epoch 1/5\n",
      "1500/1500 [==============================] - 1s 780us/step - loss: 0.3734 - accuracy: 0.8964\n",
      "Epoch 2/5\n",
      "1500/1500 [==============================] - 1s 848us/step - loss: 0.1990 - accuracy: 0.9415\n",
      "Epoch 3/5\n",
      "1500/1500 [==============================] - 1s 883us/step - loss: 0.1572 - accuracy: 0.9538\n",
      "Epoch 4/5\n",
      "1500/1500 [==============================] - 1s 853us/step - loss: 0.1335 - accuracy: 0.9603\n",
      "Epoch 5/5\n",
      "1500/1500 [==============================] - 1s 801us/step - loss: 0.1171 - accuracy: 0.9655\n",
      "375/375 [==============================] - 0s 615us/step - loss: 0.1542 - accuracy: 0.9542\n",
      "Epoch 1/5\n",
      "1500/1500 [==============================] - 1s 880us/step - loss: 0.3994 - accuracy: 0.8898\n",
      "Epoch 2/5\n",
      "1500/1500 [==============================] - 1s 864us/step - loss: 0.2164 - accuracy: 0.9375\n",
      "Epoch 3/5\n",
      "1500/1500 [==============================] - 1s 866us/step - loss: 0.1713 - accuracy: 0.9506\n",
      "Epoch 4/5\n",
      "1500/1500 [==============================] - 1s 957us/step - loss: 0.1433 - accuracy: 0.9582\n",
      "Epoch 5/5\n",
      "1500/1500 [==============================] - 1s 913us/step - loss: 0.1235 - accuracy: 0.9633\n",
      "375/375 [==============================] - 0s 668us/step - loss: 0.1626 - accuracy: 0.9528\n",
      "Epoch 1/5\n",
      "1500/1500 [==============================] - 1s 854us/step - loss: 0.3679 - accuracy: 0.8976\n",
      "Epoch 2/5\n",
      "1500/1500 [==============================] - 1s 852us/step - loss: 0.1916 - accuracy: 0.9438\n",
      "Epoch 3/5\n",
      "1500/1500 [==============================] - 1s 870us/step - loss: 0.1511 - accuracy: 0.9553\n",
      "Epoch 4/5\n",
      "1500/1500 [==============================] - 1s 870us/step - loss: 0.1285 - accuracy: 0.9625\n",
      "Epoch 5/5\n",
      "1500/1500 [==============================] - 1s 858us/step - loss: 0.1113 - accuracy: 0.9667\n",
      "375/375 [==============================] - 0s 670us/step - loss: 0.1572 - accuracy: 0.9548\n",
      "Epoch 1/5\n",
      "1500/1500 [==============================] - 1s 917us/step - loss: 0.3854 - accuracy: 0.8926\n",
      "Epoch 2/5\n",
      "1500/1500 [==============================] - 1s 837us/step - loss: 0.2037 - accuracy: 0.9404\n",
      "Epoch 3/5\n",
      "1500/1500 [==============================] - 1s 799us/step - loss: 0.1614 - accuracy: 0.9526\n",
      "Epoch 4/5\n",
      "1500/1500 [==============================] - 1s 763us/step - loss: 0.1349 - accuracy: 0.9602\n",
      "Epoch 5/5\n",
      "1500/1500 [==============================] - 1s 771us/step - loss: 0.1175 - accuracy: 0.9654\n",
      "375/375 [==============================] - 0s 569us/step - loss: 0.1320 - accuracy: 0.9609\n",
      "Epoch 1/5\n",
      "1500/1500 [==============================] - 2s 1ms/step - loss: 0.3301 - accuracy: 0.9074\n",
      "Epoch 2/5\n",
      "1500/1500 [==============================] - 2s 1ms/step - loss: 0.1553 - accuracy: 0.9550\n",
      "Epoch 3/5\n",
      "1500/1500 [==============================] - 2s 1ms/step - loss: 0.1096 - accuracy: 0.9674: 0s - l\n",
      "Epoch 4/5\n",
      "1500/1500 [==============================] - 2s 1ms/step - loss: 0.0856 - accuracy: 0.9739\n",
      "Epoch 5/5\n",
      "1500/1500 [==============================] - 2s 1ms/step - loss: 0.0694 - accuracy: 0.9792\n",
      "375/375 [==============================] - 0s 741us/step - loss: 0.1004 - accuracy: 0.9688\n",
      "Epoch 1/5\n",
      "1500/1500 [==============================] - 2s 1ms/step - loss: 0.3313 - accuracy: 0.9061\n",
      "Epoch 2/5\n",
      "1500/1500 [==============================] - 1s 996us/step - loss: 0.1664 - accuracy: 0.9510\n",
      "Epoch 3/5\n",
      "1500/1500 [==============================] - 1s 992us/step - loss: 0.1209 - accuracy: 0.9648\n",
      "Epoch 4/5\n",
      "1500/1500 [==============================] - 2s 1ms/step - loss: 0.0937 - accuracy: 0.9716\n",
      "Epoch 5/5\n",
      "1500/1500 [==============================] - 2s 1ms/step - loss: 0.0763 - accuracy: 0.9778\n",
      "375/375 [==============================] - 0s 735us/step - loss: 0.1157 - accuracy: 0.9654\n",
      "Epoch 1/5\n",
      "1500/1500 [==============================] - 2s 1ms/step - loss: 0.3226 - accuracy: 0.9099: 0s - loss: 0.3652 \n",
      "Epoch 2/5\n",
      "1500/1500 [==============================] - 2s 1ms/step - loss: 0.1609 - accuracy: 0.9538\n",
      "Epoch 3/5\n",
      "1500/1500 [==============================] - 2s 1ms/step - loss: 0.1175 - accuracy: 0.9651\n",
      "Epoch 4/5\n",
      "1500/1500 [==============================] - 2s 1ms/step - loss: 0.0923 - accuracy: 0.9721: 0s - loss: 0.0916 - accuracy: 0.\n",
      "Epoch 5/5\n",
      "1500/1500 [==============================] - 2s 1ms/step - loss: 0.0759 - accuracy: 0.9768\n",
      "375/375 [==============================] - 0s 763us/step - loss: 0.1147 - accuracy: 0.9666\n",
      "Epoch 1/5\n",
      "1500/1500 [==============================] - 2s 1ms/step - loss: 0.3299 - accuracy: 0.9072\n",
      "Epoch 2/5\n",
      "1500/1500 [==============================] - 2s 1ms/step - loss: 0.1568 - accuracy: 0.9544\n",
      "Epoch 3/5\n",
      "1500/1500 [==============================] - 2s 1ms/step - loss: 0.1108 - accuracy: 0.9673\n",
      "Epoch 4/5\n",
      "1500/1500 [==============================] - 2s 1ms/step - loss: 0.0862 - accuracy: 0.9745\n",
      "Epoch 5/5\n"
     ]
    },
    {
     "name": "stdout",
     "output_type": "stream",
     "text": [
      "1500/1500 [==============================] - 2s 1ms/step - loss: 0.0716 - accuracy: 0.9791: 0s - los\n",
      "375/375 [==============================] - 0s 744us/step - loss: 0.1234 - accuracy: 0.9650\n",
      "Epoch 1/5\n",
      "1500/1500 [==============================] - 2s 1ms/step - loss: 0.3306 - accuracy: 0.9072\n",
      "Epoch 2/5\n",
      "1500/1500 [==============================] - 2s 1ms/step - loss: 0.1590 - accuracy: 0.9536: 0s - loss: 0.1648 - ac\n",
      "Epoch 3/5\n",
      "1500/1500 [==============================] - 1s 981us/step - loss: 0.1157 - accuracy: 0.9660\n",
      "Epoch 4/5\n",
      "1500/1500 [==============================] - 1s 948us/step - loss: 0.0916 - accuracy: 0.9729\n",
      "Epoch 5/5\n",
      "1500/1500 [==============================] - 1s 955us/step - loss: 0.0750 - accuracy: 0.9778\n",
      "375/375 [==============================] - 0s 710us/step - loss: 0.1060 - accuracy: 0.9695\n",
      "Epoch 1/5\n",
      "1500/1500 [==============================] - 2s 1ms/step - loss: 0.2470 - accuracy: 0.9289: 0s\n",
      "Epoch 2/5\n",
      "1500/1500 [==============================] - 2s 1ms/step - loss: 0.1040 - accuracy: 0.9680\n",
      "Epoch 3/5\n",
      "1500/1500 [==============================] - 2s 1ms/step - loss: 0.0687 - accuracy: 0.9788\n",
      "Epoch 4/5\n",
      "1500/1500 [==============================] - 2s 1ms/step - loss: 0.0477 - accuracy: 0.9851\n",
      "Epoch 5/5\n",
      "1500/1500 [==============================] - 2s 1ms/step - loss: 0.0352 - accuracy: 0.9887: 0s -\n",
      "375/375 [==============================] - 0s 820us/step - loss: 0.0889 - accuracy: 0.9735\n",
      "Epoch 1/5\n",
      "1500/1500 [==============================] - 2s 1ms/step - loss: 0.2456 - accuracy: 0.9286\n",
      "Epoch 2/5\n",
      "1500/1500 [==============================] - 2s 1ms/step - loss: 0.1004 - accuracy: 0.9693: 0s - loss: 0.1016 - accuracy: \n",
      "Epoch 3/5\n",
      "1500/1500 [==============================] - 2s 1ms/step - loss: 0.0670 - accuracy: 0.9796\n",
      "Epoch 4/5\n",
      "1500/1500 [==============================] - 2s 1ms/step - loss: 0.0470 - accuracy: 0.9854\n",
      "Epoch 5/5\n",
      "1500/1500 [==============================] - 2s 1ms/step - loss: 0.0362 - accuracy: 0.9887\n",
      "375/375 [==============================] - 0s 796us/step - loss: 0.0804 - accuracy: 0.9765\n",
      "Epoch 1/5\n",
      "1500/1500 [==============================] - 2s 1ms/step - loss: 0.2487 - accuracy: 0.9284\n",
      "Epoch 2/5\n",
      "1500/1500 [==============================] - 2s 1ms/step - loss: 0.1028 - accuracy: 0.9687\n",
      "Epoch 3/5\n",
      "1500/1500 [==============================] - 2s 1ms/step - loss: 0.0660 - accuracy: 0.9797\n",
      "Epoch 4/5\n",
      "1500/1500 [==============================] - 2s 1ms/step - loss: 0.0490 - accuracy: 0.9846\n",
      "Epoch 5/5\n",
      "1500/1500 [==============================] - 2s 1ms/step - loss: 0.0346 - accuracy: 0.9887\n",
      "375/375 [==============================] - 0s 844us/step - loss: 0.0963 - accuracy: 0.9718\n",
      "Epoch 1/5\n",
      "1500/1500 [==============================] - 2s 1ms/step - loss: 0.2461 - accuracy: 0.9285\n",
      "Epoch 2/5\n",
      "1500/1500 [==============================] - 2s 1ms/step - loss: 0.1025 - accuracy: 0.9694\n",
      "Epoch 3/5\n",
      "1500/1500 [==============================] - 2s 1ms/step - loss: 0.0683 - accuracy: 0.9796\n",
      "Epoch 4/5\n",
      "1500/1500 [==============================] - 2s 1ms/step - loss: 0.0477 - accuracy: 0.9856\n",
      "Epoch 5/5\n",
      "1500/1500 [==============================] - 2s 1ms/step - loss: 0.0356 - accuracy: 0.9887\n",
      "375/375 [==============================] - 0s 798us/step - loss: 0.1018 - accuracy: 0.9705\n",
      "Epoch 1/5\n",
      "1500/1500 [==============================] - 2s 1ms/step - loss: 0.2535 - accuracy: 0.9266\n",
      "Epoch 2/5\n",
      "1500/1500 [==============================] - 2s 1ms/step - loss: 0.1063 - accuracy: 0.9689\n",
      "Epoch 3/5\n",
      "1500/1500 [==============================] - 2s 1ms/step - loss: 0.0682 - accuracy: 0.9794\n",
      "Epoch 4/5\n",
      "1500/1500 [==============================] - 2s 1ms/step - loss: 0.0492 - accuracy: 0.9848\n",
      "Epoch 5/5\n",
      "1500/1500 [==============================] - 2s 1ms/step - loss: 0.0377 - accuracy: 0.9879\n",
      "375/375 [==============================] - 0s 838us/step - loss: 0.0840 - accuracy: 0.9739\n",
      "Epoch 1/10\n",
      "1500/1500 [==============================] - 1s 864us/step - loss: 0.3722 - accuracy: 0.8956\n",
      "Epoch 2/10\n",
      "1500/1500 [==============================] - 1s 823us/step - loss: 0.1890 - accuracy: 0.9454\n",
      "Epoch 3/10\n",
      "1500/1500 [==============================] - 1s 811us/step - loss: 0.1469 - accuracy: 0.9575\n",
      "Epoch 4/10\n",
      "1500/1500 [==============================] - 1s 948us/step - loss: 0.1225 - accuracy: 0.9647\n",
      "Epoch 5/10\n",
      "1500/1500 [==============================] - 1s 861us/step - loss: 0.1062 - accuracy: 0.9687\n",
      "Epoch 6/10\n",
      "1500/1500 [==============================] - 1s 903us/step - loss: 0.0928 - accuracy: 0.9729\n",
      "Epoch 7/10\n",
      "1500/1500 [==============================] - 1s 862us/step - loss: 0.0841 - accuracy: 0.9741\n",
      "Epoch 8/10\n",
      "1500/1500 [==============================] - 1s 904us/step - loss: 0.0757 - accuracy: 0.9776\n",
      "Epoch 9/10\n",
      "1500/1500 [==============================] - 1s 880us/step - loss: 0.0697 - accuracy: 0.9795\n",
      "Epoch 10/10\n",
      "1500/1500 [==============================] - 1s 886us/step - loss: 0.0638 - accuracy: 0.9810\n",
      "375/375 [==============================] - 0s 685us/step - loss: 0.1185 - accuracy: 0.9651\n",
      "Epoch 1/10\n",
      "1500/1500 [==============================] - 1s 850us/step - loss: 0.3919 - accuracy: 0.8914\n",
      "Epoch 2/10\n",
      "1500/1500 [==============================] - 1s 839us/step - loss: 0.2018 - accuracy: 0.9416\n",
      "Epoch 3/10\n",
      "1500/1500 [==============================] - 1s 852us/step - loss: 0.1604 - accuracy: 0.9544\n",
      "Epoch 4/10\n",
      "1500/1500 [==============================] - 1s 803us/step - loss: 0.1371 - accuracy: 0.9603\n",
      "Epoch 5/10\n",
      "1500/1500 [==============================] - 1s 740us/step - loss: 0.1205 - accuracy: 0.9648\n",
      "Epoch 6/10\n",
      "1500/1500 [==============================] - 1s 803us/step - loss: 0.1080 - accuracy: 0.9691\n",
      "Epoch 7/10\n",
      "1500/1500 [==============================] - 1s 861us/step - loss: 0.0971 - accuracy: 0.9721\n",
      "Epoch 8/10\n",
      "1500/1500 [==============================] - 1s 933us/step - loss: 0.0882 - accuracy: 0.9737\n",
      "Epoch 9/10\n",
      "1500/1500 [==============================] - 1s 935us/step - loss: 0.0811 - accuracy: 0.9766\n",
      "Epoch 10/10\n",
      "1500/1500 [==============================] - 1s 862us/step - loss: 0.0752 - accuracy: 0.9782\n",
      "375/375 [==============================] - 0s 667us/step - loss: 0.1354 - accuracy: 0.9622\n",
      "Epoch 1/10\n",
      "1500/1500 [==============================] - 1s 844us/step - loss: 0.3705 - accuracy: 0.8979\n",
      "Epoch 2/10\n",
      "1500/1500 [==============================] - 1s 856us/step - loss: 0.2049 - accuracy: 0.9402\n",
      "Epoch 3/10\n",
      "1500/1500 [==============================] - 1s 855us/step - loss: 0.1645 - accuracy: 0.9516\n",
      "Epoch 4/10\n",
      "1500/1500 [==============================] - 1s 854us/step - loss: 0.1387 - accuracy: 0.9592\n",
      "Epoch 5/10\n",
      "1500/1500 [==============================] - 1s 857us/step - loss: 0.1214 - accuracy: 0.9640\n",
      "Epoch 6/10\n",
      "1500/1500 [==============================] - 1s 879us/step - loss: 0.1081 - accuracy: 0.9680\n",
      "Epoch 7/10\n",
      "1500/1500 [==============================] - 1s 843us/step - loss: 0.0963 - accuracy: 0.9708\n",
      "Epoch 8/10\n",
      "1500/1500 [==============================] - 1s 851us/step - loss: 0.0876 - accuracy: 0.9742\n",
      "Epoch 9/10\n",
      "1500/1500 [==============================] - 1s 854us/step - loss: 0.0806 - accuracy: 0.9754\n",
      "Epoch 10/10\n",
      "1500/1500 [==============================] - 1s 859us/step - loss: 0.0742 - accuracy: 0.9772\n",
      "375/375 [==============================] - 0s 653us/step - loss: 0.1425 - accuracy: 0.9576\n",
      "Epoch 1/10\n",
      "1500/1500 [==============================] - 1s 855us/step - loss: 0.3801 - accuracy: 0.8965\n",
      "Epoch 2/10\n",
      "1500/1500 [==============================] - 1s 852us/step - loss: 0.2063 - accuracy: 0.9408\n",
      "Epoch 3/10\n",
      "1500/1500 [==============================] - 1s 864us/step - loss: 0.1661 - accuracy: 0.9515\n",
      "Epoch 4/10\n",
      "1500/1500 [==============================] - 1s 858us/step - loss: 0.1391 - accuracy: 0.9588\n",
      "Epoch 5/10\n",
      "1500/1500 [==============================] - 1s 848us/step - loss: 0.1196 - accuracy: 0.9640\n",
      "Epoch 6/10\n",
      "1500/1500 [==============================] - 1s 850us/step - loss: 0.1060 - accuracy: 0.9685\n",
      "Epoch 7/10\n",
      "1500/1500 [==============================] - 1s 868us/step - loss: 0.0949 - accuracy: 0.9716\n",
      "Epoch 8/10\n",
      "1500/1500 [==============================] - 1s 877us/step - loss: 0.0847 - accuracy: 0.9747\n",
      "Epoch 9/10\n",
      "1500/1500 [==============================] - 1s 863us/step - loss: 0.0779 - accuracy: 0.9763\n",
      "Epoch 10/10\n"
     ]
    },
    {
     "name": "stdout",
     "output_type": "stream",
     "text": [
      "1500/1500 [==============================] - 1s 828us/step - loss: 0.0707 - accuracy: 0.9789\n",
      "375/375 [==============================] - 0s 649us/step - loss: 0.1494 - accuracy: 0.9557\n",
      "Epoch 1/10\n",
      "1500/1500 [==============================] - 1s 816us/step - loss: 0.3911 - accuracy: 0.8932\n",
      "Epoch 2/10\n",
      "1500/1500 [==============================] - 1s 815us/step - loss: 0.2075 - accuracy: 0.9405\n",
      "Epoch 3/10\n",
      "1500/1500 [==============================] - 1s 828us/step - loss: 0.1621 - accuracy: 0.9520\n",
      "Epoch 4/10\n",
      "1500/1500 [==============================] - 1s 829us/step - loss: 0.1350 - accuracy: 0.9606\n",
      "Epoch 5/10\n",
      "1500/1500 [==============================] - 1s 832us/step - loss: 0.1165 - accuracy: 0.9659\n",
      "Epoch 6/10\n",
      "1500/1500 [==============================] - 1s 811us/step - loss: 0.1022 - accuracy: 0.9703\n",
      "Epoch 7/10\n",
      "1500/1500 [==============================] - 1s 802us/step - loss: 0.0903 - accuracy: 0.9734\n",
      "Epoch 8/10\n",
      "1500/1500 [==============================] - 1s 811us/step - loss: 0.0833 - accuracy: 0.9750\n",
      "Epoch 9/10\n",
      "1500/1500 [==============================] - 1s 824us/step - loss: 0.0755 - accuracy: 0.9770\n",
      "Epoch 10/10\n",
      "1500/1500 [==============================] - 1s 823us/step - loss: 0.0696 - accuracy: 0.9791\n",
      "375/375 [==============================] - 0s 643us/step - loss: 0.1176 - accuracy: 0.9676\n",
      "Epoch 1/10\n",
      "1500/1500 [==============================] - 1s 972us/step - loss: 0.3260 - accuracy: 0.9097\n",
      "Epoch 2/10\n",
      "1500/1500 [==============================] - 1s 969us/step - loss: 0.1603 - accuracy: 0.9540\n",
      "Epoch 3/10\n",
      "1500/1500 [==============================] - 1s 963us/step - loss: 0.1174 - accuracy: 0.9664\n",
      "Epoch 4/10\n",
      "1500/1500 [==============================] - 1s 971us/step - loss: 0.0923 - accuracy: 0.9731\n",
      "Epoch 5/10\n",
      "1500/1500 [==============================] - 1s 957us/step - loss: 0.0756 - accuracy: 0.9777\n",
      "Epoch 6/10\n",
      "1500/1500 [==============================] - 1s 976us/step - loss: 0.0630 - accuracy: 0.9806\n",
      "Epoch 7/10\n",
      "1500/1500 [==============================] - 1s 967us/step - loss: 0.0529 - accuracy: 0.9836\n",
      "Epoch 8/10\n",
      "1500/1500 [==============================] - 1s 990us/step - loss: 0.0457 - accuracy: 0.9861\n",
      "Epoch 9/10\n",
      "1500/1500 [==============================] - 1s 973us/step - loss: 0.0388 - accuracy: 0.9884\n",
      "Epoch 10/10\n",
      "1500/1500 [==============================] - 1s 971us/step - loss: 0.0332 - accuracy: 0.9897\n",
      "375/375 [==============================] - 0s 723us/step - loss: 0.0966 - accuracy: 0.9719\n",
      "Epoch 1/10\n",
      "1500/1500 [==============================] - 1s 987us/step - loss: 0.3368 - accuracy: 0.9047\n",
      "Epoch 2/10\n",
      "1500/1500 [==============================] - 1s 971us/step - loss: 0.1661 - accuracy: 0.9513\n",
      "Epoch 3/10\n",
      "1500/1500 [==============================] - 1s 972us/step - loss: 0.1190 - accuracy: 0.9644\n",
      "Epoch 4/10\n",
      "1500/1500 [==============================] - 1s 982us/step - loss: 0.0938 - accuracy: 0.9721\n",
      "Epoch 5/10\n",
      "1500/1500 [==============================] - 1s 978us/step - loss: 0.0768 - accuracy: 0.9766\n",
      "Epoch 6/10\n",
      "1500/1500 [==============================] - 1s 963us/step - loss: 0.0640 - accuracy: 0.9801\n",
      "Epoch 7/10\n",
      "1500/1500 [==============================] - 1s 974us/step - loss: 0.0537 - accuracy: 0.9840\n",
      "Epoch 8/10\n",
      "1500/1500 [==============================] - 1s 966us/step - loss: 0.0456 - accuracy: 0.9860\n",
      "Epoch 9/10\n",
      "1500/1500 [==============================] - 1s 971us/step - loss: 0.0389 - accuracy: 0.9883\n",
      "Epoch 10/10\n",
      "1500/1500 [==============================] - 1s 957us/step - loss: 0.0341 - accuracy: 0.9894\n",
      "375/375 [==============================] - 0s 721us/step - loss: 0.1078 - accuracy: 0.96930s - loss: 0.1091 - accuracy: 0.\n",
      "Epoch 1/10\n",
      "1500/1500 [==============================] - 2s 1ms/step - loss: 0.3210 - accuracy: 0.9099\n",
      "Epoch 2/10\n",
      "1500/1500 [==============================] - 2s 1ms/step - loss: 0.1525 - accuracy: 0.9558\n",
      "Epoch 3/10\n",
      "1500/1500 [==============================] - 1s 989us/step - loss: 0.1110 - accuracy: 0.9678\n",
      "Epoch 4/10\n",
      "1500/1500 [==============================] - 1s 985us/step - loss: 0.0868 - accuracy: 0.9741\n",
      "Epoch 5/10\n",
      "1500/1500 [==============================] - 1s 988us/step - loss: 0.0720 - accuracy: 0.9778\n",
      "Epoch 6/10\n",
      "1500/1500 [==============================] - 1s 979us/step - loss: 0.0584 - accuracy: 0.9826\n",
      "Epoch 7/10\n",
      "1500/1500 [==============================] - 1s 977us/step - loss: 0.0509 - accuracy: 0.9848\n",
      "Epoch 8/10\n",
      "1500/1500 [==============================] - 1s 974us/step - loss: 0.0437 - accuracy: 0.9873\n",
      "Epoch 9/10\n",
      "1500/1500 [==============================] - 1s 980us/step - loss: 0.0369 - accuracy: 0.9888\n",
      "Epoch 10/10\n",
      "1500/1500 [==============================] - 1s 965us/step - loss: 0.0322 - accuracy: 0.9901\n",
      "375/375 [==============================] - 0s 721us/step - loss: 0.1025 - accuracy: 0.9708\n",
      "Epoch 1/10\n",
      "1500/1500 [==============================] - 1s 979us/step - loss: 0.3256 - accuracy: 0.9085\n",
      "Epoch 2/10\n",
      "1500/1500 [==============================] - 1s 980us/step - loss: 0.1606 - accuracy: 0.9532\n",
      "Epoch 3/10\n",
      "1500/1500 [==============================] - 1s 973us/step - loss: 0.1166 - accuracy: 0.9645\n",
      "Epoch 4/10\n",
      "1500/1500 [==============================] - 1s 985us/step - loss: 0.0906 - accuracy: 0.9726\n",
      "Epoch 5/10\n",
      "1500/1500 [==============================] - 1s 981us/step - loss: 0.0754 - accuracy: 0.9774\n",
      "Epoch 6/10\n",
      "1500/1500 [==============================] - 1s 971us/step - loss: 0.0614 - accuracy: 0.9814\n",
      "Epoch 7/10\n",
      "1500/1500 [==============================] - 1s 968us/step - loss: 0.0526 - accuracy: 0.9838\n",
      "Epoch 8/10\n",
      "1500/1500 [==============================] - 1s 986us/step - loss: 0.0440 - accuracy: 0.9871\n",
      "Epoch 9/10\n",
      "1500/1500 [==============================] - 1s 969us/step - loss: 0.0375 - accuracy: 0.9889\n",
      "Epoch 10/10\n",
      "1500/1500 [==============================] - 1s 991us/step - loss: 0.0328 - accuracy: 0.9902\n",
      "375/375 [==============================] - 0s 737us/step - loss: 0.1166 - accuracy: 0.9681\n",
      "Epoch 1/10\n",
      "1500/1500 [==============================] - 1s 975us/step - loss: 0.3310 - accuracy: 0.9064\n",
      "Epoch 2/10\n",
      "1500/1500 [==============================] - 1s 974us/step - loss: 0.1614 - accuracy: 0.9530\n",
      "Epoch 3/10\n",
      "1500/1500 [==============================] - 1s 970us/step - loss: 0.1178 - accuracy: 0.9652\n",
      "Epoch 4/10\n",
      "1500/1500 [==============================] - 1s 982us/step - loss: 0.0924 - accuracy: 0.9722\n",
      "Epoch 5/10\n",
      "1500/1500 [==============================] - 1s 995us/step - loss: 0.0740 - accuracy: 0.97750s - loss: 0.0732 \n",
      "Epoch 6/10\n",
      "1500/1500 [==============================] - 1s 968us/step - loss: 0.0613 - accuracy: 0.9818\n",
      "Epoch 7/10\n",
      "1500/1500 [==============================] - 1s 979us/step - loss: 0.0517 - accuracy: 0.9847\n",
      "Epoch 8/10\n",
      "1500/1500 [==============================] - 1s 962us/step - loss: 0.0424 - accuracy: 0.9873\n",
      "Epoch 9/10\n",
      "1500/1500 [==============================] - 1s 976us/step - loss: 0.0357 - accuracy: 0.9891\n",
      "Epoch 10/10\n",
      "1500/1500 [==============================] - 1s 994us/step - loss: 0.0309 - accuracy: 0.9904\n",
      "375/375 [==============================] - 0s 721us/step - loss: 0.0920 - accuracy: 0.9747\n",
      "Epoch 1/10\n",
      "1500/1500 [==============================] - 2s 1ms/step - loss: 0.2497 - accuracy: 0.9276\n",
      "Epoch 2/10\n",
      "1500/1500 [==============================] - 2s 1ms/step - loss: 0.1040 - accuracy: 0.9695: 0s - loss: 0.1\n",
      "Epoch 3/10\n",
      "1500/1500 [==============================] - 2s 1ms/step - loss: 0.0687 - accuracy: 0.9787\n",
      "Epoch 4/10\n",
      "1500/1500 [==============================] - 2s 1ms/step - loss: 0.0470 - accuracy: 0.9857\n",
      "Epoch 5/10\n",
      "1500/1500 [==============================] - 2s 1ms/step - loss: 0.0360 - accuracy: 0.9886\n",
      "Epoch 6/10\n",
      "1500/1500 [==============================] - 2s 1ms/step - loss: 0.0252 - accuracy: 0.9924\n",
      "Epoch 7/10\n",
      "1500/1500 [==============================] - 2s 1ms/step - loss: 0.0217 - accuracy: 0.9931\n",
      "Epoch 8/10\n",
      "1500/1500 [==============================] - 2s 1ms/step - loss: 0.0153 - accuracy: 0.9955: 0s - loss: 0.0152 - accuracy: 0.99\n",
      "Epoch 9/10\n",
      "1500/1500 [==============================] - 2s 1ms/step - loss: 0.0146 - accuracy: 0.9953\n",
      "Epoch 10/10\n",
      "1500/1500 [==============================] - 2s 1ms/step - loss: 0.0108 - accuracy: 0.9963\n",
      "375/375 [==============================] - 0s 835us/step - loss: 0.1040 - accuracy: 0.9744\n",
      "Epoch 1/10\n"
     ]
    },
    {
     "name": "stdout",
     "output_type": "stream",
     "text": [
      "1500/1500 [==============================] - 2s 1ms/step - loss: 0.2471 - accuracy: 0.9273\n",
      "Epoch 2/10\n",
      "1500/1500 [==============================] - 2s 1ms/step - loss: 0.1018 - accuracy: 0.9694\n",
      "Epoch 3/10\n",
      "1500/1500 [==============================] - 2s 1ms/step - loss: 0.0668 - accuracy: 0.9804\n",
      "Epoch 4/10\n",
      "1500/1500 [==============================] - 2s 1ms/step - loss: 0.0493 - accuracy: 0.9855\n",
      "Epoch 5/10\n",
      "1500/1500 [==============================] - 2s 1ms/step - loss: 0.0358 - accuracy: 0.9890\n",
      "Epoch 6/10\n",
      "1500/1500 [==============================] - 2s 1ms/step - loss: 0.0272 - accuracy: 0.9914\n",
      "Epoch 7/10\n",
      "1500/1500 [==============================] - 2s 1ms/step - loss: 0.0213 - accuracy: 0.9937\n",
      "Epoch 8/10\n",
      "1500/1500 [==============================] - 2s 1ms/step - loss: 0.0172 - accuracy: 0.9948\n",
      "Epoch 9/10\n",
      "1500/1500 [==============================] - 2s 1ms/step - loss: 0.0143 - accuracy: 0.9956\n",
      "Epoch 10/10\n",
      "1500/1500 [==============================] - 2s 1ms/step - loss: 0.0106 - accuracy: 0.9967\n",
      "375/375 [==============================] - 0s 826us/step - loss: 0.0971 - accuracy: 0.9753\n",
      "Epoch 1/10\n",
      "1500/1500 [==============================] - 2s 1ms/step - loss: 0.2463 - accuracy: 0.9280\n",
      "Epoch 2/10\n",
      "1500/1500 [==============================] - 2s 1ms/step - loss: 0.1023 - accuracy: 0.9688\n",
      "Epoch 3/10\n",
      "1500/1500 [==============================] - 2s 1ms/step - loss: 0.0672 - accuracy: 0.9791\n",
      "Epoch 4/10\n",
      "1500/1500 [==============================] - 2s 1ms/step - loss: 0.0479 - accuracy: 0.9853\n",
      "Epoch 5/10\n",
      "1500/1500 [==============================] - 2s 1ms/step - loss: 0.0353 - accuracy: 0.9889\n",
      "Epoch 6/10\n",
      "1500/1500 [==============================] - 2s 1ms/step - loss: 0.0258 - accuracy: 0.9921: 0s - loss: 0.0258 - accuracy: 0.\n",
      "Epoch 7/10\n",
      "1500/1500 [==============================] - 2s 1ms/step - loss: 0.0211 - accuracy: 0.9929\n",
      "Epoch 8/10\n",
      "1500/1500 [==============================] - 2s 1ms/step - loss: 0.0162 - accuracy: 0.9949\n",
      "Epoch 9/10\n",
      "1500/1500 [==============================] - 2s 1ms/step - loss: 0.0137 - accuracy: 0.9957\n",
      "Epoch 10/10\n",
      "1500/1500 [==============================] - 2s 1ms/step - loss: 0.0110 - accuracy: 0.9964\n",
      "375/375 [==============================] - 0s 853us/step - loss: 0.1054 - accuracy: 0.9764\n",
      "Epoch 1/10\n",
      "1500/1500 [==============================] - 2s 2ms/step - loss: 0.2438 - accuracy: 0.9303\n",
      "Epoch 2/10\n",
      "1500/1500 [==============================] - 2s 1ms/step - loss: 0.1000 - accuracy: 0.9706: 0s\n",
      "Epoch 3/10\n",
      "1500/1500 [==============================] - 2s 2ms/step - loss: 0.0638 - accuracy: 0.9812\n",
      "Epoch 4/10\n",
      "1500/1500 [==============================] - 2s 1ms/step - loss: 0.0470 - accuracy: 0.9853\n",
      "Epoch 5/10\n",
      "1500/1500 [==============================] - 2s 1ms/step - loss: 0.0337 - accuracy: 0.9893: 0s - loss: 0\n",
      "Epoch 6/10\n",
      "1500/1500 [==============================] - 2s 1ms/step - loss: 0.0257 - accuracy: 0.9918\n",
      "Epoch 7/10\n",
      "1500/1500 [==============================] - 2s 1ms/step - loss: 0.0195 - accuracy: 0.9939\n",
      "Epoch 8/10\n",
      "1500/1500 [==============================] - 2s 1ms/step - loss: 0.0154 - accuracy: 0.9950\n",
      "Epoch 9/10\n",
      "1500/1500 [==============================] - 2s 1ms/step - loss: 0.0119 - accuracy: 0.9961\n",
      "Epoch 10/10\n",
      "1500/1500 [==============================] - 2s 1ms/step - loss: 0.0113 - accuracy: 0.9962\n",
      "375/375 [==============================] - 0s 849us/step - loss: 0.1052 - accuracy: 0.9732\n",
      "Epoch 1/10\n",
      "1500/1500 [==============================] - 2s 1ms/step - loss: 0.2493 - accuracy: 0.9285\n",
      "Epoch 2/10\n",
      "1500/1500 [==============================] - 2s 1ms/step - loss: 0.1047 - accuracy: 0.9689\n",
      "Epoch 3/10\n",
      "1500/1500 [==============================] - 2s 1ms/step - loss: 0.0687 - accuracy: 0.9785\n",
      "Epoch 4/10\n",
      "1500/1500 [==============================] - 2s 1ms/step - loss: 0.0478 - accuracy: 0.9856\n",
      "Epoch 5/10\n",
      "1500/1500 [==============================] - 2s 1ms/step - loss: 0.0354 - accuracy: 0.9892\n",
      "Epoch 6/10\n",
      "1500/1500 [==============================] - 2s 1ms/step - loss: 0.0260 - accuracy: 0.9918\n",
      "Epoch 7/10\n",
      "1500/1500 [==============================] - 2s 1ms/step - loss: 0.0199 - accuracy: 0.9938\n",
      "Epoch 8/10\n",
      "1500/1500 [==============================] - 2s 1ms/step - loss: 0.0152 - accuracy: 0.9952: 0s - loss: 0.0151 - accuracy: \n",
      "Epoch 9/10\n",
      "1500/1500 [==============================] - 2s 1ms/step - loss: 0.0134 - accuracy: 0.9955\n",
      "Epoch 10/10\n",
      "1500/1500 [==============================] - 2s 2ms/step - loss: 0.0112 - accuracy: 0.9966\n",
      "375/375 [==============================] - 0s 916us/step - loss: 0.0805 - accuracy: 0.9794\n",
      "Epoch 1/10\n",
      "1875/1875 [==============================] - 3s 1ms/step - loss: 0.2218 - accuracy: 0.9355\n",
      "Epoch 2/10\n",
      "1875/1875 [==============================] - 3s 1ms/step - loss: 0.0901 - accuracy: 0.9724: 0s - loss: 0.0918 - \n",
      "Epoch 3/10\n",
      "1875/1875 [==============================] - 3s 1ms/step - loss: 0.0600 - accuracy: 0.9820\n",
      "Epoch 4/10\n",
      "1875/1875 [==============================] - 3s 1ms/step - loss: 0.0426 - accuracy: 0.9869\n",
      "Epoch 5/10\n",
      "1875/1875 [==============================] - 3s 1ms/step - loss: 0.0310 - accuracy: 0.9901: 0s - l\n",
      "Epoch 6/10\n",
      "1875/1875 [==============================] - 3s 1ms/step - loss: 0.0248 - accuracy: 0.9923\n",
      "Epoch 7/10\n",
      "1875/1875 [==============================] - 3s 1ms/step - loss: 0.0202 - accuracy: 0.9938\n",
      "Epoch 8/10\n",
      "1875/1875 [==============================] - 3s 1ms/step - loss: 0.0149 - accuracy: 0.9950\n",
      "Epoch 9/10\n",
      "1875/1875 [==============================] - 3s 1ms/step - loss: 0.0130 - accuracy: 0.9957\n",
      "Epoch 10/10\n",
      "1875/1875 [==============================] - 3s 1ms/step - loss: 0.0103 - accuracy: 0.9965\n"
     ]
    },
    {
     "data": {
      "text/plain": [
       "GridSearchCV(cv=None, error_score=nan,\n",
       "             estimator=<tensorflow.python.keras.wrappers.scikit_learn.KerasClassifier object at 0x7ffbc1fb6890>,\n",
       "             iid='deprecated', n_jobs=None,\n",
       "             param_grid={'epochs': [1, 5, 10], 'hidden_size': [32, 64, 256]},\n",
       "             pre_dispatch='2*n_jobs', refit=True, return_train_score=False,\n",
       "             scoring=None, verbose=0)"
      ]
     },
     "execution_count": 26,
     "metadata": {},
     "output_type": "execute_result"
    }
   ],
   "source": [
    "clf = KerasClassifier(make_model)\n",
    "param_grid = {'epochs': [1, 5, 10],\n",
    "             'hidden_size': [32, 64, 256]}\n",
    "grid = GridSearchCV(clf, param_grid=param_grid)\n",
    "grid.fit(X_train, y_train)"
   ]
  },
  {
   "cell_type": "code",
   "execution_count": 31,
   "metadata": {},
   "outputs": [
    {
     "data": {
      "text/html": [
       "<div>\n",
       "<style scoped>\n",
       "    .dataframe tbody tr th:only-of-type {\n",
       "        vertical-align: middle;\n",
       "    }\n",
       "\n",
       "    .dataframe tbody tr th {\n",
       "        vertical-align: top;\n",
       "    }\n",
       "\n",
       "    .dataframe thead th {\n",
       "        text-align: right;\n",
       "    }\n",
       "</style>\n",
       "<table border=\"1\" class=\"dataframe\">\n",
       "  <thead>\n",
       "    <tr style=\"text-align: right;\">\n",
       "      <th></th>\n",
       "      <th></th>\n",
       "      <th>mean_test_score</th>\n",
       "    </tr>\n",
       "    <tr>\n",
       "      <th>param_epochs</th>\n",
       "      <th>param_hidden_size</th>\n",
       "      <th></th>\n",
       "    </tr>\n",
       "  </thead>\n",
       "  <tbody>\n",
       "    <tr>\n",
       "      <td rowspan=\"3\" valign=\"top\">1</td>\n",
       "      <td>32</td>\n",
       "      <td>0.932867</td>\n",
       "    </tr>\n",
       "    <tr>\n",
       "      <td>64</td>\n",
       "      <td>0.939067</td>\n",
       "    </tr>\n",
       "    <tr>\n",
       "      <td>256</td>\n",
       "      <td>0.956350</td>\n",
       "    </tr>\n",
       "    <tr>\n",
       "      <td rowspan=\"3\" valign=\"top\">5</td>\n",
       "      <td>32</td>\n",
       "      <td>0.955733</td>\n",
       "    </tr>\n",
       "    <tr>\n",
       "      <td>64</td>\n",
       "      <td>0.967050</td>\n",
       "    </tr>\n",
       "    <tr>\n",
       "      <td>256</td>\n",
       "      <td>0.973233</td>\n",
       "    </tr>\n",
       "    <tr>\n",
       "      <td rowspan=\"3\" valign=\"top\">10</td>\n",
       "      <td>32</td>\n",
       "      <td>0.961633</td>\n",
       "    </tr>\n",
       "    <tr>\n",
       "      <td>64</td>\n",
       "      <td>0.970967</td>\n",
       "    </tr>\n",
       "    <tr>\n",
       "      <td>256</td>\n",
       "      <td>0.975767</td>\n",
       "    </tr>\n",
       "  </tbody>\n",
       "</table>\n",
       "</div>"
      ],
      "text/plain": [
       "                                mean_test_score\n",
       "param_epochs param_hidden_size                 \n",
       "1            32                        0.932867\n",
       "             64                        0.939067\n",
       "             256                       0.956350\n",
       "5            32                        0.955733\n",
       "             64                        0.967050\n",
       "             256                       0.973233\n",
       "10           32                        0.961633\n",
       "             64                        0.970967\n",
       "             256                       0.975767"
      ]
     },
     "execution_count": 31,
     "metadata": {},
     "output_type": "execute_result"
    }
   ],
   "source": [
    "res = pd.DataFrame(grid.cv_results_)\n",
    "res.pivot_table(index=[\"param_epochs\", \"param_hidden_size\"],\n",
    "              values=['mean_test_score'])"
   ]
  },
  {
   "cell_type": "code",
   "execution_count": 29,
   "metadata": {},
   "outputs": [
    {
     "data": {
      "text/html": [
       "<div>\n",
       "<style scoped>\n",
       "    .dataframe tbody tr th:only-of-type {\n",
       "        vertical-align: middle;\n",
       "    }\n",
       "\n",
       "    .dataframe tbody tr th {\n",
       "        vertical-align: top;\n",
       "    }\n",
       "\n",
       "    .dataframe thead th {\n",
       "        text-align: right;\n",
       "    }\n",
       "</style>\n",
       "<table border=\"1\" class=\"dataframe\">\n",
       "  <thead>\n",
       "    <tr style=\"text-align: right;\">\n",
       "      <th></th>\n",
       "      <th>mean_fit_time</th>\n",
       "      <th>std_fit_time</th>\n",
       "      <th>mean_score_time</th>\n",
       "      <th>std_score_time</th>\n",
       "      <th>param_epochs</th>\n",
       "      <th>param_hidden_size</th>\n",
       "      <th>params</th>\n",
       "      <th>split0_test_score</th>\n",
       "      <th>split1_test_score</th>\n",
       "      <th>split2_test_score</th>\n",
       "      <th>split3_test_score</th>\n",
       "      <th>split4_test_score</th>\n",
       "      <th>mean_test_score</th>\n",
       "      <th>std_test_score</th>\n",
       "      <th>rank_test_score</th>\n",
       "    </tr>\n",
       "  </thead>\n",
       "  <tbody>\n",
       "    <tr>\n",
       "      <td>0</td>\n",
       "      <td>1.682788</td>\n",
       "      <td>0.054169</td>\n",
       "      <td>0.372511</td>\n",
       "      <td>0.026101</td>\n",
       "      <td>1</td>\n",
       "      <td>32</td>\n",
       "      <td>{'epochs': 1, 'hidden_size': 32}</td>\n",
       "      <td>0.937000</td>\n",
       "      <td>0.933750</td>\n",
       "      <td>0.931583</td>\n",
       "      <td>0.924250</td>\n",
       "      <td>0.937750</td>\n",
       "      <td>0.932867</td>\n",
       "      <td>0.004850</td>\n",
       "      <td>9</td>\n",
       "    </tr>\n",
       "    <tr>\n",
       "      <td>1</td>\n",
       "      <td>1.798910</td>\n",
       "      <td>0.033379</td>\n",
       "      <td>0.386277</td>\n",
       "      <td>0.020759</td>\n",
       "      <td>1</td>\n",
       "      <td>64</td>\n",
       "      <td>{'epochs': 1, 'hidden_size': 64}</td>\n",
       "      <td>0.943750</td>\n",
       "      <td>0.938417</td>\n",
       "      <td>0.943000</td>\n",
       "      <td>0.930833</td>\n",
       "      <td>0.939333</td>\n",
       "      <td>0.939067</td>\n",
       "      <td>0.004598</td>\n",
       "      <td>8</td>\n",
       "    </tr>\n",
       "    <tr>\n",
       "      <td>2</td>\n",
       "      <td>2.568483</td>\n",
       "      <td>0.225748</td>\n",
       "      <td>0.427653</td>\n",
       "      <td>0.016783</td>\n",
       "      <td>1</td>\n",
       "      <td>256</td>\n",
       "      <td>{'epochs': 1, 'hidden_size': 256}</td>\n",
       "      <td>0.960500</td>\n",
       "      <td>0.955833</td>\n",
       "      <td>0.955417</td>\n",
       "      <td>0.949750</td>\n",
       "      <td>0.960250</td>\n",
       "      <td>0.956350</td>\n",
       "      <td>0.003928</td>\n",
       "      <td>6</td>\n",
       "    </tr>\n",
       "    <tr>\n",
       "      <td>3</td>\n",
       "      <td>6.768586</td>\n",
       "      <td>0.231140</td>\n",
       "      <td>0.360239</td>\n",
       "      <td>0.023207</td>\n",
       "      <td>5</td>\n",
       "      <td>32</td>\n",
       "      <td>{'epochs': 5, 'hidden_size': 32}</td>\n",
       "      <td>0.955833</td>\n",
       "      <td>0.954250</td>\n",
       "      <td>0.952833</td>\n",
       "      <td>0.954833</td>\n",
       "      <td>0.960917</td>\n",
       "      <td>0.955733</td>\n",
       "      <td>0.002768</td>\n",
       "      <td>7</td>\n",
       "    </tr>\n",
       "    <tr>\n",
       "      <td>4</td>\n",
       "      <td>8.449041</td>\n",
       "      <td>0.368634</td>\n",
       "      <td>0.411714</td>\n",
       "      <td>0.008787</td>\n",
       "      <td>5</td>\n",
       "      <td>64</td>\n",
       "      <td>{'epochs': 5, 'hidden_size': 64}</td>\n",
       "      <td>0.968750</td>\n",
       "      <td>0.965417</td>\n",
       "      <td>0.966583</td>\n",
       "      <td>0.965000</td>\n",
       "      <td>0.969500</td>\n",
       "      <td>0.967050</td>\n",
       "      <td>0.001788</td>\n",
       "      <td>4</td>\n",
       "    </tr>\n",
       "    <tr>\n",
       "      <td>5</td>\n",
       "      <td>10.518342</td>\n",
       "      <td>0.193773</td>\n",
       "      <td>0.432971</td>\n",
       "      <td>0.013694</td>\n",
       "      <td>5</td>\n",
       "      <td>256</td>\n",
       "      <td>{'epochs': 5, 'hidden_size': 256}</td>\n",
       "      <td>0.973500</td>\n",
       "      <td>0.976500</td>\n",
       "      <td>0.971750</td>\n",
       "      <td>0.970500</td>\n",
       "      <td>0.973917</td>\n",
       "      <td>0.973233</td>\n",
       "      <td>0.002044</td>\n",
       "      <td>2</td>\n",
       "    </tr>\n",
       "    <tr>\n",
       "      <td>6</td>\n",
       "      <td>13.248056</td>\n",
       "      <td>0.253227</td>\n",
       "      <td>0.377345</td>\n",
       "      <td>0.005746</td>\n",
       "      <td>10</td>\n",
       "      <td>32</td>\n",
       "      <td>{'epochs': 10, 'hidden_size': 32}</td>\n",
       "      <td>0.965083</td>\n",
       "      <td>0.962167</td>\n",
       "      <td>0.957583</td>\n",
       "      <td>0.955750</td>\n",
       "      <td>0.967583</td>\n",
       "      <td>0.961633</td>\n",
       "      <td>0.004441</td>\n",
       "      <td>5</td>\n",
       "    </tr>\n",
       "    <tr>\n",
       "      <td>7</td>\n",
       "      <td>15.140566</td>\n",
       "      <td>0.073578</td>\n",
       "      <td>0.405299</td>\n",
       "      <td>0.002727</td>\n",
       "      <td>10</td>\n",
       "      <td>64</td>\n",
       "      <td>{'epochs': 10, 'hidden_size': 64}</td>\n",
       "      <td>0.971917</td>\n",
       "      <td>0.969250</td>\n",
       "      <td>0.970833</td>\n",
       "      <td>0.968083</td>\n",
       "      <td>0.974750</td>\n",
       "      <td>0.970967</td>\n",
       "      <td>0.002302</td>\n",
       "      <td>3</td>\n",
       "    </tr>\n",
       "    <tr>\n",
       "      <td>8</td>\n",
       "      <td>21.587632</td>\n",
       "      <td>0.313917</td>\n",
       "      <td>0.452671</td>\n",
       "      <td>0.013569</td>\n",
       "      <td>10</td>\n",
       "      <td>256</td>\n",
       "      <td>{'epochs': 10, 'hidden_size': 256}</td>\n",
       "      <td>0.974417</td>\n",
       "      <td>0.975333</td>\n",
       "      <td>0.976417</td>\n",
       "      <td>0.973250</td>\n",
       "      <td>0.979417</td>\n",
       "      <td>0.975767</td>\n",
       "      <td>0.002102</td>\n",
       "      <td>1</td>\n",
       "    </tr>\n",
       "  </tbody>\n",
       "</table>\n",
       "</div>"
      ],
      "text/plain": [
       "   mean_fit_time  std_fit_time  mean_score_time  std_score_time param_epochs  \\\n",
       "0       1.682788      0.054169         0.372511        0.026101            1   \n",
       "1       1.798910      0.033379         0.386277        0.020759            1   \n",
       "2       2.568483      0.225748         0.427653        0.016783            1   \n",
       "3       6.768586      0.231140         0.360239        0.023207            5   \n",
       "4       8.449041      0.368634         0.411714        0.008787            5   \n",
       "5      10.518342      0.193773         0.432971        0.013694            5   \n",
       "6      13.248056      0.253227         0.377345        0.005746           10   \n",
       "7      15.140566      0.073578         0.405299        0.002727           10   \n",
       "8      21.587632      0.313917         0.452671        0.013569           10   \n",
       "\n",
       "  param_hidden_size                              params  split0_test_score  \\\n",
       "0                32    {'epochs': 1, 'hidden_size': 32}           0.937000   \n",
       "1                64    {'epochs': 1, 'hidden_size': 64}           0.943750   \n",
       "2               256   {'epochs': 1, 'hidden_size': 256}           0.960500   \n",
       "3                32    {'epochs': 5, 'hidden_size': 32}           0.955833   \n",
       "4                64    {'epochs': 5, 'hidden_size': 64}           0.968750   \n",
       "5               256   {'epochs': 5, 'hidden_size': 256}           0.973500   \n",
       "6                32   {'epochs': 10, 'hidden_size': 32}           0.965083   \n",
       "7                64   {'epochs': 10, 'hidden_size': 64}           0.971917   \n",
       "8               256  {'epochs': 10, 'hidden_size': 256}           0.974417   \n",
       "\n",
       "   split1_test_score  split2_test_score  split3_test_score  split4_test_score  \\\n",
       "0           0.933750           0.931583           0.924250           0.937750   \n",
       "1           0.938417           0.943000           0.930833           0.939333   \n",
       "2           0.955833           0.955417           0.949750           0.960250   \n",
       "3           0.954250           0.952833           0.954833           0.960917   \n",
       "4           0.965417           0.966583           0.965000           0.969500   \n",
       "5           0.976500           0.971750           0.970500           0.973917   \n",
       "6           0.962167           0.957583           0.955750           0.967583   \n",
       "7           0.969250           0.970833           0.968083           0.974750   \n",
       "8           0.975333           0.976417           0.973250           0.979417   \n",
       "\n",
       "   mean_test_score  std_test_score  rank_test_score  \n",
       "0         0.932867        0.004850                9  \n",
       "1         0.939067        0.004598                8  \n",
       "2         0.956350        0.003928                6  \n",
       "3         0.955733        0.002768                7  \n",
       "4         0.967050        0.001788                4  \n",
       "5         0.973233        0.002044                2  \n",
       "6         0.961633        0.004441                5  \n",
       "7         0.970967        0.002302                3  \n",
       "8         0.975767        0.002102                1  "
      ]
     },
     "execution_count": 29,
     "metadata": {},
     "output_type": "execute_result"
    }
   ],
   "source": [
    "res"
   ]
  },
  {
   "cell_type": "markdown",
   "metadata": {},
   "source": [
    "### Convolutional Neural Networks\n",
    "If you are working on images, you'd like your model to be invariant to small translation. One way to encode this translation in variance is weight sharing, which means you apply the same coefficients to different locations in the image. \n",
    "\n",
    "#### Preparing Data"
   ]
  },
  {
   "cell_type": "code",
   "execution_count": 33,
   "metadata": {},
   "outputs": [],
   "source": [
    "batch_size = 128\n",
    "num_classes = 10\n",
    "epochs = 12\n",
    "\n",
    "# input image dimensions\n",
    "img_rows, img_cols = 28, 28\n",
    "\n",
    "# the data, shuffled and split between train and test sets\n",
    "(x_train, y_train), (x_test, y_test) = mnist.load_data()\n",
    "\n",
    "X_train_images = x_train.reshape(x_train.shape[0], img_rows, img_cols, 1)\n",
    "X_test_images = x_test.reshape(x_test.shape[0], img_rows, img_cols, 1)\n",
    "input_shape = (img_rows, img_cols, 1)\n",
    "\n",
    "y_train = keras.utils.to_categorical(y_train, num_classes)\n",
    "y_test = keras.utils.to_categorical(y_test, num_classes)"
   ]
  },
  {
   "cell_type": "markdown",
   "metadata": {},
   "source": [
    "#### Create a tiny network"
   ]
  },
  {
   "cell_type": "code",
   "execution_count": 34,
   "metadata": {},
   "outputs": [],
   "source": [
    "from keras.layers import Conv2D, MaxPooling2D, Flatten\n",
    "\n",
    "num_classes = 10\n",
    "cnn = Sequential()\n",
    "cnn.add(Conv2D(32, kernel_size=(3, 3),\n",
    "              activation='relu',\n",
    "              input_shape=input_shape))\n",
    "\n",
    "cnn.add(MaxPooling2D(pool_size=(2, 2)))\n",
    "cnn.add(Conv2D(32, (3, 3,), activation='relu'))\n",
    "cnn.add(MaxPooling2D(pool_size=(2, 2)))\n",
    "cnn.add(Flatten())\n",
    "cnn.add(Dense(64, activation='relu'))\n",
    "cnn.add(Dense(num_classes, activation='softmax'))"
   ]
  },
  {
   "cell_type": "code",
   "execution_count": 35,
   "metadata": {},
   "outputs": [
    {
     "name": "stdout",
     "output_type": "stream",
     "text": [
      "Epoch 1/20\n",
      "422/422 [==============================] - 19s 45ms/step - loss: 0.8007 - accuracy: 0.8724 - val_loss: 0.1027 - val_accuracy: 0.9685\n",
      "Epoch 2/20\n",
      "422/422 [==============================] - 17s 40ms/step - loss: 0.0949 - accuracy: 0.9712 - val_loss: 0.0702 - val_accuracy: 0.9815\n",
      "Epoch 3/20\n",
      "422/422 [==============================] - 17s 41ms/step - loss: 0.0586 - accuracy: 0.9816 - val_loss: 0.0652 - val_accuracy: 0.9830\n",
      "Epoch 4/20\n",
      "422/422 [==============================] - 17s 41ms/step - loss: 0.0426 - accuracy: 0.9865 - val_loss: 0.0639 - val_accuracy: 0.9832\n",
      "Epoch 5/20\n",
      "422/422 [==============================] - 17s 41ms/step - loss: 0.0348 - accuracy: 0.9889 - val_loss: 0.0546 - val_accuracy: 0.9865\n",
      "Epoch 6/20\n",
      "422/422 [==============================] - 17s 41ms/step - loss: 0.0292 - accuracy: 0.9903 - val_loss: 0.0662 - val_accuracy: 0.9833\n",
      "Epoch 7/20\n",
      "422/422 [==============================] - 17s 40ms/step - loss: 0.0228 - accuracy: 0.9923 - val_loss: 0.0649 - val_accuracy: 0.9853\n",
      "Epoch 8/20\n",
      "422/422 [==============================] - 17s 40ms/step - loss: 0.0229 - accuracy: 0.9926 - val_loss: 0.0468 - val_accuracy: 0.9883\n",
      "Epoch 9/20\n",
      "422/422 [==============================] - 18s 43ms/step - loss: 0.0201 - accuracy: 0.9934 - val_loss: 0.0553 - val_accuracy: 0.9867\n",
      "Epoch 10/20\n",
      "422/422 [==============================] - 17s 41ms/step - loss: 0.0209 - accuracy: 0.9932 - val_loss: 0.0720 - val_accuracy: 0.9850\n",
      "Epoch 11/20\n",
      "422/422 [==============================] - 16s 39ms/step - loss: 0.0171 - accuracy: 0.9945 - val_loss: 0.0809 - val_accuracy: 0.9840\n",
      "Epoch 12/20\n",
      "422/422 [==============================] - 16s 37ms/step - loss: 0.0244 - accuracy: 0.9924 - val_loss: 0.0711 - val_accuracy: 0.9872\n",
      "Epoch 13/20\n",
      "422/422 [==============================] - 17s 41ms/step - loss: 0.0136 - accuracy: 0.9952 - val_loss: 0.0767 - val_accuracy: 0.9875\n",
      "Epoch 14/20\n",
      "422/422 [==============================] - 17s 40ms/step - loss: 0.0118 - accuracy: 0.9963 - val_loss: 0.0786 - val_accuracy: 0.9860\n",
      "Epoch 15/20\n",
      "422/422 [==============================] - 17s 40ms/step - loss: 0.0150 - accuracy: 0.9950 - val_loss: 0.1142 - val_accuracy: 0.9795\n",
      "Epoch 16/20\n",
      "422/422 [==============================] - 17s 40ms/step - loss: 0.0155 - accuracy: 0.9952 - val_loss: 0.0940 - val_accuracy: 0.9840\n",
      "Epoch 17/20\n",
      "422/422 [==============================] - 17s 41ms/step - loss: 0.0146 - accuracy: 0.9952 - val_loss: 0.0750 - val_accuracy: 0.9860\n",
      "Epoch 18/20\n",
      "422/422 [==============================] - 16s 38ms/step - loss: 0.0104 - accuracy: 0.9968 - val_loss: 0.0645 - val_accuracy: 0.9878\n",
      "Epoch 19/20\n",
      "422/422 [==============================] - 16s 38ms/step - loss: 0.0122 - accuracy: 0.9961 - val_loss: 0.0734 - val_accuracy: 0.9887\n",
      "Epoch 20/20\n",
      "422/422 [==============================] - 16s 38ms/step - loss: 0.0129 - accuracy: 0.9959 - val_loss: 0.0849 - val_accuracy: 0.9877\n",
      "313/313 [==============================] - 1s 2ms/step - loss: 0.0711 - accuracy: 0.9867\n"
     ]
    },
    {
     "data": {
      "text/plain": [
       "[0.07107798755168915, 0.9866999983787537]"
      ]
     },
     "execution_count": 35,
     "metadata": {},
     "output_type": "execute_result"
    }
   ],
   "source": [
    "cnn.compile(\"adam\", \"categorical_crossentropy\", metrics=['accuracy'])\n",
    "\n",
    "history_cnn = cnn.fit(X_train_images, y_train, batch_size=128, epochs=20, verbose=1, validation_split=0.1)\n",
    "\n",
    "cnn.evaluate(X_test_images, y_test)"
   ]
  },
  {
   "cell_type": "code",
   "execution_count": null,
   "metadata": {},
   "outputs": [],
   "source": [
    "weights, biases = cnn.layers[0].get_weights()\n",
    "weights2, biases2 = cnn.layers[2].get_weights()\n",
    "print(weights.shape)\n",
    "print(weights2.shape)"
   ]
  }
 ],
 "metadata": {
  "kernelspec": {
   "display_name": "Python 3",
   "language": "python",
   "name": "python3"
  },
  "language_info": {
   "codemirror_mode": {
    "name": "ipython",
    "version": 3
   },
   "file_extension": ".py",
   "mimetype": "text/x-python",
   "name": "python",
   "nbconvert_exporter": "python",
   "pygments_lexer": "ipython3",
   "version": "3.7.4"
  }
 },
 "nbformat": 4,
 "nbformat_minor": 2
}
